{
 "cells": [
  {
   "cell_type": "code",
   "execution_count": 1,
   "metadata": {},
   "outputs": [],
   "source": [
    "import numpy as np\n",
    "from lenstronomy.LensModel.lens_model import LensModel\n",
    "from lenstronomy.LensModel.Solver.lens_equation_solver import LensEquationSolver\n",
    "from lenstronomy.LensModel.Solver.epl_shear_solver import caustics_epl_shear\n",
    "from shapely.geometry import Polygon\n",
    "import pointpats\n",
    "import matplotlib.pyplot as plt"
   ]
  },
  {
   "cell_type": "code",
   "execution_count": 26,
   "metadata": {},
   "outputs": [],
   "source": [
    "from ler.utils import add_dictionaries_together, trim_dictionary\n",
    "from ler.lens_galaxy_population.jit_functions import velocity_dispersion_z_dependent, axis_ratio_rayleigh, phi_q2_ellipticity_hemanta\n",
    "from ler.utils import inverse_transform_sampler, cubic_spline_interpolator\n",
    "from numba import njit\n",
    "\n",
    "\n",
    "def sample_lens_parameters(size, zs, zl, z_list, vd_inv_cdf):\n",
    "    \"\"\"\n",
    "        Function to sample galaxy lens parameters along with the source parameters.\n",
    "    \"\"\"\n",
    "    zs = np.array([zs] * size)\n",
    "    zl = np.array([zl] * size)\n",
    "\n",
    "    # Sample velocity dispersions\n",
    "    vd_inv_cdf_coeff = vd_inv_cdf[:,0]\n",
    "    vd_list = vd_inv_cdf[0,1]\n",
    "    cdf = vd_inv_cdf_coeff[np.searchsorted(z_list, zl)]\n",
    "    sigma = inverse_transform_sampler(size, cdf, vd_list)                                                                                                \n",
    "    # Sample axis ratios\n",
    "    q = axis_ratio_rayleigh(sigma)\n",
    "    \n",
    "\n",
    "    # axis rotation angle\n",
    "    phi = np.random.uniform(0.0, 2 * np.pi, size)\n",
    "\n",
    "    # Transform the axis ratio and the angle, to ellipticities e1, e2, using lenstronomy\n",
    "    e1, e2 = phi_q2_ellipticity_hemanta(phi, q)\n",
    "\n",
    "    # Sample shears\n",
    "    gamma1, gamma2 = np.random.normal(loc=0, scale=0.05,size=(2,size))\n",
    "\n",
    "    # Sample the spectral index of the mass density distribution\n",
    "    gamma = np.random.normal(loc=2.0, scale=0.2, size=size)\n",
    "\n",
    "    return zs, zl, sigma, q, phi, e1, e2, gamma1, gamma2, gamma"
   ]
  },
  {
   "cell_type": "code",
   "execution_count": 9,
   "metadata": {},
   "outputs": [
    {
     "name": "stdout",
     "output_type": "stream",
     "text": [
      "z_to_Dc interpolator will be loaded from ./interpolator_pickle/z_to_Dc/z_to_Dc_0.pickle\n",
      "Dc_to_z interpolator will be loaded from ./interpolator_pickle/Dc_to_z/Dc_to_z_0.pickle\n",
      "angular_diameter_distance interpolator will be loaded from ./interpolator_pickle/angular_diameter_distance/angular_diameter_distance_0.pickle\n",
      "differential_comoving_volume interpolator will be loaded from ./interpolator_pickle/differential_comoving_volume/differential_comoving_volume_1.pickle\n",
      "velocity_dispersion_ewoud interpolator will be generated at ./interpolator_pickle/velocity_dispersion_ewoud/velocity_dispersion_ewoud_1.pickle\n",
      "optical_depth_SIE_hemanta interpolator will be generated at ./interpolator_pickle/optical_depth_SIE_hemanta/optical_depth_SIE_hemanta_2.pickle\n"
     ]
    }
   ],
   "source": [
    "from ler.lens_galaxy_population import OpticalDepth\n",
    "\n",
    "od = OpticalDepth(\n",
    "    optical_depth_function = \"optical_depth_SIE_hemanta\",\n",
    "    sampler_priors= dict(\n",
    "            velocity_dispersion=\"velocity_dispersion_ewoud\",\n",
    "            axis_ratio=\"axis_ratio_rayleigh\",\n",
    "        ),\n",
    "    sampler_priors_params=dict(\n",
    "            velocity_dispersion=dict(vd_min=10., vd_max=420.),\n",
    "            axis_ratio=dict(q_min=0.2, q_max=1.0),\n",
    "        ),\n",
    "    cosmology=None,\n",
    ")"
   ]
  },
  {
   "cell_type": "code",
   "execution_count": 38,
   "metadata": {},
   "outputs": [],
   "source": [
    "zs = np.geomspace(od.z_min, od.z_max, 100)\n",
    "\n",
    "zs = np.array([zs]).reshape(-1)\n",
    "no = 8*1e-3*od.cosmo.h**3\n",
    "vd_inv_cdf = od.vd_inv_cdf\n",
    "splinedVcdz = od.splinedVcdz\n",
    "splineDa = od.splineDa\n",
    "idx = np.arange(len(zs))\n",
    "try:\n",
    "    zl_list = od.zl_list\n",
    "    input_params = [(zs[i], no, vd_inv_cdf, splinedVcdz, splineDa, idx[i], zl_list) for i in range(len(zs))]\n",
    "except:\n",
    "    input_params = [(zs[i], no, vd_inv_cdf, splinedVcdz, splineDa, idx[i]) for i in range(len(zs))]\n"
   ]
  },
  {
   "cell_type": "code",
   "execution_count": 100,
   "metadata": {},
   "outputs": [],
   "source": [
    "params = input_params[80]\n",
    "# integrand\n",
    "zs = params[0]\n",
    "no = params[1]\n",
    "z_list = params[6]\n",
    "vd_inv_cdf = params[2]\n",
    "vd_inv_cdf_coeff = vd_inv_cdf[:,0]\n",
    "vd_list = vd_inv_cdf[0,1]\n",
    "vd_sampler = njit(lambda size_,zl_: inverse_transform_sampler(size_, vd_inv_cdf_coeff[np.searchsorted(z_list, zl_)], vd_list))\n",
    "\n",
    "splineDa = params[4]\n",
    "splineDa_coeff = splineDa[0]\n",
    "splineDa_z_list = splineDa[1]\n",
    "Da_zs = cubic_spline_interpolator(np.array([zs]), splineDa_coeff, splineDa_z_list)[0]\n",
    "Da = njit(lambda zl_: cubic_spline_interpolator(np.array([zl_]), splineDa_coeff, splineDa_z_list)[0])\n",
    "\n",
    "splinedVcdz = params[3]\n",
    "dVcdz = njit(lambda zl_: cubic_spline_interpolator(np.array([zl_]), splinedVcdz[0], splinedVcdz[1])[0])"
   ]
  },
  {
   "cell_type": "code",
   "execution_count": 154,
   "metadata": {},
   "outputs": [],
   "source": [
    "# @njit makes it slower\n",
    "def sample_lens_params(zl, zs, size=5000):\n",
    "\n",
    "    # velocity dispersion #\n",
    "    sigma = vd_sampler(size, zl)\n",
    "\n",
    "    # Sample axis ratios\n",
    "    q = axis_ratio_rayleigh(sigma)\n",
    "    \n",
    "\n",
    "    # axis rotation angle\n",
    "    phi = np.random.uniform(0.0, 2 * np.pi, size)\n",
    "\n",
    "    # Transform the axis ratio and the angle, to ellipticities e1, e2, using lenstronomy\n",
    "    e1, e2 = phi_q2_ellipticity_hemanta(phi, q)\n",
    "\n",
    "    # Sample shears\n",
    "    gamma1, gamma2 = np.random.normal(loc=0, scale=0.05,size=(2,size))\n",
    "\n",
    "    # Sample the spectral index of the mass density distribution\n",
    "    gamma = np.random.normal(loc=2.0, scale=0.2, size=size)\n",
    "\n",
    "    # einstein radius \n",
    "    Dls = (Da_zs*(1+zs) - Da(zl)*(1+zl))/(1+zs)\n",
    "    theta_E = (\n",
    "        4.0 * np.pi * (sigma / 299792.458) ** 2 * Dls / Da_zs\n",
    "    )  # Note: km/s for sigma; Dls, Ds are in Mpc\n",
    "\n",
    "    return theta_E, e1, e2, gamma1, gamma2, gamma\n",
    "\n",
    "def tau_integrand(zl, zs):\n",
    "\n",
    "    size=10000\n",
    "    final_size = 0\n",
    "    area_list = []\n",
    "\n",
    "    while final_size < size:\n",
    "        size = size - final_size\n",
    "        theta_E, e1, e2, gamma1, gamma2, gamma = sample_lens_params(zl, zs, size=size)\n",
    "\n",
    "        for i in range(size):\n",
    "            kwargs_lens = [\n",
    "                {\n",
    "                    \"theta_E\": theta_E[i],\n",
    "                    \"e1\": e1[i],\n",
    "                    \"e2\": e2[i],\n",
    "                    \"gamma\": gamma[i],\n",
    "                    \"center_x\": 0.0,\n",
    "                    \"center_y\": 0.0,\n",
    "                },\n",
    "                {\n",
    "                    \"gamma1\": gamma1[i],\n",
    "                    \"gamma2\": gamma2[i],\n",
    "                    \"ra_0\": 0,\n",
    "                    \"dec_0\": 0,\n",
    "                },\n",
    "            ]\n",
    "            \n",
    "            caustic_double_points = caustics_epl_shear(\n",
    "                kwargs_lens, return_which=\"double\", maginf=-100\n",
    "            )\n",
    "            caustic = np.logical_not(np.isnan(caustic_double_points).any())\n",
    "\n",
    "            # If there is a nan, caustic=False, draw a new gamma\n",
    "            if caustic:\n",
    "                area_list.append(Polygon(caustic_double_points.T).area)\n",
    "\n",
    "        final_size = len(area_list)\n",
    "\n",
    "    result_EPL = np.array(area_list)/(4*np.pi) * no * dVcdz(zl)\n",
    "    # result_SIS = (theta_E**2)/4 * no * dVcdz(zl)\n",
    "\n",
    "    return np.mean(result_EPL[result_EPL<1.0]) #, np.mean(result_SIS)"
   ]
  },
  {
   "cell_type": "code",
   "execution_count": 158,
   "metadata": {},
   "outputs": [
    {
     "data": {
      "text/plain": [
       "0.0007581898239659627"
      ]
     },
     "execution_count": 158,
     "metadata": {},
     "output_type": "execute_result"
    }
   ],
   "source": [
    "tau_integrand(zl=0.2, zs=zs)"
   ]
  },
  {
   "cell_type": "code",
   "execution_count": 159,
   "metadata": {},
   "outputs": [
    {
     "data": {
      "text/plain": [
       "1.7073526474706922"
      ]
     },
     "execution_count": 159,
     "metadata": {},
     "output_type": "execute_result"
    }
   ],
   "source": [
    "zs"
   ]
  },
  {
   "cell_type": "code",
   "execution_count": 157,
   "metadata": {},
   "outputs": [
    {
     "data": {
      "text/plain": [
       "0.0014570301825239825"
      ]
     },
     "execution_count": 157,
     "metadata": {},
     "output_type": "execute_result"
    }
   ],
   "source": [
    "from scipy.integrate import quad\n",
    "quad(tau_integrand, 0, zs, args=(zs))[0]\n",
    "# size = 5000, time: 7min 30s, zs: 1.7073526474706922, result: 0.0022865836969687614\n",
    "# size = 1000, time: 9min , zs: 1.7073526474706922, result: 0.0014619830096881863\n",
    "# size = 10000, time: , zs: 1.7073526474706922, result: "
   ]
  },
  {
   "cell_type": "code",
   "execution_count": 156,
   "metadata": {},
   "outputs": [
    {
     "ename": "KeyboardInterrupt",
     "evalue": "",
     "output_type": "error",
     "traceback": [
      "\u001b[0;31m---------------------------------------------------------------------------\u001b[0m",
      "\u001b[0;31mKeyboardInterrupt\u001b[0m                         Traceback (most recent call last)",
      "Cell \u001b[0;32mIn[156], line 2\u001b[0m\n\u001b[1;32m      1\u001b[0m zl \u001b[38;5;241m=\u001b[39m np\u001b[38;5;241m.\u001b[39mrandom\u001b[38;5;241m.\u001b[39muniform(\u001b[38;5;241m0.0\u001b[39m, zs, \u001b[38;5;241m100\u001b[39m)\n\u001b[0;32m----> 2\u001b[0m tau_integrand_list \u001b[38;5;241m=\u001b[39m [tau_integrand(zl_, zs) \u001b[38;5;28;01mfor\u001b[39;00m zl_ \u001b[38;5;129;01min\u001b[39;00m zl]\n",
      "Cell \u001b[0;32mIn[156], line 2\u001b[0m, in \u001b[0;36m<listcomp>\u001b[0;34m(.0)\u001b[0m\n\u001b[1;32m      1\u001b[0m zl \u001b[38;5;241m=\u001b[39m np\u001b[38;5;241m.\u001b[39mrandom\u001b[38;5;241m.\u001b[39muniform(\u001b[38;5;241m0.0\u001b[39m, zs, \u001b[38;5;241m100\u001b[39m)\n\u001b[0;32m----> 2\u001b[0m tau_integrand_list \u001b[38;5;241m=\u001b[39m [\u001b[43mtau_integrand\u001b[49m\u001b[43m(\u001b[49m\u001b[43mzl_\u001b[49m\u001b[43m,\u001b[49m\u001b[43m \u001b[49m\u001b[43mzs\u001b[49m\u001b[43m)\u001b[49m \u001b[38;5;28;01mfor\u001b[39;00m zl_ \u001b[38;5;129;01min\u001b[39;00m zl]\n",
      "Cell \u001b[0;32mIn[154], line 59\u001b[0m, in \u001b[0;36mtau_integrand\u001b[0;34m(zl, zs)\u001b[0m\n\u001b[1;32m     41\u001b[0m \u001b[38;5;28;01mfor\u001b[39;00m i \u001b[38;5;129;01min\u001b[39;00m \u001b[38;5;28mrange\u001b[39m(size):\n\u001b[1;32m     42\u001b[0m     kwargs_lens \u001b[38;5;241m=\u001b[39m [\n\u001b[1;32m     43\u001b[0m         {\n\u001b[1;32m     44\u001b[0m             \u001b[38;5;124m\"\u001b[39m\u001b[38;5;124mtheta_E\u001b[39m\u001b[38;5;124m\"\u001b[39m: theta_E[i],\n\u001b[0;32m   (...)\u001b[0m\n\u001b[1;32m     56\u001b[0m         },\n\u001b[1;32m     57\u001b[0m     ]\n\u001b[0;32m---> 59\u001b[0m     caustic_double_points \u001b[38;5;241m=\u001b[39m \u001b[43mcaustics_epl_shear\u001b[49m\u001b[43m(\u001b[49m\n\u001b[1;32m     60\u001b[0m \u001b[43m        \u001b[49m\u001b[43mkwargs_lens\u001b[49m\u001b[43m,\u001b[49m\u001b[43m \u001b[49m\u001b[43mreturn_which\u001b[49m\u001b[38;5;241;43m=\u001b[39;49m\u001b[38;5;124;43m\"\u001b[39;49m\u001b[38;5;124;43mdouble\u001b[39;49m\u001b[38;5;124;43m\"\u001b[39;49m\u001b[43m,\u001b[49m\u001b[43m \u001b[49m\u001b[43mmaginf\u001b[49m\u001b[38;5;241;43m=\u001b[39;49m\u001b[38;5;241;43m-\u001b[39;49m\u001b[38;5;241;43m100\u001b[39;49m\n\u001b[1;32m     61\u001b[0m \u001b[43m    \u001b[49m\u001b[43m)\u001b[49m\n\u001b[1;32m     62\u001b[0m     caustic \u001b[38;5;241m=\u001b[39m np\u001b[38;5;241m.\u001b[39mlogical_not(np\u001b[38;5;241m.\u001b[39misnan(caustic_double_points)\u001b[38;5;241m.\u001b[39many())\n\u001b[1;32m     64\u001b[0m     \u001b[38;5;66;03m# If there is a nan, caustic=False, draw a new gamma\u001b[39;00m\n",
      "File \u001b[0;32m~/anaconda3/envs/ler/lib/python3.10/site-packages/lenstronomy/LensModel/Solver/epl_shear_solver.py:395\u001b[0m, in \u001b[0;36mcaustics_epl_shear\u001b[0;34m(kwargs_lens, num_th, maginf, sourceplane, return_which)\u001b[0m\n\u001b[1;32m    393\u001b[0m rcut, thcut \u001b[38;5;241m=\u001b[39m cart_to_pol(xca_cut, yca_cut)\n\u001b[1;32m    394\u001b[0m r, th \u001b[38;5;241m=\u001b[39m cart_to_pol(xca_4, yca_4)\n\u001b[0;32m--> 395\u001b[0m r2 \u001b[38;5;241m=\u001b[39m \u001b[43mnp\u001b[49m\u001b[38;5;241;43m.\u001b[39;49m\u001b[43minterp\u001b[49m\u001b[43m(\u001b[49m\u001b[43mth\u001b[49m\u001b[43m,\u001b[49m\u001b[43m \u001b[49m\u001b[43mthcut\u001b[49m\u001b[43m,\u001b[49m\u001b[43m \u001b[49m\u001b[43mrcut\u001b[49m\u001b[43m,\u001b[49m\u001b[43m \u001b[49m\u001b[43mperiod\u001b[49m\u001b[38;5;241;43m=\u001b[39;49m\u001b[38;5;241;43m2\u001b[39;49m\u001b[43m \u001b[49m\u001b[38;5;241;43m*\u001b[39;49m\u001b[43m \u001b[49m\u001b[43mnp\u001b[49m\u001b[38;5;241;43m.\u001b[39;49m\u001b[43mpi\u001b[49m\u001b[43m)\u001b[49m\n\u001b[1;32m    397\u001b[0m \u001b[38;5;28;01mif\u001b[39;00m return_which \u001b[38;5;241m==\u001b[39m \u001b[38;5;124m\"\u001b[39m\u001b[38;5;124mdouble\u001b[39m\u001b[38;5;124m\"\u001b[39m:\n\u001b[1;32m    398\u001b[0m     r \u001b[38;5;241m=\u001b[39m np\u001b[38;5;241m.\u001b[39mfmax(r, r2)\n",
      "File \u001b[0;32m~/anaconda3/envs/ler/lib/python3.10/site-packages/numpy/lib/function_base.py:1593\u001b[0m, in \u001b[0;36minterp\u001b[0;34m(x, xp, fp, left, right, period)\u001b[0m\n\u001b[1;32m   1591\u001b[0m x \u001b[38;5;241m=\u001b[39m x \u001b[38;5;241m%\u001b[39m period\n\u001b[1;32m   1592\u001b[0m xp \u001b[38;5;241m=\u001b[39m xp \u001b[38;5;241m%\u001b[39m period\n\u001b[0;32m-> 1593\u001b[0m asort_xp \u001b[38;5;241m=\u001b[39m \u001b[43mnp\u001b[49m\u001b[38;5;241;43m.\u001b[39;49m\u001b[43margsort\u001b[49m\u001b[43m(\u001b[49m\u001b[43mxp\u001b[49m\u001b[43m)\u001b[49m\n\u001b[1;32m   1594\u001b[0m xp \u001b[38;5;241m=\u001b[39m xp[asort_xp]\n\u001b[1;32m   1595\u001b[0m fp \u001b[38;5;241m=\u001b[39m fp[asort_xp]\n",
      "File \u001b[0;32m~/anaconda3/envs/ler/lib/python3.10/site-packages/numpy/core/fromnumeric.py:1021\u001b[0m, in \u001b[0;36m_argsort_dispatcher\u001b[0;34m(a, axis, kind, order)\u001b[0m\n\u001b[1;32m   1017\u001b[0m     a\u001b[38;5;241m.\u001b[39msort(axis\u001b[38;5;241m=\u001b[39maxis, kind\u001b[38;5;241m=\u001b[39mkind, order\u001b[38;5;241m=\u001b[39morder)\n\u001b[1;32m   1018\u001b[0m     \u001b[38;5;28;01mreturn\u001b[39;00m a\n\u001b[0;32m-> 1021\u001b[0m \u001b[38;5;28;01mdef\u001b[39;00m \u001b[38;5;21m_argsort_dispatcher\u001b[39m(a, axis\u001b[38;5;241m=\u001b[39m\u001b[38;5;28;01mNone\u001b[39;00m, kind\u001b[38;5;241m=\u001b[39m\u001b[38;5;28;01mNone\u001b[39;00m, order\u001b[38;5;241m=\u001b[39m\u001b[38;5;28;01mNone\u001b[39;00m):\n\u001b[1;32m   1022\u001b[0m     \u001b[38;5;28;01mreturn\u001b[39;00m (a,)\n\u001b[1;32m   1025\u001b[0m \u001b[38;5;129m@array_function_dispatch\u001b[39m(_argsort_dispatcher)\n\u001b[1;32m   1026\u001b[0m \u001b[38;5;28;01mdef\u001b[39;00m \u001b[38;5;21margsort\u001b[39m(a, axis\u001b[38;5;241m=\u001b[39m\u001b[38;5;241m-\u001b[39m\u001b[38;5;241m1\u001b[39m, kind\u001b[38;5;241m=\u001b[39m\u001b[38;5;28;01mNone\u001b[39;00m, order\u001b[38;5;241m=\u001b[39m\u001b[38;5;28;01mNone\u001b[39;00m):\n",
      "\u001b[0;31mKeyboardInterrupt\u001b[0m: "
     ]
    }
   ],
   "source": [
    "zl = np.random.uniform(0.0, zs, 100)\n",
    "tau_integrand_list = [tau_integrand(zl_, zs) for zl_ in zl]\n",
    "# 100, 1000, time: 25s ,result: 0.0007876707765042474\n",
    "# 100, 5000, time: 2min 10s, result: 0.0008292355152987328"
   ]
  },
  {
   "cell_type": "code",
   "execution_count": 150,
   "metadata": {},
   "outputs": [
    {
     "data": {
      "text/plain": [
       "0.0007876707765042474"
      ]
     },
     "execution_count": 150,
     "metadata": {},
     "output_type": "execute_result"
    }
   ],
   "source": [
    "tau_integrand_list = np.array(tau_integrand_list)\n",
    "tau_integrand_list_ = tau_integrand_list[tau_integrand_list<1.0]\n",
    "np.mean(tau_integrand_list_)"
   ]
  },
  {
   "cell_type": "code",
   "execution_count": 151,
   "metadata": {},
   "outputs": [
    {
     "data": {
      "text/plain": [
       "(array([], dtype=float64), array([], dtype=float64))"
      ]
     },
     "execution_count": 151,
     "metadata": {},
     "output_type": "execute_result"
    }
   ],
   "source": [
    "tau_integrand_list[tau_integrand_list>1.0], zl[tau_integrand_list>1.0]"
   ]
  },
  {
   "cell_type": "code",
   "execution_count": 132,
   "metadata": {},
   "outputs": [],
   "source": [
    "tau_integrand_list = tau_integrand_list[tau_integrand_list<1.0]"
   ]
  },
  {
   "cell_type": "code",
   "execution_count": 133,
   "metadata": {},
   "outputs": [
    {
     "data": {
      "text/plain": [
       "(array([27.,  6.,  7.,  6.,  5.,  6.,  6.,  6., 14., 16.]),\n",
       " array([8.95261326e-10, 1.82786084e-04, 3.65571272e-04,\n",
       "        5.48356461e-04, 7.31141649e-04, 9.13926837e-04,\n",
       "        1.09671203e-03, 1.27949721e-03, 1.46228240e-03,\n",
       "        1.64506759e-03, 1.82785278e-03]),\n",
       " <BarContainer object of 10 artists>)"
      ]
     },
     "execution_count": 133,
     "metadata": {},
     "output_type": "execute_result"
    },
    {
     "data": {
      "image/png": "[encoded data removed]",
      "text/plain": [
       "<Figure size 640x480 with 1 Axes>"
      ]
     },
     "metadata": {},
     "output_type": "display_data"
    }
   ],
   "source": [
    "plt.hist(tau_integrand_list)"
   ]
  },
  {
   "cell_type": "code",
   "execution_count": 45,
   "metadata": {},
   "outputs": [
    {
     "data": {
      "text/plain": [
       "{'zl': array([0.5, 0.5, 0.5, 0.5, 0.5]),\n",
       " 'zs': array([1., 1., 1., 1., 1.]),\n",
       " 'sigma': array([220.4584413 , 279.58491008, 262.31777363, 290.97389777,\n",
       "        305.67147934]),\n",
       " 'q': array([0.71519388, 0.74670181, 0.70882924, 0.66435015,\n",
       "        0.84899359]),\n",
       " 'theta_E': array([2.91087298e-06, 4.68163169e-06, 4.12121455e-06,\n",
       "        5.07081601e-06, 5.59602475e-06]),\n",
       " 'phi': array([6.26849202, 4.91906804, 1.36428438, 1.92286349,\n",
       "        2.82159755]),\n",
       " 'e1': array([ 0.16597724, -0.13280153, -0.15606392, -0.15370744,\n",
       "         0.06550725]),\n",
       " 'e2': array([-0.00487891, -0.05825067,  0.06839206, -0.13055611,\n",
       "        -0.04877202]),\n",
       " 'gamma1': array([-0.03170631,  0.01512897,  0.0282613 ,  0.02183705,\n",
       "        -0.05179437]),\n",
       " 'gamma2': array([ 0.01579342,  0.02452969, -0.05938726,  0.03576823,\n",
       "         0.07366597]),\n",
       " 'gamma': array([2.17907968, 1.97299403, 1.78087064, 1.70130207,\n",
       "        2.11842971])}"
      ]
     },
     "execution_count": 45,
     "metadata": {},
     "output_type": "execute_result"
    }
   ],
   "source": [
    "sample_lens_parameters(5)"
   ]
  },
  {
   "cell_type": "code",
   "execution_count": null,
   "metadata": {},
   "outputs": [],
   "source": [
    "einstein_radius = lens_parameters[8]\n",
    "iteration = lens_parameters[9]\n",
    "\n",
    "# define return value if strong lensing condition not satisfied\n",
    "\n",
    "# lensModel parameters are the same for the three functions used for image param calculation\n",
    "# 1. x-y position of images in the source plane, 2. magnifications, 3. time-delays (relative)\n",
    "lensModel = LensModel(\n",
    "    lens_model_list=lens_parameters[10:].tolist(), z_lens=zl, z_source=zs\n",
    ")\n",
    "\n",
    "lens_eq_solver = LensEquationSolver(lensModel)\n",
    "\n",
    "factor = 1.0\n",
    "# ---------------------------------------------------#\n",
    "#     x-y position of images in the source plane\n",
    "# ---------------------------------------------------#\n",
    "# Get the caustic curve cut by the lens\n",
    "# First check if there is any nan in the caustic points\n",
    "while True:\n",
    "    kwargs_lens = [\n",
    "        {\n",
    "            \"theta_E\": factor,\n",
    "            \"e1\": lens_parameters[1],\n",
    "            \"e2\": lens_parameters[2],\n",
    "            \"gamma\": lens_parameters[3],\n",
    "            \"center_x\": 0.0,\n",
    "            \"center_y\": 0.0,\n",
    "        },\n",
    "        {\n",
    "            \"gamma1\": lens_parameters[4],\n",
    "            \"gamma2\": lens_parameters[5],\n",
    "            \"ra_0\": 0,\n",
    "            \"dec_0\": 0,\n",
    "        },\n",
    "    ]\n",
    "    caustic_double_points = caustics_epl_shear(\n",
    "        kwargs_lens, return_which=\"double\", maginf=-100\n",
    "    )\n",
    "    caustic = np.logical_not(np.isnan(caustic_double_points).any())\n",
    "\n",
    "    # If there is a nan, caustic=False, draw a new gamma\n",
    "    if caustic:\n",
    "        break\n",
    "    else:\n",
    "        print(\"Found invalid caustic. Will resample parameters.\")\n",
    "\n",
    "caustic_double = Polygon(caustic_double_points.T)"
   ]
  },
  {
   "cell_type": "code",
   "execution_count": null,
   "metadata": {},
   "outputs": [],
   "source": [
    "# lens_parameters[0] = min_images : minimum number of images\n",
    "# lens_parameters[1] = e1 : ellipticity\n",
    "# lens_parameters[2] = e2 : ellipticity\n",
    "# lens_parameters[3] = gamma : power-law index\n",
    "# lens_parameters[4] = gamma1 : shear\n",
    "# lens_parameters[5] = gamma2 : shear\n",
    "# lens_parameters[6] = zl : redshift of the lens\n",
    "# lens_parameters[7] = zs : redshift of the source\n",
    "# lens_parameters[8] = einstein_radius : Einstein radius\n",
    "# lens_parameters[9] = iteration : iteration number\n",
    "# lens_parameters[10:] = lens_model_list : numpy array of lens models"
   ]
  },
  {
   "cell_type": "code",
   "execution_count": null,
   "metadata": {},
   "outputs": [],
   "source": []
  },
  {
   "cell_type": "code",
   "execution_count": 28,
   "metadata": {},
   "outputs": [],
   "source": [
    "lens_parameters = np.array([2, 0.024069457093642648, -0.016002190961948142, 1.8945414936459974, 0.10117465203892329, 0.09600089396968613, 0.2503743800068136, 0.9418211055453296, 2.5055790287104725e-06, 0, 'EPL_NUMBA', 'SHEAR'], dtype=object)\n",
    "lens_parameters = np.array([2, -0.04030088581646998, -0.01419438113690042, 2.0068239327017, 0.08482718989370612, -0.015393332086560785, 1.0952303138971118, 2.5534097159384417, 1.0125570159563301e-06, 1, 'EPL_NUMBA', 'SHEAR'], dtype=object)"
   ]
  },
  {
   "cell_type": "code",
   "execution_count": 30,
   "metadata": {},
   "outputs": [
    {
     "name": "stdout",
     "output_type": "stream",
     "text": [
      "0 : 2\n",
      "1 : -0.04030088581646998\n",
      "2 : -0.01419438113690042\n",
      "3 : 2.0068239327017\n",
      "4 : 0.08482718989370612\n",
      "5 : -0.015393332086560785\n",
      "6 : 1.0952303138971118\n",
      "7 : 2.5534097159384417\n",
      "8 : 1.0125570159563301e-06\n",
      "9 : 1\n",
      "10 : EPL_NUMBA\n",
      "11 : SHEAR\n"
     ]
    }
   ],
   "source": [
    "for i in range(len(lens_parameters)):\n",
    "    print(f\"{i} : {lens_parameters[i]}\")"
   ]
  },
  {
   "cell_type": "code",
   "execution_count": null,
   "metadata": {},
   "outputs": [],
   "source": [
    "# @njit makes it slower\n",
    "def tau_integrand(zl, zs):\n",
    "\n",
    "    # velocity dispersion #\n",
    "    size = 5000\n",
    "    sigma = vd_sampler(size, zl)\n",
    "\n",
    "    # axis ratio \n",
    "    q = axis_ratio_rayleigh(sigma)  # if SIS, q=array of 1.0\n",
    "\n",
    "    # \n",
    "\n",
    "    # einstein radius \n",
    "    Dls = (Da_zs*(1+zs) - Da(zl)*(1+zl))/(1+zs)\n",
    "    theta_E = (\n",
    "        4.0 * np.pi * (sigma / 299792.458) ** 2 * Dls / Da_zs\n",
    "    )  # Note: km/s for sigma; Dls, Ds are in Mpc\n",
    "\n",
    "    # cross section \n",
    "    cross_section_SIS = theta_E ** 2  # np.pi is ommited\n",
    "    \n",
    "    result = phi_cut_SIE(q) * cross_section_SIS/4 * no * dVcdz(zl)\n",
    "    # average\n",
    "    return np.mean(result)"
   ]
  },
  {
   "cell_type": "code",
   "execution_count": 21,
   "metadata": {},
   "outputs": [],
   "source": [
    "zs = 1.0\n",
    "zl = \n",
    "\n",
    "\n",
    "einstein_radius = lens_parameters[8]\n",
    "iteration = lens_parameters[9]\n",
    "\n",
    "# define return value if strong lensing condition not satisfied\n",
    "\n",
    "# lensModel parameters are the same for the three functions used for image param calculation\n",
    "# 1. x-y position of images in the source plane, 2. magnifications, 3. time-delays (relative)\n",
    "lensModel = LensModel(\n",
    "    lens_model_list=lens_parameters[10:].tolist(), z_lens=zl, z_source=zs\n",
    ")\n",
    "\n",
    "lens_eq_solver = LensEquationSolver(lensModel)\n",
    "\n",
    "factor = 1.0\n",
    "# ---------------------------------------------------#\n",
    "#     x-y position of images in the source plane\n",
    "# ---------------------------------------------------#\n",
    "# Get the caustic curve cut by the lens\n",
    "# First check if there is any nan in the caustic points\n",
    "while True:\n",
    "    kwargs_lens = [\n",
    "        {\n",
    "            \"theta_E\": factor,\n",
    "            \"e1\": lens_parameters[1],\n",
    "            \"e2\": lens_parameters[2],\n",
    "            \"gamma\": lens_parameters[3],\n",
    "            \"center_x\": 0.0,\n",
    "            \"center_y\": 0.0,\n",
    "        },\n",
    "        {\n",
    "            \"gamma1\": lens_parameters[4],\n",
    "            \"gamma2\": lens_parameters[5],\n",
    "            \"ra_0\": 0,\n",
    "            \"dec_0\": 0,\n",
    "        },\n",
    "    ]\n",
    "    caustic_double_points = caustics_epl_shear(\n",
    "        kwargs_lens, return_which=\"double\", maginf=-100\n",
    "    )\n",
    "    caustic = np.logical_not(np.isnan(caustic_double_points).any())\n",
    "\n",
    "    # If there is a nan, caustic=False, draw a new gamma\n",
    "    if caustic:\n",
    "        break\n",
    "    else:\n",
    "        print(\"Found invalid caustic. Will resample parameters.\")\n",
    "\n",
    "caustic_double = Polygon(caustic_double_points.T)"
   ]
  },
  {
   "cell_type": "code",
   "execution_count": 26,
   "metadata": {},
   "outputs": [],
   "source": [
    "x_source_array, y_source_array = [], []\n",
    "for i in range(100):\n",
    "    x_source, y_source = pointpats.random.poisson(caustic_double, size=1)\n",
    "    x_source_array.append(x_source)\n",
    "    y_source_array.append(y_source)"
   ]
  },
  {
   "cell_type": "code",
   "execution_count": 27,
   "metadata": {},
   "outputs": [
    {
     "data": {
      "image/png": "[encoded data removed]",
      "text/plain": [
       "<Figure size 640x480 with 1 Axes>"
      ]
     },
     "metadata": {},
     "output_type": "display_data"
    }
   ],
   "source": [
    "plt.scatter(*caustic_double.exterior.xy, s=1)\n",
    "plt.scatter(x_source_array, y_source_array, s=1)\n",
    "plt.show()"
   ]
  },
  {
   "cell_type": "code",
   "execution_count": null,
   "metadata": {},
   "outputs": [],
   "source": [
    "# @njit makes it slower\n",
    "def tau_integrand(zl, zs):\n",
    "\n",
    "    # velocity dispersion #\n",
    "    size = 5000\n",
    "    lens_parameters = sample_lens_parameters(size=size, zl=zl, zs=zs)\n",
    "\n",
    "    # einstein radius \n",
    "    Dls = (Da_zs*(1+zs) - Da(zl)*(1+zl))/(1+zs)\n",
    "    theta_E = (\n",
    "        4.0 * np.pi * (sigma / 299792.458) ** 2 * Dls / Da_zs\n",
    "    )  # Note: km/s for sigma; Dls, Ds are in Mpc\n",
    "\n",
    "    # cross section\n",
    "    cross_section = cross_section_EPLShear(theta_E, lens_parameters)\n",
    "    \n",
    "    result =  cross_section_SIS/(4*np.pi) * no * dVcdz(zl)\n",
    "    # average\n",
    "    return np.mean(result)"
   ]
  },
  {
   "cell_type": "code",
   "execution_count": 32,
   "metadata": {},
   "outputs": [
    {
     "name": "stdout",
     "output_type": "stream",
     "text": [
      "z_to_luminosity_distance interpolator will be loaded from ./interpolator_pickle/z_to_luminosity_distance/z_to_luminosity_distance_0.pickle\n",
      "differential_comoving_volume interpolator will be loaded from ./interpolator_pickle/differential_comoving_volume/differential_comoving_volume_0.pickle\n",
      "merger_rate_density interpolator will be loaded from ./interpolator_pickle/merger_rate_density/merger_rate_density_0.pickle\n",
      "z_to_Dc interpolator will be loaded from ./interpolator_pickle/z_to_Dc/z_to_Dc_0.pickle\n",
      "Dc_to_z interpolator will be loaded from ./interpolator_pickle/Dc_to_z/Dc_to_z_0.pickle\n",
      "angular_diameter_distance interpolator will be loaded from ./interpolator_pickle/angular_diameter_distance/angular_diameter_distance_0.pickle\n",
      "differential_comoving_volume interpolator will be loaded from ./interpolator_pickle/differential_comoving_volume/differential_comoving_volume_1.pickle\n",
      "velocity_dispersion_ewoud interpolator will be loaded from ./interpolator_pickle/velocity_dispersion_ewoud/velocity_dispersion_ewoud_0.pickle\n",
      "optical_depth_SIE_hemanta interpolator will be loaded from ./interpolator_pickle/optical_depth_SIE_hemanta/optical_depth_SIE_hemanta_0.pickle\n",
      "luminosity_distance_to_z interpolator will be loaded from ./interpolator_pickle/luminosity_distance_to_z/luminosity_distance_to_z_0.pickle\n"
     ]
    },
    {
     "name": "stderr",
     "output_type": "stream",
     "text": [
      "/Users/phurailatpamhemantakumar/anaconda3/envs/ler/lib/python3.10/site-packages/gwcosmo/prior/custom_math_priors.py:48: RuntimeWarning: overflow encountered in exp\n",
      "  effe_prime[select_window] = _np.exp(_np.nan_to_num((delta_m/mprime[select_window])+(delta_m/(mprime[select_window]-delta_m))))\n",
      "/Users/phurailatpamhemantakumar/anaconda3/envs/ler/lib/python3.10/site-packages/gwcosmo/prior/custom_math_priors.py:162: RuntimeWarning: divide by zero encountered in log\n",
      "  prob_ret =self.origin_prob.log_prob(x)+_np.log(window)\n",
      "/Users/phurailatpamhemantakumar/anaconda3/envs/ler/lib/python3.10/site-packages/gwcosmo/prior/custom_math_priors.py:160: RuntimeWarning: divide by zero encountered in log\n",
      "  prob_ret =self.origin_prob.log_prob(x)+_np.log(window)-_np.log(self.norm)\n",
      "/Users/phurailatpamhemantakumar/phd/mypackages/ler/ler/lens_galaxy_population/lens_galaxy_parameter_distribution.py:300: IntegrationWarning: The maximum number of subdivisions (50) has been achieved.\n",
      "  If increasing the limit yields no improvement it is advised to analyze \n",
      "  the integrand in order to determine the difficulties.  If the position of a \n",
      "  local difficulty can be determined (singularity, discontinuity) one will \n",
      "  probably gain from splitting up the interval and calling the integrator \n",
      "  on the subranges.  Perhaps a special-purpose integrator should be used.\n",
      "  self.normalization_pdf_z_lensed = quad(\n"
     ]
    }
   ],
   "source": [
    "from ler.lens_galaxy_population import LensGalaxyParameterDistribution\n",
    "\n",
    "lens_class = LensGalaxyParameterDistribution()"
   ]
  },
  {
   "cell_type": "code",
   "execution_count": null,
   "metadata": {},
   "outputs": [],
   "source": []
  },
  {
   "cell_type": "code",
   "execution_count": null,
   "metadata": {},
   "outputs": [],
   "source": []
  },
  {
   "cell_type": "code",
   "execution_count": 41,
   "metadata": {},
   "outputs": [],
   "source": [
    "from ler.utils import add_dictionaries_together, trim_dictionary\n",
    "from lenstronomy.Util.param_util import phi_q2_ellipticity\n",
    "\n",
    "def sample_lens_parameters(size, zl=0.5, zs=1.0, lens_parameters_input=None):\n",
    "    \"\"\"\n",
    "        Function to sample galaxy lens parameters along with the source parameters.\n",
    "\n",
    "        Parameters\n",
    "        ----------\n",
    "        size : `int`\n",
    "            number of lens parameters to sample\n",
    "        lens_parameters_input : `dict`\n",
    "            dictionary of lens parameters to sample\n",
    "\n",
    "        Returns\n",
    "        -------\n",
    "        lens_parameters : `dict`\n",
    "            dictionary of lens parameters and source parameters (lens conditions applied): \\n\n",
    "            zl: lens redshifts \\n\n",
    "            zs: source redshifts, lensed condition applied\\n\n",
    "            sigma: velocity dispersions \\n\n",
    "            q: axis ratios \\n\n",
    "            theta_E: Einstein radii \\n\n",
    "            phi: axis rotation angle \\n\n",
    "            e1: ellipticity component 1 \\n\n",
    "            e2: ellipticity component 2 \\n\n",
    "            gamma1: shear component 1 \\n\n",
    "            gamma2: shear component 2 \\n\n",
    "            gamma: spectral index of the mass density distribution \\n\n",
    "            geocent_time: time of arrival of the unlensed signal\\n\n",
    "            phase: phase of the unlensed signal\\n\n",
    "            psi: polarization angle of the unlensed signal\\n\n",
    "            theta_jn: inclination angle of the unlensed signal\\n\n",
    "            luminosity_distance: luminosity distance of the source\\n\n",
    "            mass_1_source: mass 1 (larger) of the source\\n\n",
    "            mass_2_source: mass 2 (smaller) of the source\\n\n",
    "            ra: right ascension of the source\\n\n",
    "            dec: declination of the source\\n\n",
    "\n",
    "        Examples\n",
    "        --------\n",
    "        >>> from ler.lens_galaxy_population import LensGalaxyParameterDistribution\n",
    "        >>> lens = LensGalaxyParameterDistribution()\n",
    "        >>> lens.sample_all_routine(size=1000)\n",
    "    \"\"\"\n",
    "\n",
    "    if lens_parameters_input is None:\n",
    "        lens_parameters_input = dict()\n",
    "\n",
    "    zs = np.array([zs] * size)\n",
    "    zl = np.array([zl] * size)\n",
    "\n",
    "    # Sample velocity dispersions\n",
    "    try:\n",
    "        sigma = lens_class.sample_velocity_dispersion(len(zs))\n",
    "    except:\n",
    "        sigma = lens_class.sample_velocity_dispersion(len(zs), zl)\n",
    "\n",
    "    # Sample axis ratios\n",
    "    try:\n",
    "        q = lens_class.sample_axis_ratio(sigma)\n",
    "    except:\n",
    "        q = lens_class.sample_axis_ratio(len(sigma))\n",
    "\n",
    "    # Compute the Einstein radii\n",
    "    theta_E = lens_class.compute_einstein_radii(sigma, zl, zs)\n",
    "\n",
    "    # Create a dictionary of the lens parameters\n",
    "    lens_parameters = {\n",
    "        \"zl\": zl,\n",
    "        \"zs\": zs,\n",
    "        \"sigma\": sigma,\n",
    "        \"q\": q,\n",
    "        \"theta_E\": theta_E,\n",
    "    }\n",
    "\n",
    "    # Rejection sample based on the lensing probability, that is, rejection sample wrt theta_E\n",
    "    lens_parameters = lens_class.rejection_sample_sl(\n",
    "        lens_parameters\n",
    "    )  # proportional to pi theta_E^2\n",
    "\n",
    "    # Add the lensing parameter dictionaries together\n",
    "    lens_parameters = add_dictionaries_together(\n",
    "        lens_parameters, lens_parameters_input\n",
    "    )\n",
    "\n",
    "    # check the size of the lens parameters\n",
    "    if len(lens_parameters[\"zl\"]) < size:\n",
    "        # Run iteratively until we have the right number of lensing parmaeters\n",
    "        # print(\"current sampled size\", len(lens_parameters[\"zl\"]))\n",
    "        return sample_lens_parameters(\n",
    "            size=size, lens_parameters_input=lens_parameters\n",
    "        )\n",
    "    else:\n",
    "        # Trim dicitionary to right size\n",
    "        lens_parameters = trim_dictionary(lens_parameters, size)\n",
    "\n",
    "        # Sample the axis rotation angle\n",
    "        lens_parameters[\"phi\"] = lens_class.sample_axis_rotation_angle(size=size)\n",
    "\n",
    "        # Transform the axis ratio and the angle, to ellipticities e1, e2, using lenstronomy\n",
    "        lens_parameters[\"e1\"], lens_parameters[\"e2\"] = phi_q2_ellipticity(\n",
    "            lens_parameters[\"phi\"], lens_parameters[\"q\"]\n",
    "        )\n",
    "\n",
    "        # Sample shears\n",
    "        lens_parameters[\"gamma1\"], lens_parameters[\"gamma2\"] = lens_class.sample_shear(\n",
    "            size=size)\n",
    "\n",
    "        # Sample the spectral index of the mass density distribution\n",
    "        lens_parameters[\"gamma\"] = lens_class.sample_mass_density_spectral_index(\n",
    "            size=size)\n",
    "\n",
    "        return lens_parameters"
   ]
  },
  {
   "cell_type": "code",
   "execution_count": 42,
   "metadata": {},
   "outputs": [
    {
     "data": {
      "text/plain": [
       "{'zl': array([0.5, 0.5, 0.5, 0.5, 0.5]),\n",
       " 'zs': array([1., 1., 1., 1., 1.]),\n",
       " 'sigma': array([ 82.88617496, 172.52875452, 181.14819861, 177.98217279,\n",
       "        179.7709499 ]),\n",
       " 'q': array([0.43653863, 0.56810848, 0.91035873, 0.6040788 ,\n",
       "        0.64566059]),\n",
       " 'theta_E': array([4.11466029e-07, 1.78275952e-06, 1.96534061e-06,\n",
       "        1.89724229e-06, 1.93556970e-06]),\n",
       " 'phi': array([5.38767281, 4.40078479, 0.90285292, 4.72439966,\n",
       "        1.52511311]),\n",
       " 'e1': array([-0.08568492, -0.22364542, -0.01092175, -0.24675033,\n",
       "        -0.21441934]),\n",
       " 'e2': array([-0.38276199,  0.16074821,  0.04563505, -0.00592842,\n",
       "         0.01964543]),\n",
       " 'gamma1': array([ 0.01230129,  0.01883225, -0.02152942,  0.01136105,\n",
       "         0.02064367]),\n",
       " 'gamma2': array([-0.00818756,  0.06147825, -0.09419915, -0.05256186,\n",
       "         0.04500808]),\n",
       " 'gamma': array([2.04048   , 2.08385245, 2.19121473, 2.11353067,\n",
       "        2.15924686])}"
      ]
     },
     "execution_count": 42,
     "metadata": {},
     "output_type": "execute_result"
    }
   ],
   "source": [
    "sample_lens_parameters(5)"
   ]
  },
  {
   "cell_type": "code",
   "execution_count": 46,
   "metadata": {},
   "outputs": [
    {
     "name": "stdout",
     "output_type": "stream",
     "text": [
      "z_to_luminosity_distance interpolator will be loaded from ./interpolator_pickle/z_to_luminosity_distance/z_to_luminosity_distance_0.pickle\n",
      "differential_comoving_volume interpolator will be loaded from ./interpolator_pickle/differential_comoving_volume/differential_comoving_volume_0.pickle\n",
      "merger_rate_density interpolator will be loaded from ./interpolator_pickle/merger_rate_density/merger_rate_density_0.pickle\n",
      "z_to_Dc interpolator will be loaded from ./interpolator_pickle/z_to_Dc/z_to_Dc_0.pickle\n",
      "Dc_to_z interpolator will be loaded from ./interpolator_pickle/Dc_to_z/Dc_to_z_0.pickle\n",
      "angular_diameter_distance interpolator will be loaded from ./interpolator_pickle/angular_diameter_distance/angular_diameter_distance_0.pickle\n",
      "differential_comoving_volume interpolator will be loaded from ./interpolator_pickle/differential_comoving_volume/differential_comoving_volume_1.pickle\n",
      "velocity_dispersion_ewoud interpolator will be loaded from ./interpolator_pickle/velocity_dispersion_ewoud/velocity_dispersion_ewoud_0.pickle\n",
      "optical_depth_SIE_hemanta interpolator will be loaded from ./interpolator_pickle/optical_depth_SIE_hemanta/optical_depth_SIE_hemanta_0.pickle\n",
      "luminosity_distance_to_z interpolator will be loaded from ./interpolator_pickle/luminosity_distance_to_z/luminosity_distance_to_z_0.pickle\n"
     ]
    },
    {
     "name": "stderr",
     "output_type": "stream",
     "text": [
      "/Users/phurailatpamhemantakumar/anaconda3/envs/ler/lib/python3.10/site-packages/gwcosmo/prior/custom_math_priors.py:48: RuntimeWarning: overflow encountered in exp\n",
      "  effe_prime[select_window] = _np.exp(_np.nan_to_num((delta_m/mprime[select_window])+(delta_m/(mprime[select_window]-delta_m))))\n",
      "/Users/phurailatpamhemantakumar/anaconda3/envs/ler/lib/python3.10/site-packages/gwcosmo/prior/custom_math_priors.py:162: RuntimeWarning: divide by zero encountered in log\n",
      "  prob_ret =self.origin_prob.log_prob(x)+_np.log(window)\n",
      "/Users/phurailatpamhemantakumar/anaconda3/envs/ler/lib/python3.10/site-packages/gwcosmo/prior/custom_math_priors.py:160: RuntimeWarning: divide by zero encountered in log\n",
      "  prob_ret =self.origin_prob.log_prob(x)+_np.log(window)-_np.log(self.norm)\n",
      "/Users/phurailatpamhemantakumar/phd/mypackages/ler/ler/lens_galaxy_population/lens_galaxy_parameter_distribution.py:300: IntegrationWarning: The maximum number of subdivisions (50) has been achieved.\n",
      "  If increasing the limit yields no improvement it is advised to analyze \n",
      "  the integrand in order to determine the difficulties.  If the position of a \n",
      "  local difficulty can be determined (singularity, discontinuity) one will \n",
      "  probably gain from splitting up the interval and calling the integrator \n",
      "  on the subranges.  Perhaps a special-purpose integrator should be used.\n",
      "  self.normalization_pdf_z_lensed = quad(\n"
     ]
    },
    {
     "name": "stdout",
     "output_type": "stream",
     "text": [
      "psds not given. Choosing bilby's default psds\n",
      "Interpolator will be loaded for L1 detector from ./interpolator_pickle/L1/partialSNR_dict_0.pickle\n",
      "Interpolator will be loaded for H1 detector from ./interpolator_pickle/H1/partialSNR_dict_0.pickle\n",
      "Interpolator will be loaded for V1 detector from ./interpolator_pickle/V1/partialSNR_dict_0.pickle\n",
      "\n",
      " # LeR set up params:\n",
      "npool = 4,\n",
      "z_min = 0.0,\n",
      "z_max = 10.0,\n",
      "event_type = 'BBH',\n",
      "size = 100000,\n",
      "batch_size = 50000,\n",
      "cosmology = LambdaCDM(H0=70.0 km / (Mpc s), Om0=0.3, Ode0=0.7, Tcmb0=0.0 K, Neff=3.04, m_nu=None, Ob0=None),\n",
      "snr_finder = <bound method GWSNR.snr of <gwsnr.gwsnr.GWSNR object at 0x346973340>>,\n",
      "json_file_names = {'ler_params': 'ler_params.json', 'unlensed_param': 'unlensed_param.json', 'unlensed_param_detectable': 'unlensed_param_detectable.json', 'lensed_param': 'lensed_param.json', 'lensed_param_detectable': 'lensed_param_detectable.json'},\n",
      "interpolator_directory = './interpolator_pickle',\n",
      "ler_directory = './ler_data',\n",
      "\n",
      " # LeR also takes CBCSourceParameterDistribution class params as kwargs, as follows:\n",
      "source_priors = {'merger_rate_density': 'merger_rate_density_bbh_popI_II_oguri2018', 'source_frame_masses': 'binary_masses_BBH_popI_II_powerlaw_gaussian', 'zs': 'sample_source_redshift', 'geocent_time': 'sampler_uniform', 'ra': 'sampler_uniform', 'dec': 'sampler_cosine', 'phase': 'sampler_uniform', 'psi': 'sampler_uniform', 'theta_jn': 'sampler_sine'},\n",
      "source_priors_params = {'merger_rate_density': {'R0': 2.39e-08, 'b2': 1.6, 'b3': 2.0, 'b4': 30}, 'source_frame_masses': {'mminbh': 4.98, 'mmaxbh': 112.5, 'alpha': 3.78, 'mu_g': 32.27, 'sigma_g': 3.88, 'lambda_peak': 0.03, 'delta_m': 4.8, 'beta': 0.81}, 'zs': None, 'geocent_time': {'min_': 1238166018, 'max_': 1269702018}, 'ra': {'min_': 0.0, 'max_': 6.283185307179586}, 'dec': None, 'phase': {'min_': 0.0, 'max_': 6.283185307179586}, 'psi': {'min_': 0.0, 'max_': 3.141592653589793}, 'theta_jn': None},\n",
      "spin_zero = True,\n",
      "spin_precession = False,\n",
      "create_new_interpolator = False,\n",
      "\n",
      " # LeR also takes LensGalaxyParameterDistribution class params as kwargs, as follows:\n",
      "lens_type = 'epl_galaxy',\n",
      "lens_functions = {'strong_lensing_condition': 'rjs_with_cross_section_SIE', 'optical_depth': 'optical_depth_SIE_hemanta', 'param_sampler_type': 'sample_all_routine'},\n",
      "lens_priors = {'source_redshift_sl': 'strongly_lensed_source_redshifts', 'lens_redshift': 'lens_redshift_SDSS_catalogue', 'velocity_dispersion': 'velocity_dispersion_ewoud', 'axis_ratio': 'axis_ratio_rayleigh', 'axis_rotation_angle': 'axis_rotation_angle_uniform', 'shear': 'shear_norm', 'mass_density_spectral_index': 'mass_density_spectral_index_normal', 'source_parameters': 'sample_gw_parameters'},\n",
      "lens_priors_params = {'source_redshift_sl': None, 'lens_redshift': None, 'velocity_dispersion': None, 'axis_ratio': {'q_min': 0.2, 'q_max': 1.0}, 'axis_rotation_angle': {'phi_min': 0.0, 'phi_max': 6.283185307179586}, 'shear': {'scale': 0.05}, 'mass_density_spectral_index': {'mean': 2.0, 'std': 0.2}, 'source_parameters': None},\n",
      "\n",
      " # LeR also takes ImageProperties class params as kwargs, as follows:\n",
      "n_min_images = 2,\n",
      "n_max_images = 4,\n",
      "geocent_time_min = 1126259462.4,\n",
      "geocent_time_max = 1756979462.4,\n",
      "lens_model_list = ['EPL_NUMBA', 'SHEAR'],\n",
      "\n",
      " # LeR also takes gwsnr.GWSNR params as kwargs, as follows:\n",
      "mtot_min = 2.0,\n",
      "mtot_max = 184.98599853446768,\n",
      "ratio_min = 0.1,\n",
      "ratio_max = 1.0,\n",
      "mtot_resolution = 500,\n",
      "ratio_resolution = 50,\n",
      "sampling_frequency = 2048.0,\n",
      "waveform_approximant = 'IMRPhenomD',\n",
      "minimum_frequency = 20.0,\n",
      "snr_type = 'interpolation',\n",
      "psds = [PowerSpectralDensity(psd_file='None', asd_file='/Users/phurailatpamhemantakumar/anaconda3/envs/ler/lib/python3.10/site-packages/bilby/gw/detector/noise_curves/aLIGO_O4_high_asd.txt'), PowerSpectralDensity(psd_file='None', asd_file='/Users/phurailatpamhemantakumar/anaconda3/envs/ler/lib/python3.10/site-packages/bilby/gw/detector/noise_curves/aLIGO_O4_high_asd.txt'), PowerSpectralDensity(psd_file='None', asd_file='/Users/phurailatpamhemantakumar/anaconda3/envs/ler/lib/python3.10/site-packages/bilby/gw/detector/noise_curves/AdV_asd.txt')],\n",
      "ifos = None,\n",
      "interpolator_dir = './interpolator_pickle',\n",
      "gwsnr_verbose = False,\n",
      "multiprocessing_verbose = True,\n",
      "mtot_cut = True,\n",
      "\n",
      " For reference, the chosen source parameters are listed below:\n",
      "merger_rate_density = 'merger_rate_density_bbh_popI_II_oguri2018'\n",
      "merger_rate_density_params =  {'R0': 2.39e-08, 'b2': 1.6, 'b3': 2.0, 'b4': 30}\n",
      "source_frame_masses = 'binary_masses_BBH_popI_II_powerlaw_gaussian'\n",
      "source_frame_masses_params =  {'mminbh': 4.98, 'mmaxbh': 112.5, 'alpha': 3.78, 'mu_g': 32.27, 'sigma_g': 3.88, 'lambda_peak': 0.03, 'delta_m': 4.8, 'beta': 0.81}\n",
      "geocent_time = 'sampler_uniform'\n",
      "geocent_time_params =  {'min_': 1238166018, 'max_': 1269702018}\n",
      "ra = 'sampler_uniform'\n",
      "ra_params =  {'min_': 0.0, 'max_': 6.283185307179586}\n",
      "dec = 'sampler_cosine'\n",
      "dec_params =  None\n",
      "phase = 'sampler_uniform'\n",
      "phase_params =  {'min_': 0.0, 'max_': 6.283185307179586}\n",
      "psi = 'sampler_uniform'\n",
      "psi_params =  {'min_': 0.0, 'max_': 3.141592653589793}\n",
      "theta_jn = 'sampler_sine'\n",
      "theta_jn_params =  None\n",
      "\n",
      " For reference, the chosen lens related parameters and functions are listed below:\n",
      "lens_redshift = 'lens_redshift_SDSS_catalogue'\n",
      "lens_redshift_params =  None\n",
      "velocity_dispersion = 'velocity_dispersion_ewoud'\n",
      "velocity_dispersion_params =  None\n",
      "axis_ratio = 'axis_ratio_rayleigh'\n",
      "axis_ratio_params =  {'q_min': 0.2, 'q_max': 1.0}\n",
      "axis_rotation_angle = 'axis_rotation_angle_uniform'\n",
      "axis_rotation_angle_params =  {'phi_min': 0.0, 'phi_max': 6.283185307179586}\n",
      "shear = 'shear_norm'\n",
      "shear_params =  {'scale': 0.05}\n",
      "mass_density_spectral_index = 'mass_density_spectral_index_normal'\n",
      "mass_density_spectral_index_params =  {'mean': 2.0, 'std': 0.2}\n",
      "Lens functions:\n",
      "strong_lensing_condition = 'rjs_with_cross_section_SIE'\n",
      "optical_depth = 'optical_depth_SIE_hemanta'\n"
     ]
    }
   ],
   "source": [
    "from ler.rates import LeR\n",
    "\n",
    "ler = LeR()"
   ]
  },
  {
   "cell_type": "markdown",
   "metadata": {},
   "source": [
    "classDiagram\n",
    "direction BT\n",
    "class node6\n",
    "class node3\n",
    "class node4\n",
    "class node2\n",
    "class node5\n",
    "class node0\n",
    "class node1\n",
    "\n",
    "node3  -->  node6 \n",
    "node6  -->  node2 \n",
    "node4  -->  node2 \n",
    "node5  -->  node2 \n",
    "node6  -->  node0 \n",
    "node2  -->  node1 "
   ]
  },
  {
   "cell_type": "markdown",
   "metadata": {},
   "source": []
  }
 ],
 "metadata": {
  "kernelspec": {
   "display_name": "ler",
   "language": "python",
   "name": "ler"
  },
  "language_info": {
   "codemirror_mode": {
    "name": "ipython",
    "version": 3
   },
   "file_extension": ".py",
   "mimetype": "text/x-python",
   "name": "python",
   "nbconvert_exporter": "python",
   "pygments_lexer": "ipython3",
   "version": "3.10.14"
  }
 },
 "nbformat": 4,
 "nbformat_minor": 2
}
