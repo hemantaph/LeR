{
 "cells": [
  {
   "cell_type": "code",
   "execution_count": 2,
   "metadata": {},
   "outputs": [
    {
     "name": "stdout",
     "output_type": "stream",
     "text": [
      "z_to_luminosity_distance interpolator will be generated at ./interpolator_pickle/z_to_luminosity_distance/z_to_luminosity_distance_0.pickle\n",
      "differential_comoving_volume interpolator will be generated at ./interpolator_pickle/differential_comoving_volume/differential_comoving_volume_0.pickle\n",
      "merger_rate_density interpolator will be generated at ./interpolator_pickle/merger_rate_density/merger_rate_density_0.pickle\n",
      "z_to_Dc interpolator will be generated at ./interpolator_pickle/z_to_Dc/z_to_Dc_0.pickle\n",
      "Dc_to_z interpolator will be generated at ./interpolator_pickle/Dc_to_z/Dc_to_z_0.pickle\n",
      "angular_diameter_distance interpolator will be generated at ./interpolator_pickle/angular_diameter_distance/angular_diameter_distance_0.pickle\n",
      "differential_comoving_volume interpolator will be generated at ./interpolator_pickle/differential_comoving_volume/differential_comoving_volume_1.pickle\n",
      "velocity_dispersion_ewoud interpolator will be generated at ./interpolator_pickle/velocity_dispersion_ewoud/velocity_dispersion_ewoud_0.pickle\n",
      "optical_depth_SIE_hemanta interpolator will be generated at ./interpolator_pickle/optical_depth_SIE_hemanta/optical_depth_SIE_hemanta_0.pickle\n",
      "input_params_image {'n_min_images': 2, 'n_max_images': 4, 'geocent_time_min': 1126259462.4, 'geocent_time_max': 1756979462.4, 'lens_model_list': ['EPL_NUMBA', 'SHEAR'], 'source_priors': None, 'source_priors_params': None, 'spin_zero': True, 'spin_precession': False}\n",
      "luminosity_distance_to_z interpolator will be generated at ./interpolator_pickle/luminosity_distance_to_z/luminosity_distance_to_z_0.pickle\n",
      "psds not given. Choosing bilby's default psds\n",
      "Interpolator will be generated for L1 detector at ./interpolator_pickle/L1/partialSNR_dict_0.pickle\n",
      "Interpolator will be generated for H1 detector at ./interpolator_pickle/H1/partialSNR_dict_0.pickle\n",
      "Interpolator will be generated for V1 detector at ./interpolator_pickle/V1/partialSNR_dict_0.pickle\n",
      "Please be patient while the interpolator is generated\n",
      "Generating interpolator for ['L1', 'H1', 'V1'] detectors\n"
     ]
    },
    {
     "name": "stderr",
     "output_type": "stream",
     "text": [
      "interpolation for each mass_ratios: 100%|███████████████████████████| 50/50 [00:58<00:00,  1.18s/it]"
     ]
    },
    {
     "name": "stdout",
     "output_type": "stream",
     "text": [
      "\n",
      " # LeR set up params:\n",
      "npool = 4,\n",
      "z_min = 0.0,\n",
      "z_max = 10.0,\n",
      "event_type = 'BBH',\n",
      "size = 100000,\n",
      "batch_size = 50000,\n",
      "cosmology = LambdaCDM(H0=70.0 km / (Mpc s), Om0=0.3, Ode0=0.7, Tcmb0=0.0 K, Neff=3.04, m_nu=None, Ob0=None),\n",
      "snr_finder = <bound method GWSNR.snr of <gwsnr.gwsnr.GWSNR object at 0x33523fdf0>>,\n",
      "json_file_names = {'ler_params': 'ler_params.json', 'unlensed_param': 'unlensed_param.json', 'unlensed_param_detectable': 'unlensed_param_detectable.json', 'lensed_param': 'lensed_param.json', 'lensed_param_detectable': 'lensed_param_detectable.json'},\n",
      "interpolator_directory = './interpolator_pickle',\n",
      "ler_directory = './ler_data',\n",
      "\n",
      " # LeR also takes CBCSourceParameterDistribution class params as kwargs, as follows:\n",
      "source_priors = {'merger_rate_density': 'merger_rate_density_bbh_popI_II_oguri2018', 'source_frame_masses': 'binary_masses_BBH_popI_II_powerlaw_gaussian', 'zs': 'sample_source_redshift', 'geocent_time': 'sampler_uniform', 'ra': 'sampler_uniform', 'dec': 'sampler_cosine', 'phase': 'sampler_uniform', 'psi': 'sampler_uniform', 'theta_jn': 'sampler_sine'},\n",
      "source_priors_params = {'merger_rate_density': {'R0': 2.39e-08, 'b2': 1.6, 'b3': 2.0, 'b4': 30}, 'source_frame_masses': {'mminbh': 4.98, 'mmaxbh': 112.5, 'alpha': 3.78, 'mu_g': 32.27, 'sigma_g': 3.88, 'lambda_peak': 0.03, 'delta_m': 4.8, 'beta': 0.81}, 'zs': None, 'geocent_time': {'min_': 1238166018, 'max_': 1269702018}, 'ra': {'min_': 0.0, 'max_': 6.283185307179586}, 'dec': None, 'phase': {'min_': 0.0, 'max_': 6.283185307179586}, 'psi': {'min_': 0.0, 'max_': 3.141592653589793}, 'theta_jn': None},\n",
      "spin_zero = True,\n",
      "spin_precession = False,\n",
      "create_new_interpolator = True,\n",
      "\n",
      " # LeR also takes LensGalaxyParameterDistribution class params as kwargs, as follows:\n",
      "lens_type = 'epl_shear_galaxy',\n",
      "lens_functions = {'strong_lensing_condition': 'rjs_with_cross_section_SIE', 'optical_depth': 'optical_depth_SIE_hemanta', 'param_sampler_type': 'sample_all_routine'},\n",
      "lens_priors = {'source_redshift_sl': 'strongly_lensed_source_redshifts', 'lens_redshift': 'lens_redshift_SDSS_catalogue', 'velocity_dispersion': 'velocity_dispersion_ewoud', 'axis_ratio': 'axis_ratio_rayleigh', 'axis_rotation_angle': 'axis_rotation_angle_uniform', 'external_shear': 'shear_norm', 'density_profile_slope': 'density_profile_slope_normal', 'source_parameters': 'sample_gw_parameters'},\n",
      "lens_priors_params = {'source_redshift_sl': None, 'lens_redshift': None, 'velocity_dispersion': None, 'axis_ratio': {'q_min': 0.2, 'q_max': 1.0}, 'axis_rotation_angle': {'phi_min': 0.0, 'phi_max': 6.283185307179586}, 'external_shear': {'scale': 0.05}, 'density_profile_slope': {'mean': 2.0, 'std': 0.2}, 'source_parameters': None},\n",
      "\n",
      " # LeR also takes ImageProperties class params as kwargs, as follows:\n",
      "n_min_images = 2,\n",
      "n_max_images = 4,\n",
      "geocent_time_min = 1126259462.4,\n",
      "geocent_time_max = 1756979462.4,\n",
      "lens_model_list = ['EPL_NUMBA', 'SHEAR'],\n",
      "\n",
      " # LeR also takes gwsnr.GWSNR params as kwargs, as follows:\n",
      "mtot_min = 2.0,\n",
      "mtot_max = 184.98599853446768,\n",
      "ratio_min = 0.1,\n",
      "ratio_max = 1.0,\n",
      "mtot_resolution = 500,\n",
      "ratio_resolution = 50,\n",
      "sampling_frequency = 2048.0,\n",
      "waveform_approximant = 'IMRPhenomD',\n",
      "minimum_frequency = 20.0,\n",
      "snr_type = 'interpolation',\n",
      "psds = [PowerSpectralDensity(psd_file='None', asd_file='/Users/phurailatpamhemantakumar/anaconda3/envs/ler/lib/python3.10/site-packages/bilby/gw/detector/noise_curves/aLIGO_O4_high_asd.txt'), PowerSpectralDensity(psd_file='None', asd_file='/Users/phurailatpamhemantakumar/anaconda3/envs/ler/lib/python3.10/site-packages/bilby/gw/detector/noise_curves/aLIGO_O4_high_asd.txt'), PowerSpectralDensity(psd_file='None', asd_file='/Users/phurailatpamhemantakumar/anaconda3/envs/ler/lib/python3.10/site-packages/bilby/gw/detector/noise_curves/AdV_asd.txt')],\n",
      "ifos = None,\n",
      "interpolator_dir = './interpolator_pickle',\n",
      "gwsnr_verbose = False,\n",
      "multiprocessing_verbose = True,\n",
      "mtot_cut = True,\n",
      "\n",
      " For reference, the chosen source parameters are listed below:\n",
      "merger_rate_density = 'merger_rate_density_bbh_popI_II_oguri2018'\n",
      "merger_rate_density_params =  {'R0': 2.39e-08, 'b2': 1.6, 'b3': 2.0, 'b4': 30}\n",
      "source_frame_masses = 'binary_masses_BBH_popI_II_powerlaw_gaussian'\n",
      "source_frame_masses_params =  {'mminbh': 4.98, 'mmaxbh': 112.5, 'alpha': 3.78, 'mu_g': 32.27, 'sigma_g': 3.88, 'lambda_peak': 0.03, 'delta_m': 4.8, 'beta': 0.81}\n",
      "geocent_time = 'sampler_uniform'\n",
      "geocent_time_params =  {'min_': 1238166018, 'max_': 1269702018}\n",
      "ra = 'sampler_uniform'\n",
      "ra_params =  {'min_': 0.0, 'max_': 6.283185307179586}\n",
      "dec = 'sampler_cosine'\n",
      "dec_params =  None\n",
      "phase = 'sampler_uniform'\n",
      "phase_params =  {'min_': 0.0, 'max_': 6.283185307179586}\n",
      "psi = 'sampler_uniform'\n",
      "psi_params =  {'min_': 0.0, 'max_': 3.141592653589793}\n",
      "theta_jn = 'sampler_sine'\n",
      "theta_jn_params =  None\n",
      "\n",
      " For reference, the chosen lens related parameters and functions are listed below:\n",
      "lens_redshift = 'lens_redshift_SDSS_catalogue'\n",
      "lens_redshift_params =  None\n",
      "velocity_dispersion = 'velocity_dispersion_ewoud'\n",
      "velocity_dispersion_params =  None\n",
      "axis_ratio = 'axis_ratio_rayleigh'\n",
      "axis_ratio_params =  {'q_min': 0.2, 'q_max': 1.0}\n",
      "axis_rotation_angle = 'axis_rotation_angle_uniform'\n",
      "axis_rotation_angle_params =  {'phi_min': 0.0, 'phi_max': 6.283185307179586}\n",
      "shear = 'shear_norm'\n",
      "shear_params =  {'scale': 0.05}\n",
      "density_profile_slope = 'density_profile_slope_normal'\n",
      "density_profile_slope_params =  {'mean': 2.0, 'std': 0.2}\n",
      "Lens functions:\n",
      "strong_lensing_condition = 'rjs_with_cross_section_SIE'\n",
      "optical_depth = 'optical_depth_SIE_hemanta'\n"
     ]
    },
    {
     "name": "stderr",
     "output_type": "stream",
     "text": [
      "\n"
     ]
    }
   ],
   "source": [
    "from ler.rates import LeR\n",
    "\n",
    "ler = LeR(create_new_interpolator=True)"
   ]
  },
  {
   "cell_type": "code",
   "execution_count": 2,
   "metadata": {},
   "outputs": [
    {
     "name": "stdout",
     "output_type": "stream",
     "text": [
      "lensed params will be store in ./ler_data/lensed_param.json\n",
      "chosen batch size = 50000 with total size = 100\n",
      "There will be 1 batche(s)\n",
      "Batch no. 1\n",
      "sampling lensed params...\n",
      "solving lens equations...\n"
     ]
    },
    {
     "name": "stderr",
     "output_type": "stream",
     "text": [
      "100%|████████████████████████████████████████████████████████████| 100/100 [00:00<00:00, 789.23it/s]"
     ]
    },
    {
     "name": "stdout",
     "output_type": "stream",
     "text": [
      "calculating snrs...\n"
     ]
    },
    {
     "name": "stderr",
     "output_type": "stream",
     "text": [
      "\n"
     ]
    },
    {
     "name": "stdout",
     "output_type": "stream",
     "text": [
      "lensed parameters already sampled.\n"
     ]
    }
   ],
   "source": [
    "lensed_params = ler.lensed_cbc_statistics(size=100);"
   ]
  },
  {
   "cell_type": "code",
   "execution_count": 3,
   "metadata": {},
   "outputs": [
    {
     "data": {
      "text/plain": [
       "(array([-0.06351637, -0.10740647,         nan,         nan]),\n",
       " array([-1.39603879,  0.57278129,         nan,         nan]))"
      ]
     },
     "execution_count": 3,
     "metadata": {},
     "output_type": "execute_result"
    }
   ],
   "source": [
    "lensed_params['x0_image_positions'][0], lensed_params['x1_image_positions'][0]"
   ]
  },
  {
   "cell_type": "code",
   "execution_count": 4,
   "metadata": {},
   "outputs": [
    {
     "data": {
      "text/plain": [
       "dict_keys(['zl', 'zs', 'sigma', 'q', 'theta_E', 'phi', 'e1', 'e2', 'gamma1', 'gamma2', 'gamma', 'geocent_time', 'ra', 'dec', 'phase', 'psi', 'theta_jn', 'luminosity_distance', 'mass_1_source', 'mass_2_source', 'mass_1', 'mass_2', 'x0_image_positions', 'x1_image_positions', 'magnifications', 'time_delays', 'image_type', 'n_images', 'x_source', 'y_source', 'effective_luminosity_distance', 'effective_geocent_time', 'optimal_snr_net', 'L1', 'H1', 'V1'])"
      ]
     },
     "execution_count": 4,
     "metadata": {},
     "output_type": "execute_result"
    }
   ],
   "source": [
    "lensed_params.keys()"
   ]
  },
  {
   "cell_type": "code",
   "execution_count": 1,
   "metadata": {},
   "outputs": [],
   "source": [
    "# gaussian kde\n",
    "import numpy as np\n",
    "import matplotlib.pyplot as plt\n",
    "from scipy.stats import gaussian_kde\n",
    "\n",
    "x = np.random.normal(size=1000)\n",
    "y = x * 3 + np.random.normal(size=1000)\n",
    "\n",
    "kde = gaussian_kde((x, y))\n",
    "\n"
   ]
  },
  {
   "cell_type": "code",
   "execution_count": 5,
   "metadata": {},
   "outputs": [
    {
     "name": "stdout",
     "output_type": "stream",
     "text": [
      "\u001b[0;31mSignature:\u001b[0m      \u001b[0mkde\u001b[0m\u001b[0;34m(\u001b[0m\u001b[0mpoints\u001b[0m\u001b[0;34m)\u001b[0m\u001b[0;34m\u001b[0m\u001b[0;34m\u001b[0m\u001b[0m\n",
      "\u001b[0;31mType:\u001b[0m           gaussian_kde\n",
      "\u001b[0;31mString form:\u001b[0m    <scipy.stats._kde.gaussian_kde object at 0x107a804f0>\n",
      "\u001b[0;31mFile:\u001b[0m           ~/anaconda3/envs/ler/lib/python3.10/site-packages/scipy/stats/_kde.py\n",
      "\u001b[0;31mDocstring:\u001b[0m     \n",
      "Representation of a kernel-density estimate using Gaussian kernels.\n",
      "\n",
      "Kernel density estimation is a way to estimate the probability density\n",
      "function (PDF) of a random variable in a non-parametric way.\n",
      "`gaussian_kde` works for both uni-variate and multi-variate data.   It\n",
      "includes automatic bandwidth determination.  The estimation works best for\n",
      "a unimodal distribution; bimodal or multi-modal distributions tend to be\n",
      "oversmoothed.\n",
      "\n",
      "Parameters\n",
      "----------\n",
      "dataset : array_like\n",
      "    Datapoints to estimate from. In case of univariate data this is a 1-D\n",
      "    array, otherwise a 2-D array with shape (# of dims, # of data).\n",
      "bw_method : str, scalar or callable, optional\n",
      "    The method used to calculate the estimator bandwidth.  This can be\n",
      "    'scott', 'silverman', a scalar constant or a callable.  If a scalar,\n",
      "    this will be used directly as `kde.factor`.  If a callable, it should\n",
      "    take a `gaussian_kde` instance as only parameter and return a scalar.\n",
      "    If None (default), 'scott' is used.  See Notes for more details.\n",
      "weights : array_like, optional\n",
      "    weights of datapoints. This must be the same shape as dataset.\n",
      "    If None (default), the samples are assumed to be equally weighted\n",
      "\n",
      "Attributes\n",
      "----------\n",
      "dataset : ndarray\n",
      "    The dataset with which `gaussian_kde` was initialized.\n",
      "d : int\n",
      "    Number of dimensions.\n",
      "n : int\n",
      "    Number of datapoints.\n",
      "neff : int\n",
      "    Effective number of datapoints.\n",
      "\n",
      "    .. versionadded:: 1.2.0\n",
      "factor : float\n",
      "    The bandwidth factor, obtained from `kde.covariance_factor`. The square\n",
      "    of `kde.factor` multiplies the covariance matrix of the data in the kde\n",
      "    estimation.\n",
      "covariance : ndarray\n",
      "    The covariance matrix of `dataset`, scaled by the calculated bandwidth\n",
      "    (`kde.factor`).\n",
      "inv_cov : ndarray\n",
      "    The inverse of `covariance`.\n",
      "\n",
      "Methods\n",
      "-------\n",
      "evaluate\n",
      "__call__\n",
      "integrate_gaussian\n",
      "integrate_box_1d\n",
      "integrate_box\n",
      "integrate_kde\n",
      "pdf\n",
      "logpdf\n",
      "resample\n",
      "set_bandwidth\n",
      "covariance_factor\n",
      "\n",
      "Notes\n",
      "-----\n",
      "Bandwidth selection strongly influences the estimate obtained from the KDE\n",
      "(much more so than the actual shape of the kernel).  Bandwidth selection\n",
      "can be done by a \"rule of thumb\", by cross-validation, by \"plug-in\n",
      "methods\" or by other means; see [3]_, [4]_ for reviews.  `gaussian_kde`\n",
      "uses a rule of thumb, the default is Scott's Rule.\n",
      "\n",
      "Scott's Rule [1]_, implemented as `scotts_factor`, is::\n",
      "\n",
      "    n**(-1./(d+4)),\n",
      "\n",
      "with ``n`` the number of data points and ``d`` the number of dimensions.\n",
      "In the case of unequally weighted points, `scotts_factor` becomes::\n",
      "\n",
      "    neff**(-1./(d+4)),\n",
      "\n",
      "with ``neff`` the effective number of datapoints.\n",
      "Silverman's Rule [2]_, implemented as `silverman_factor`, is::\n",
      "\n",
      "    (n * (d + 2) / 4.)**(-1. / (d + 4)).\n",
      "\n",
      "or in the case of unequally weighted points::\n",
      "\n",
      "    (neff * (d + 2) / 4.)**(-1. / (d + 4)).\n",
      "\n",
      "Good general descriptions of kernel density estimation can be found in [1]_\n",
      "and [2]_, the mathematics for this multi-dimensional implementation can be\n",
      "found in [1]_.\n",
      "\n",
      "With a set of weighted samples, the effective number of datapoints ``neff``\n",
      "is defined by::\n",
      "\n",
      "    neff = sum(weights)^2 / sum(weights^2)\n",
      "\n",
      "as detailed in [5]_.\n",
      "\n",
      "`gaussian_kde` does not currently support data that lies in a\n",
      "lower-dimensional subspace of the space in which it is expressed. For such\n",
      "data, consider performing principle component analysis / dimensionality\n",
      "reduction and using `gaussian_kde` with the transformed data.\n",
      "\n",
      "References\n",
      "----------\n",
      ".. [1] D.W. Scott, \"Multivariate Density Estimation: Theory, Practice, and\n",
      "       Visualization\", John Wiley & Sons, New York, Chicester, 1992.\n",
      ".. [2] B.W. Silverman, \"Density Estimation for Statistics and Data\n",
      "       Analysis\", Vol. 26, Monographs on Statistics and Applied Probability,\n",
      "       Chapman and Hall, London, 1986.\n",
      ".. [3] B.A. Turlach, \"Bandwidth Selection in Kernel Density Estimation: A\n",
      "       Review\", CORE and Institut de Statistique, Vol. 19, pp. 1-33, 1993.\n",
      ".. [4] D.M. Bashtannyk and R.J. Hyndman, \"Bandwidth selection for kernel\n",
      "       conditional density estimation\", Computational Statistics & Data\n",
      "       Analysis, Vol. 36, pp. 279-298, 2001.\n",
      ".. [5] Gray P. G., 1969, Journal of the Royal Statistical Society.\n",
      "       Series A (General), 132, 272\n",
      "\n",
      "Examples\n",
      "--------\n",
      "Generate some random two-dimensional data:\n",
      "\n",
      ">>> import numpy as np\n",
      ">>> from scipy import stats\n",
      ">>> def measure(n):\n",
      "...     \"Measurement model, return two coupled measurements.\"\n",
      "...     m1 = np.random.normal(size=n)\n",
      "...     m2 = np.random.normal(scale=0.5, size=n)\n",
      "...     return m1+m2, m1-m2\n",
      "\n",
      ">>> m1, m2 = measure(2000)\n",
      ">>> xmin = m1.min()\n",
      ">>> xmax = m1.max()\n",
      ">>> ymin = m2.min()\n",
      ">>> ymax = m2.max()\n",
      "\n",
      "Perform a kernel density estimate on the data:\n",
      "\n",
      ">>> X, Y = np.mgrid[xmin:xmax:100j, ymin:ymax:100j]\n",
      ">>> positions = np.vstack([X.ravel(), Y.ravel()])\n",
      ">>> values = np.vstack([m1, m2])\n",
      ">>> kernel = stats.gaussian_kde(values)\n",
      ">>> Z = np.reshape(kernel(positions).T, X.shape)\n",
      "\n",
      "Plot the results:\n",
      "\n",
      ">>> import matplotlib.pyplot as plt\n",
      ">>> fig, ax = plt.subplots()\n",
      ">>> ax.imshow(np.rot90(Z), cmap=plt.cm.gist_earth_r,\n",
      "...           extent=[xmin, xmax, ymin, ymax])\n",
      ">>> ax.plot(m1, m2, 'k.', markersize=2)\n",
      ">>> ax.set_xlim([xmin, xmax])\n",
      ">>> ax.set_ylim([ymin, ymax])\n",
      ">>> plt.show()\n",
      "\u001b[0;31mCall docstring:\u001b[0m\n",
      "Evaluate the estimated pdf on a set of points.\n",
      "\n",
      "Parameters\n",
      "----------\n",
      "points : (# of dimensions, # of points)-array\n",
      "    Alternatively, a (# of dimensions,) vector can be passed in and\n",
      "    treated as a single point.\n",
      "\n",
      "Returns\n",
      "-------\n",
      "values : (# of points,)-array\n",
      "    The values at each point.\n",
      "\n",
      "Raises\n",
      "------\n",
      "ValueError : if the dimensionality of the input points is different than\n",
      "             the dimensionality of the KDE."
     ]
    }
   ],
   "source": [
    "kde?"
   ]
  },
  {
   "cell_type": "code",
   "execution_count": 6,
   "metadata": {},
   "outputs": [],
   "source": [
    "from astropy.cosmology import LambdaCDM\n",
    "cosmo = LambdaCDM(H0=70, Om0=0.3, Ode0=0.7)\n"
   ]
  },
  {
   "cell_type": "code",
   "execution_count": 7,
   "metadata": {},
   "outputs": [
    {
     "name": "stdout",
     "output_type": "stream",
     "text": [
      "\u001b[0;31mType:\u001b[0m        LambdaCDM\n",
      "\u001b[0;31mString form:\u001b[0m LambdaCDM(H0=70.0 km / (Mpc s), Om0=0.3, Ode0=0.7, Tcmb0=0.0 K, Neff=3.04, m_nu=None, Ob0=None)\n",
      "\u001b[0;31mFile:\u001b[0m        ~/anaconda3/envs/ler/lib/python3.10/site-packages/astropy/cosmology/flrw/lambdacdm.py\n",
      "\u001b[0;31mDocstring:\u001b[0m  \n",
      "FLRW cosmology with a cosmological constant and curvature.\n",
      "\n",
      "This has no additional attributes beyond those of FLRW.\n",
      "\n",
      "Parameters\n",
      "----------\n",
      "H0 : float or scalar quantity-like ['frequency']\n",
      "    Hubble constant at z = 0.  If a float, must be in [km/sec/Mpc].\n",
      "\n",
      "Om0 : float\n",
      "    Omega matter: density of non-relativistic matter in units of the\n",
      "    critical density at z=0.\n",
      "\n",
      "Ode0 : float\n",
      "    Omega dark energy: density of the cosmological constant in units of\n",
      "    the critical density at z=0.\n",
      "\n",
      "Tcmb0 : float or scalar quantity-like ['temperature'], optional\n",
      "    Temperature of the CMB z=0. If a float, must be in [K]. Default: 0 [K].\n",
      "    Setting this to zero will turn off both photons and neutrinos\n",
      "    (even massive ones).\n",
      "\n",
      "Neff : float, optional\n",
      "    Effective number of Neutrino species. Default 3.04.\n",
      "\n",
      "m_nu : quantity-like ['energy', 'mass'] or array-like, optional\n",
      "    Mass of each neutrino species in [eV] (mass-energy equivalency enabled).\n",
      "    If this is a scalar Quantity, then all neutrino species are assumed to\n",
      "    have that mass. Otherwise, the mass of each species. The actual number\n",
      "    of neutrino species (and hence the number of elements of m_nu if it is\n",
      "    not scalar) must be the floor of Neff. Typically this means you should\n",
      "    provide three neutrino masses unless you are considering something like\n",
      "    a sterile neutrino.\n",
      "\n",
      "Ob0 : float or None, optional\n",
      "    Omega baryons: density of baryonic matter in units of the critical\n",
      "    density at z=0.  If this is set to None (the default), any computation\n",
      "    that requires its value will raise an exception.\n",
      "\n",
      "name : str or None (optional, keyword-only)\n",
      "    Name for this cosmological object.\n",
      "\n",
      "meta : mapping or None (optional, keyword-only)\n",
      "    Metadata for the cosmology, e.g., a reference.\n",
      "\n",
      "Examples\n",
      "--------\n",
      ">>> from astropy.cosmology import LambdaCDM\n",
      ">>> cosmo = LambdaCDM(H0=70, Om0=0.3, Ode0=0.7)\n",
      "\n",
      "The comoving distance in Mpc at redshift z:\n",
      "\n",
      ">>> z = 0.5\n",
      ">>> dc = cosmo.comoving_distance(z)"
     ]
    }
   ],
   "source": [
    "cosmo?"
   ]
  },
  {
   "cell_type": "code",
   "execution_count": null,
   "metadata": {},
   "outputs": [],
   "source": []
  },
  {
   "cell_type": "markdown",
   "metadata": {},
   "source": [
    "## Another paragraph <a id=\"paragraph2\"></a>\n",
    "The second paragraph text"
   ]
  },
  {
   "cell_type": "markdown",
   "metadata": {},
   "source": []
  }
 ],
 "metadata": {
  "kernelspec": {
   "display_name": "ler",
   "language": "python",
   "name": "ler"
  },
  "language_info": {
   "codemirror_mode": {
    "name": "ipython",
    "version": 3
   },
   "file_extension": ".py",
   "mimetype": "text/x-python",
   "name": "python",
   "nbconvert_exporter": "python",
   "pygments_lexer": "ipython3",
   "version": "3.10.14"
  }
 },
 "nbformat": 4,
 "nbformat_minor": 2
}
