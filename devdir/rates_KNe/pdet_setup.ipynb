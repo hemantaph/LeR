{
 "cells": [
  {
   "cell_type": "code",
   "execution_count": 1,
   "metadata": {},
   "outputs": [],
   "source": [
    "import numpy as np\n",
    "import matplotlib.pyplot as plt\n",
    "from numba import njit\n",
    "from astropy.cosmology import LambdaCDM\n",
    "\n",
    "cosmo = LambdaCDM(H0=70, Om0=0.3, Ode0=0.7)"
   ]
  },
  {
   "cell_type": "markdown",
   "metadata": {},
   "source": [
    "## Setting up pdet function for Kilonovae base on AB magnitude"
   ]
  },
  {
   "cell_type": "code",
   "execution_count": 2,
   "metadata": {},
   "outputs": [],
   "source": [
    "# peak absolute magnitude\n",
    "def M_lambda_theta_v(\n",
    "    theta_v,\n",
    "    theta_0 = 1.0471975511965976, # 60 degrees\n",
    "    M_lambda_0=-16.3, \n",
    "    Delta_M_lambda=4, \n",
    "    delta_M=[1,1],\n",
    "):  \n",
    "    if isinstance(delta_M, list):\n",
    "        delta_M = np.random.uniform(*delta_M)\n",
    "    elif isinstance(delta_M, float):\n",
    "        pass\n",
    "    else:\n",
    "        raise ValueError(\"delta_M must be either a list or a float\")\n",
    "\n",
    "    result = np.zeros_like(theta_v)\n",
    "\n",
    "    for i, theta in enumerate(theta_v):\n",
    "        if theta<=theta_0:\n",
    "            result[i] = M_lambda_0 + Delta_M_lambda * ((1 - np.cos(theta)) / (1 - np.cos(theta_0))) + delta_M\n",
    "        else:\n",
    "            result[i] = M_lambda_0 + Delta_M_lambda + delta_M\n",
    "\n",
    "    return result\n",
    "\n",
    "# apparent magnitude\n",
    "def m_lambda_theta_v(\n",
    "    theta_v,\n",
    "    dl = None, # in Mpc\n",
    "    z = None,\n",
    "    theta_0 = 1.0471975511965976, # 60 degrees\n",
    "    M_lambda_0=-16.3, \n",
    "    Delta_M_lambda=4, \n",
    "    delta_M=[1,1],\n",
    "):\n",
    "\n",
    "    if dl is None and z is None:\n",
    "        raise ValueError(\"Either dl or z must be provided\")\n",
    "    elif dl is None:\n",
    "        dl = cosmo.luminosity_distance(z).value\n",
    "    M_lambda = M_lambda_theta_v(theta_v, theta_0, M_lambda_0, Delta_M_lambda, delta_M)\n",
    "\n",
    "    return M_lambda + 5 * np.log10(dl) + 25\n",
    "\n",
    "# pdet\n",
    "def pdet_kne(\n",
    "    theta_v, # in rad\n",
    "    dl = None, # in Mpc\n",
    "    z = None,\n",
    "    theta_0 = 1.0471975511965976, # 60 degrees\n",
    "    M_lambda_0=-16.3, \n",
    "    Delta_M_lambda=4, \n",
    "    delta_M=[1,1],\n",
    "    detector_threshold=20.5, # ZTF threshold\n",
    "    f_red = 0.2, # fraction of kilonovae that lacks blue component\n",
    "):\n",
    "    len_ = len(theta_v)\n",
    "    m_lambda = m_lambda_theta_v(theta_v, dl, z, theta_0, M_lambda_0, Delta_M_lambda, delta_M)\n",
    "\n",
    "\n",
    "    # pdet\n",
    "    pdet = np.zeros_like(m_lambda)\n",
    "    pdet[m_lambda < detector_threshold] = 1\n",
    "\n",
    "    if (f_red!=0.0) and (f_red is not None) and (isinstance(f_red, float)):\n",
    "        # choose f_red fraction and set pdet to 0\n",
    "        # draw random number between 0 and 1 for each element in pdet\n",
    "        gr_60_deg = np.rad2deg(theta_v) > 60\n",
    "    \n",
    "        idx_below_18 = (m_lambda < 18) & gr_60_deg & (pdet==1) & (np.random.uniform(0, 1, len_) < f_red)\n",
    "        idx_between_18_20 = (m_lambda >= 18) & (m_lambda < 20) & gr_60_deg & (pdet==1) & (np.random.uniform(0, 1, len_) < f_red)\n",
    "        idx_above_20 = (m_lambda >= 20) & gr_60_deg\n",
    "\n",
    "        # print(np.sum(idx_below_18))\n",
    "        # print(np.sum(idx_between_18_20))\n",
    "        # print(np.sum(idx_above_20))\n",
    "        \n",
    "        if np.sum(idx_above_20) != 0:\n",
    "            num_above_20 = np.sum(idx_above_20)\n",
    "            fraction_above_20 = num_above_20 / len(m_lambda)\n",
    "            idx_above_20 &= (np.random.uniform(0, 1, len_) < f_red*(1+1/fraction_above_20)) & (pdet==1)\n",
    "            pdet[idx_above_20] = 0\n",
    "\n",
    "        # print(np.sum(idx_above_20))\n",
    "\n",
    "        pdet[idx_below_18] = 0\n",
    "        pdet[idx_between_18_20] = 0\n",
    "        \n",
    "        \n",
    "    return pdet"
   ]
  },
  {
   "cell_type": "code",
   "execution_count": 153,
   "metadata": {},
   "outputs": [
    {
     "name": "stdout",
     "output_type": "stream",
     "text": [
      "0\n",
      "1010\n",
      "0\n"
     ]
    }
   ],
   "source": [
    "pdet_kne(np.ones(10000)*np.deg2rad(62), np.ones(10000)*20, f_red=0.1, delta_M=0.0);"
   ]
  },
  {
   "cell_type": "code",
   "execution_count": 159,
   "metadata": {},
   "outputs": [
    {
     "name": "stdout",
     "output_type": "stream",
     "text": [
      "54\n",
      "184\n",
      "31052\n"
     ]
    },
    {
     "data": {
      "image/png": "[encoded data removed]",
      "text/plain": [
       "<Figure size 640x480 with 2 Axes>"
      ]
     },
     "metadata": {},
     "output_type": "display_data"
    }
   ],
   "source": [
    "# uniform distribution of theta_v and dl\n",
    "theta_v = np.random.uniform(0, np.pi/2, 100000)\n",
    "dl = np.random.uniform(10, 500, 100000)\n",
    "\n",
    "pdet = pdet_kne(theta_v, dl, f_red=0.1, delta_M=[-1,1])\n",
    "\n",
    "# 2D histogram\n",
    "plt.hist2d(dl, np.rad2deg(theta_v), bins=50, weights=pdet, cmap=\"viridis\")\n",
    "plt.colorbar()\n",
    "plt.xlabel(\"dl (Mpc)\")\n",
    "plt.ylabel(\"theta_v (degrees)\")\n",
    "plt.title(\"pdet\")\n",
    "plt.show()"
   ]
  },
  {
   "cell_type": "code",
   "execution_count": 125,
   "metadata": {},
   "outputs": [
    {
     "data": {
      "text/plain": [
       "31"
      ]
     },
     "execution_count": 125,
     "metadata": {},
     "output_type": "execute_result"
    }
   ],
   "source": [
    "np.sum(test==0)"
   ]
  },
  {
   "cell_type": "code",
   "execution_count": 11,
   "metadata": {},
   "outputs": [
    {
     "data": {
      "text/plain": [
       "5.0"
      ]
     },
     "execution_count": 11,
     "metadata": {},
     "output_type": "execute_result"
    }
   ],
   "source": [
    "np.log10(1e5)"
   ]
  },
  {
   "cell_type": "code",
   "execution_count": null,
   "metadata": {},
   "outputs": [],
   "source": [
    "def rjs_with_cross_section_mp(self, param_dict):\n",
    "        \"\"\"\n",
    "        Function to conduct rejection sampling wrt cross_section, multiprocessing\n",
    "\n",
    "        Parameters\n",
    "        ----------\n",
    "        param_dict : `dict`\n",
    "            dictionary of lens parameters and source parameters\n",
    "\n",
    "        Returns\n",
    "        -------\n",
    "        lens_params : `dict`\n",
    "            dictionary of lens parameters after rejection sampling\n",
    "        \"\"\"\n",
    "\n",
    "\n",
    "        theta_E_cut = 2.9243287409459857e-08\n",
    "\n",
    "        # Pre-filter param_dict directly\n",
    "        idx = param_dict[\"theta_E\"] > theta_E_cut\n",
    "        param_dict = {key: val[idx] \n",
    "                    for key, val in param_dict.items()}\n",
    "\n",
    "        size = len(param_dict[\"theta_E\"])  # Update size after filtering\n",
    "        theta_E = param_dict[\"theta_E\"]\n",
    "        e1 = param_dict[\"e1\"]\n",
    "        e2 = param_dict[\"e2\"]\n",
    "        gamma = param_dict[\"gamma\"]\n",
    "        gamma1 = param_dict[\"gamma1\"]\n",
    "        gamma2 = param_dict[\"gamma2\"]\n",
    "\n",
    "        idx = np.arange(size, dtype=int)\n",
    "        params = np.array([theta_E, e1, e2, gamma, gamma1, gamma2, idx]).T\n",
    "\n",
    "        cross_section = np.zeros(size)  # Directly create filtered array\n",
    "\n",
    "        with Pool(processes=self.npool) as pool:\n",
    "            for result in pool.imap_unordered(cross_section_mp, params): \n",
    "                idx_, tau_ = result\n",
    "                cross_section[idx_] = tau_\n",
    "\n",
    "        max_ = np.max(cross_section)\n",
    "        u = np.random.uniform(0, max_, size=size)\n",
    "        mask = u < cross_section\n",
    "\n",
    "        # Return the dictionary with the mask applied\n",
    "        dict_ = {key: val[mask] for key, val in param_dict.items()}\n",
    "        dict_[\"cross_section\"] = cross_section[mask]\n",
    "\n",
    "        return dict_"
   ]
  }
 ],
 "metadata": {
  "kernelspec": {
   "display_name": "ler",
   "language": "python",
   "name": "ler"
  },
  "language_info": {
   "codemirror_mode": {
    "name": "ipython",
    "version": 3
   },
   "file_extension": ".py",
   "mimetype": "text/x-python",
   "name": "python",
   "nbconvert_exporter": "python",
   "pygments_lexer": "ipython3",
   "version": "3.10.14"
  }
 },
 "nbformat": 4,
 "nbformat_minor": 2
}
