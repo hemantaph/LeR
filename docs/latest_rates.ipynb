{
 "cells": [
  {
   "cell_type": "markdown",
   "metadata": {},
   "source": [
    "# Latest rates of various signals\n",
    "\n",
    "## Below I am providing the latest rates (events per year) of various signals \n",
    "\n",
    "* BBH (binary black hole) GWs (gravitational waves) for O4 (Observing Run 4) psd (power spectral density) for H1 and L1 detectors\n",
    "* BNS (binary neutron star) GWs for O4 psd for H1 and L1 detectors\n",
    "* BNS-GRB (gamma-ray burst) analytical for Fermi-GBM+Swift detectors\n",
    "\n",
    "### BBH vs BNS \n",
    "\n",
    "| Signal-type/Detectors   | unlensed (low, median, high) | lensed (low, median, high) | Ratio unlensed/lensed  |\n",
    "|-------------------------|-----------------------------|----------------------------|------------------------|\n",
    "| BBH-GW | 91.302, 143.940, 231.981     | 0.209, 0.321, 0.537        | 437.825, 447.848, 432.134 |\n",
    "| BNS-GW | 0.801, 3.427, 10.694        | 0.001, 0.009, 0.027        | 535.533, 387.699, 396.547 |\n",
    "| **Ratio BBH/BNS**        | **113.985, 42.001, 21.692** | **209.000, 35.667, 19.889** | - |\n",
    "\n",
    "### BNS vs GRB (independent)\n",
    "\n",
    "| Signal-type/Detectors     | unlensed (low, median, high) | lensed (low, median, high) | Ratio unlensed/lensed |\n",
    "|---------------------------|-----------------------------|----------------------------|-----------------------|\n",
    "| BNS-GRB | 1936.475, 9455.893, 26452.311| 1.775, 8.594, 24.159       | 1090.669, 1100.271, 1094.943 |\n",
    "| BNS-GW | 0.801, 3.427, 10.694        | 0.001, 0.009, 0.027        | 535.533, 387.699, 396.547 |\n",
    "| **Ratio GW/GRB**           | **1090.972, 1100.290, 1094.926**  | **1775.000, 954.889, 894.778**   | - |"
   ]
  },
  {
   "cell_type": "markdown",
   "metadata": {},
   "source": [
    "## Details on the various settings and assumptions\n",
    "\n",
    "### BBH-GW\n",
    "\n",
    "```\n",
    "\n",
    "from ler.rates import LeR\n",
    "from astropy.cosmology import LambdaCDM\n",
    "\n",
    "ler = LeR(\n",
    "    # LeR set up params:\n",
    "    npool = 4,\n",
    "    z_min = 0.0,\n",
    "    z_max = 5,\n",
    "    event_type = 'BNS',\n",
    "    size = 100000,\n",
    "    batch_size = 50000,\n",
    "    cosmology = LambdaCDM(H0=70.0, Om0=0.3, Ode0=0.7, Tcmb0=0.0, Neff=3.04, m_nu=None, Ob0=None),\n",
    "    snr_finder = 'gwsnr',\n",
    "    json_file_names = {'ler_params': 'ler_params.json', 'unlensed_param': 'unlensed_param.json', 'unlensed_param_detectable': 'unlensed_param_detectable.json', 'lensed_param': 'lensed_param.json', 'lensed_param_detectable': 'lensed_param_detectable.json'},\n",
    "    interpolator_directory = './interpolator_pickle',\n",
    "    ler_directory = './ler_data',\n",
    "    create_new_interpolator = False,\n",
    "\n",
    "    # LeR also takes CBCSourceParameterDistribution class params as kwargs, as follows:\n",
    "    source_priors = {'merger_rate_density': 'merger_rate_density_bbh_popI_II_oguri2018', 'source_frame_masses': 'binary_masses_BNS_bimodal', 'zs': 'sample_source_redshift', 'geocent_time': 'sampler_uniform', 'ra': 'sampler_uniform', 'dec': 'sampler_cosine', 'phase': 'sampler_uniform', 'psi': 'sampler_uniform', 'theta_jn': 'sampler_sine'},\n",
    "    source_priors_params = {'merger_rate_density': {'R0': 1.055e-07, 'b2': 1.6, 'b3': 2.0, 'b4': 30}, 'source_frame_masses': {'w': 0.643, 'muL': 1.352, 'sigmaL': 0.08, 'muR': 1.88, 'sigmaR': 0.3, 'mmin': 1.0, 'mmax': 2.3}, 'zs': None, 'geocent_time': {'min_': 1238166018, 'max_': 1269702018}, 'ra': {'min_': 0.0, 'max_': 6.283185307179586}, 'dec': None, 'phase': {'min_': 0.0, 'max_': 6.283185307179586}, 'psi': {'min_': 0.0, 'max_': 3.141592653589793}, 'theta_jn': None},\n",
    "    spin_zero = True,\n",
    "    spin_precession = False,\n",
    "\n",
    "    # LeR also takes LensGalaxyParameterDistribution class params as kwargs, as follows:\n",
    "    lens_type = 'epl_galaxy',\n",
    "    lens_functions = {'strong_lensing_condition': 'rjs_with_cross_section_SIE', 'optical_depth': 'optical_depth_SIE_hemanta', 'param_sampler_type': 'sample_all_routine'},\n",
    "    lens_priors = {'source_redshift_sl': 'strongly_lensed_source_redshifts', 'lens_redshift': 'lens_redshift_SDSS_catalogue', 'velocity_dispersion': 'velocity_dispersion_ewoud', 'axis_ratio': 'axis_ratio_rayleigh', 'axis_rotation_angle': 'axis_rotation_angle_uniform', 'shear': 'shear_norm', 'mass_density_spectral_index': 'mass_density_spectral_index_normal', 'source_parameters': 'sample_gw_parameters'},\n",
    "    lens_priors_params = {'source_redshift_sl': None, 'lens_redshift': None, 'velocity_dispersion': None, 'axis_ratio': {'q_min': 0.2, 'q_max': 1.0}, 'axis_rotation_angle': {'phi_min': 0.0, 'phi_max': 6.283185307179586}, 'shear': {'scale': 0.05}, 'mass_density_spectral_index': {'mean': 2.0, 'std': 0.2}, 'source_parameters': None},\n",
    "\n",
    "    # LeR also takes ImageProperties class params as kwargs, as follows:\n",
    "    n_min_images = 2,\n",
    "    n_max_images = 4,\n",
    "    geocent_time_min = 1126259462.4,\n",
    "    geocent_time_max = 1756979462.4,\n",
    "    lens_model_list = ['EPL_NUMBA', 'SHEAR'],\n",
    "\n",
    "    # LeR also takes gwsnr.GWSNR params as kwargs, as follows:\n",
    "    mtot_min = 2.0,\n",
    "    mtot_max = 51,\n",
    "    ratio_min = 0.1,\n",
    "    ratio_max = 1.0,\n",
    "    mtot_resolution = 500,\n",
    "    ratio_resolution = 50,\n",
    "    sampling_frequency = 2048.0,\n",
    "    waveform_approximant = 'IMRPhenomD',\n",
    "    minimum_frequency = 20.0,\n",
    "    snr_type = 'interpolation',\n",
    "    psds = {'L1':'o4_psd.txt', 'H1':'o4_psd.txt'}, # psd generated from O4a strain near GW230529\n",
    "    ifos = None,\n",
    "    interpolator_dir = './interpolator_pickle',\n",
    "    gwsnr_verbose = False,\n",
    "    multiprocessing_verbose = True,\n",
    "    mtot_cut = True,\n",
    ")\n",
    "```"
   ]
  },
  {
   "cell_type": "code",
   "execution_count": null,
   "metadata": {},
   "outputs": [],
   "source": []
  },
  {
   "cell_type": "code",
   "execution_count": null,
   "metadata": {},
   "outputs": [],
   "source": []
  },
  {
   "cell_type": "code",
   "execution_count": null,
   "metadata": {},
   "outputs": [],
   "source": []
  },
  {
   "cell_type": "code",
   "execution_count": null,
   "metadata": {},
   "outputs": [],
   "source": []
  },
  {
   "cell_type": "markdown",
   "metadata": {},
   "source": []
  }
 ],
 "metadata": {
  "kernelspec": {
   "display_name": "ler",
   "language": "python",
   "name": "python3"
  },
  "language_info": {
   "codemirror_mode": {
    "name": "ipython",
    "version": 3
   },
   "file_extension": ".py",
   "mimetype": "text/x-python",
   "name": "python",
   "nbconvert_exporter": "python",
   "pygments_lexer": "ipython3",
   "version": "3.10.14"
  }
 },
 "nbformat": 4,
 "nbformat_minor": 2
}
