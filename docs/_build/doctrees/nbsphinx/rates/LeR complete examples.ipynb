{
 "cells": [
  {
   "cell_type": "markdown",
   "metadata": {},
   "source": [
    "# LeR complete examples"
   ]
  },
  {
   "cell_type": "markdown",
   "metadata": {},
   "source": [
    "## Short lensed/unlensed BBH example with three detectors\n",
    "\n",
    "* This part of the notebook is a short example to simulate lensed and unlensed binary black hole mergers and calculate their rates ($yr^{-1}$) and finally compare the results."
   ]
  },
  {
   "cell_type": "code",
   "execution_count": 1,
   "metadata": {},
   "outputs": [],
   "source": [
    "# call the LeR class\n",
    "from ler.rates import LeR"
   ]
  },
  {
   "cell_type": "markdown",
   "metadata": {},
   "source": [
    "* class initialization\n",
    "* if you want the models and its parameters to print.\n",
    "\n",
    "    ```ler = LeR()```\n",
    "    \n",
    "* set 'npool' according to your machine's available CPU cores. Default is 4.\n",
    "* to check no. of cores, \n",
    "\n",
    "    ```import multiprocessing as mp```\n",
    "    \n",
    "    ```print(mp.cpu_count())```"
   ]
  },
  {
   "cell_type": "code",
   "execution_count": 2,
   "metadata": {},
   "outputs": [],
   "source": [
    "ler = LeR(verbose=False, create_new_interpolator=False)"
   ]
  },
  {
   "cell_type": "markdown",
   "metadata": {},
   "source": [
    "### Simulation of the GW CBC population (unlensed).\n",
    "\n",
    "* this will generate a json file with the simulated population parameters\n",
    "* by default 100,000 events will be sampled with batches of 25,000. For more realistic results, keep batch_size=50000 and size=1000000.\n",
    "* results will be saved in the same directory as json file.\n",
    "* resume=True will resume the simulation from the last saved batch.\n",
    "* if you dont't need to save each batch, set save_batch=False."
   ]
  },
  {
   "cell_type": "code",
   "execution_count": 4,
   "metadata": {},
   "outputs": [
    {
     "name": "stdout",
     "output_type": "stream",
     "text": [
      "unlensed params will be store in ./unlensed_param.json\n",
      "chosen batch size = 25000 with total size = 100000\n",
      "There will be 4 batche(s)\n",
      "Batch no. 1\n",
      "sampling gw source params...\n",
      "calculating snrs...\n",
      "Batch no. 2\n",
      "sampling gw source params...\n",
      "calculating snrs...\n",
      "Batch no. 3\n",
      "sampling gw source params...\n",
      "calculating snrs...\n",
      "Batch no. 4\n",
      "sampling gw source params...\n",
      "calculating snrs...\n",
      "saving all unlensed_params in ./unlensed_param.json...\n"
     ]
    }
   ],
   "source": [
    "# ler.batch_size = 100000 # for faster computation\n",
    "unlensed_param = ler.unlensed_cbc_statistics(size=100000, resume=False, save_batch=False)"
   ]
  },
  {
   "cell_type": "markdown",
   "metadata": {},
   "source": [
    "### Calculation of unlensed rates"
   ]
  },
  {
   "cell_type": "code",
   "execution_count": 14,
   "metadata": {},
   "outputs": [
    {
     "name": "stdout",
     "output_type": "stream",
     "text": [
      "getting unlensed_params from json file ./unlensed_param.json...\n",
      "total unlensed rate (yr^-1) (with step function): 436.8666235339314\n",
      "number of simulated unlensed detectable events: 422\n",
      "number of all simulated unlensed events: 100000\n",
      "storing detectable unlensed params in ./unlensed_param_detectable.json\n"
     ]
    }
   ],
   "source": [
    "ler.unlensed_rate();"
   ]
  },
  {
   "cell_type": "markdown",
   "metadata": {},
   "source": [
    "### Simulation of the GW CBC population (lensed).\n",
    "\n",
    "* this will generate a json file with the simulated source parameters, lensed parameters and image parameters.\n",
    "* if the program hangs dues to memory issues,\n",
    "  * try reducing the batch size.\n",
    "  * and you can resume from the last saved batch."
   ]
  },
  {
   "cell_type": "code",
   "execution_count": 9,
   "metadata": {},
   "outputs": [
    {
     "name": "stdout",
     "output_type": "stream",
     "text": [
      "lensed params will be store in ./lensed_param.json\n",
      "chosen batch size = 25000 with total size = 100000\n",
      "There will be 4 batche(s)\n",
      "Batch no. 1\n",
      "sampling lensed params...\n",
      "solving lens equations...\n"
     ]
    },
    {
     "name": "stderr",
     "output_type": "stream",
     "text": [
      "100%|███████████████████████████████████████████████████████| 25000/25000 [00:08<00:00, 2969.69it/s]\n"
     ]
    },
    {
     "name": "stdout",
     "output_type": "stream",
     "text": [
      "calculating snrs...\n",
      "Batch no. 2\n",
      "sampling lensed params...\n",
      "solving lens equations...\n"
     ]
    },
    {
     "name": "stderr",
     "output_type": "stream",
     "text": [
      "100%|███████████████████████████████████████████████████████| 25000/25000 [00:08<00:00, 2943.54it/s]\n"
     ]
    },
    {
     "name": "stdout",
     "output_type": "stream",
     "text": [
      "calculating snrs...\n",
      "Batch no. 3\n",
      "sampling lensed params...\n",
      "solving lens equations...\n"
     ]
    },
    {
     "name": "stderr",
     "output_type": "stream",
     "text": [
      "100%|███████████████████████████████████████████████████████| 25000/25000 [00:08<00:00, 2919.36it/s]\n"
     ]
    },
    {
     "name": "stdout",
     "output_type": "stream",
     "text": [
      "calculating snrs...\n",
      "Batch no. 4\n",
      "sampling lensed params...\n",
      "solving lens equations...\n"
     ]
    },
    {
     "name": "stderr",
     "output_type": "stream",
     "text": [
      "100%|███████████████████████████████████████████████████████| 25000/25000 [00:08<00:00, 2985.65it/s]\n"
     ]
    },
    {
     "name": "stdout",
     "output_type": "stream",
     "text": [
      "calculating snrs...\n",
      "saving all lensed params in ./lensed_param.json...\n"
     ]
    }
   ],
   "source": [
    "# ler.batch_size = 50000\n",
    "lensed_param = ler.lensed_cbc_statistics(size=100000, resume=False, save_batch=False)"
   ]
  },
  {
   "cell_type": "markdown",
   "metadata": {},
   "source": [
    "* what are the saved files?"
   ]
  },
  {
   "cell_type": "code",
   "execution_count": 14,
   "metadata": {},
   "outputs": [
    {
     "data": {
      "text/plain": [
       "{'ler_param': './ler_params.json',\n",
       " 'unlensed_param': './unlensed_param.json',\n",
       " 'unlensed_param_detectable': './unlensed_param_detectable.json',\n",
       " 'lensed_param': './lensed_param.json',\n",
       " 'lensed_param_detectable': './lensed_param_detectable.json'}"
      ]
     },
     "execution_count": 14,
     "metadata": {},
     "output_type": "execute_result"
    }
   ],
   "source": [
    "ler.json_file_names"
   ]
  },
  {
   "cell_type": "markdown",
   "metadata": {},
   "source": [
    "### Calculation of lensed rates"
   ]
  },
  {
   "cell_type": "code",
   "execution_count": 15,
   "metadata": {},
   "outputs": [
    {
     "name": "stdout",
     "output_type": "stream",
     "text": [
      "getting lensed_params from json file ./lensed_param.json...\n",
      "total lensed rate (yr^-1) (with step function): 1.1701057610525099\n",
      "number of simulated lensed detectable events: 471\n",
      "number of simulated all lensed events: 100000\n",
      "storing detectable lensed params in ./lensed_param_detectable.json\n"
     ]
    }
   ],
   "source": [
    "ler.lensed_rate();"
   ]
  },
  {
   "cell_type": "markdown",
   "metadata": {},
   "source": [
    "### Comparison of the rates"
   ]
  },
  {
   "cell_type": "code",
   "execution_count": 16,
   "metadata": {},
   "outputs": [
    {
     "name": "stdout",
     "output_type": "stream",
     "text": [
      "unlensed_rate: 436.8666235339314\n",
      "lensed_rate: 1.1701057610525099\n",
      "ratio: 373.35652731165936\n"
     ]
    }
   ],
   "source": [
    "ler.rate_ratio();"
   ]
  },
  {
   "cell_type": "markdown",
   "metadata": {},
   "source": [
    "* if you want to compare the rates, and compare it at the same time, run the following command.\n",
    "\n",
    "    ```rate_ratio, unlensed_param_detectable, lensed_param_detectable =ler.rate_comparison_with_rate_calculation()```"
   ]
  },
  {
   "cell_type": "markdown",
   "metadata": {},
   "source": [
    "* looking at the available parameters\n",
    "* Note: This is for spin-less systems. IMRPhenomD (spin-less) is the default waveform approximant. To see LeR configuration, run\n",
    "\n",
    "    ```ler.print_all_params()```"
   ]
  },
  {
   "cell_type": "code",
   "execution_count": 20,
   "metadata": {},
   "outputs": [
    {
     "name": "stdout",
     "output_type": "stream",
     "text": [
      "dict_keys(['zs', 'geocent_time', 'ra', 'dec', 'phase', 'psi', 'theta_jn', 'luminosity_distance', 'mass_1_source', 'mass_2_source', 'mass_1', 'mass_2', 'L1', 'H1', 'V1', 'optimal_snr_net'])\n",
      "dict_keys(['zl', 'zs', 'sigma', 'q', 'theta_E', 'phi', 'e1', 'e2', 'gamma1', 'gamma2', 'gamma', 'geocent_time', 'ra', 'dec', 'phase', 'psi', 'theta_jn', 'luminosity_distance', 'mass_1_source', 'mass_2_source', 'mass_1', 'mass_2', 'x0_image_positions', 'x1_image_positions', 'magnifications', 'time_delays', 'image_type', 'n_images', 'effective_luminosity_distance', 'effective_geocent_time', 'optimal_snr_net', 'L1', 'H1', 'V1'])\n"
     ]
    }
   ],
   "source": [
    "# getting generated parameters\n",
    "unlensed_param_detectable = ler.unlensed_param_detectable\n",
    "lensed_param_detectable = ler.lensed_param_detectable\n",
    "print(unlensed_param_detectable.keys())\n",
    "print(lensed_param_detectable.keys())"
   ]
  },
  {
   "cell_type": "markdown",
   "metadata": {},
   "source": [
    "* Note: all ler initialization parameters and results are saved in a json file."
   ]
  },
  {
   "cell_type": "code",
   "execution_count": 21,
   "metadata": {},
   "outputs": [
    {
     "name": "stdout",
     "output_type": "stream",
     "text": [
      "dict_keys(['npool', 'z_min', 'z_max', 'size', 'batch_size', 'cosmology', 'snr_finder', 'json_file_names', 'directory', 'gw_param_sampler_dict', 'snr_calculator_dict', 'detectable_lensed_rate_per_year', 'detectability_condition', 'detectable_unlensed_rate_per_year', 'rate_ratio'])\n",
      "detectable_unlensed_rate_per_year:  436.8666235339314\n",
      "detectable_lensed_rate_per_year;  1.1701057610525099\n",
      "rate_ratio:  373.35652731165936\n"
     ]
    }
   ],
   "source": [
    "from ler.utils import load_json\n",
    "ler_params = load_json('./ler_params.json')\n",
    "print(ler_params.keys())\n",
    "print(\"detectable_unlensed_rate_per_year: \", ler_params['detectable_unlensed_rate_per_year'])\n",
    "print(\"detectable_lensed_rate_per_year; \",ler_params['detectable_lensed_rate_per_year'])\n",
    "print(\"rate_ratio: \",ler_params['rate_ratio'])"
   ]
  },
  {
   "cell_type": "code",
   "execution_count": 23,
   "metadata": {},
   "outputs": [
    {
     "name": "stdout",
     "output_type": "stream",
     "text": [
      "getting gw_params from json file ./unlensed_param_detectable.json...\n",
      "getting gw_params from json file ./unlensed_param.json...\n",
      "getting gw_params from json file ./lensed_param_detectable.json...\n",
      "getting gw_params from json file ./lensed_param.json...\n"
     ]
    },
    {
     "data": {
      "image/png": "[encoded data removed]",
      "text/plain": [
       "<Figure size 600x400 with 1 Axes>"
      ]
     },
     "metadata": {},
     "output_type": "display_data"
    }
   ],
   "source": [
    "# quick plot\n",
    "import matplotlib.pyplot as plt\n",
    "from ler.utils import plots as lerplt\n",
    "\n",
    "# plotting the distribution of event parameters\n",
    "# comparision of redshift distribution for lensed and unlensed events\n",
    "# param_dict can be either a dictionary or a json file name that contains the parameters\n",
    "plt.figure(figsize=(6, 4))\n",
    "# for unlensed case\n",
    "lerplt.param_plot(\n",
    "    param_name='zs',\n",
    "    param_dict='./unlensed_param_detectable.json',\n",
    "    plot_label='zs (bbh-detectable)',\n",
    "    histogram=False,\n",
    "    kde=True,\n",
    "    kde_bandwidth=0.5,\n",
    ")\n",
    "lerplt.param_plot(\n",
    "    param_name='zs',\n",
    "    param_dict='./unlensed_param.json',\n",
    "    plot_label='zs (bbh-all)',\n",
    "    histogram=False,\n",
    "    kde=True,\n",
    ")\n",
    "# for lensed case\n",
    "lerplt.param_plot(\n",
    "    param_name='zs',\n",
    "    param_dict='./lensed_param_detectable.json',\n",
    "    plot_label='zs (bbh-lensed-detectable)',\n",
    "    histogram=False,\n",
    "    kde=True,\n",
    "    kde_bandwidth=0.5,\n",
    ")\n",
    "lerplt.param_plot(\n",
    "    param_name='zs',\n",
    "    param_dict='./lensed_param.json',\n",
    "    plot_label='zs (bbh-lensed-all)',\n",
    "    histogram=False,\n",
    "    kde=True,\n",
    ")\n",
    "plt.xlim(0.001,8)\n",
    "plt.grid(alpha=0.4)\n",
    "plt.xlabel('Source redshift (zs)')\n",
    "plt.ylabel('Probability Density')\n",
    "plt.show()"
   ]
  },
  {
   "cell_type": "markdown",
   "metadata": {},
   "source": [
    "## Custom functions\n",
    "\n",
    "* `ler` allows internal model functions to be change with custom functions.\n",
    "\n",
    "* It also allows to change the default parameters of the existing model functions."
   ]
  },
  {
   "cell_type": "code",
   "execution_count": 1,
   "metadata": {},
   "outputs": [
    {
     "name": "stdout",
     "output_type": "stream",
     "text": [
      "z_to_luminosity_distance interpolator will be loaded from ./interpolator_pickle/z_to_luminosity_distance/z_to_luminosity_distance_1.pickle\n",
      "differential_comoving_volume interpolator will be loaded from ./interpolator_pickle/differential_comoving_volume/differential_comoving_volume_2.pickle\n",
      "merger_rate_density_bbh_popI_II_oguri2018 interpolator will be loaded from ./interpolator_pickle/merger_rate_density_bbh_popI_II_oguri2018/merger_rate_density_bbh_popI_II_oguri2018_5.pickle\n",
      "z_to_Dc interpolator will be loaded from ./interpolator_pickle/z_to_Dc/z_to_Dc_1.pickle\n",
      "Dc_to_z interpolator will be loaded from ./interpolator_pickle/Dc_to_z/Dc_to_z_1.pickle\n",
      "angular_diameter_distance interpolator will be loaded from ./interpolator_pickle/angular_diameter_distance/angular_diameter_distance_1.pickle\n",
      "differential_comoving_volume interpolator will be loaded from ./interpolator_pickle/differential_comoving_volume/differential_comoving_volume_0.pickle\n",
      "velocity_dispersion_ewoud interpolator will be loaded from ./interpolator_pickle/velocity_dispersion_ewoud/velocity_dispersion_ewoud_1.pickle\n",
      "optical_depth_SIE_hemanta interpolator will be loaded from ./interpolator_pickle/optical_depth_SIE_hemanta/optical_depth_SIE_hemanta_1.pickle\n",
      "Dl_to_z interpolator will be loaded from ./interpolator_pickle/Dl_to_z/Dl_to_z_1.pickle\n",
      "npool:  4\n",
      "snr type:  interpolation\n",
      "waveform approximant:  IMRPhenomD\n",
      "sampling frequency:  2048.0\n",
      "minimum frequency (fmin):  20.0\n",
      "mtot=mass1+mass2\n",
      "min(mtot):  2.0\n",
      "max(mtot) (with the given fmin=20.0): 184.98599853446768\n",
      "min(ratio):  0.1\n",
      "max(ratio):  1.0\n",
      "mtot resolution:  100\n",
      "ratio resolution:  100\n",
      "interpolator directory:  ./interpolator_pickle\n",
      "Interpolator will be loaded for L1 detector from ./interpolator_pickle/L1/halfSNR_dict_3.pickle\n",
      "Interpolator will be loaded for H1 detector from ./interpolator_pickle/H1/halfSNR_dict_3.pickle\n",
      "Interpolator will be loaded for V1 detector from ./interpolator_pickle/V1/halfSNR_dict_3.pickle\n",
      "\n",
      " LeR set up params:\n",
      "npool =  4\n",
      "z_min =  0.0\n",
      "z_max =  10.0\n",
      "event_type =  BBH\n",
      "size =  100000\n",
      "batch_size =  25000\n",
      "cosmology =  LambdaCDM(H0=70.0 km / (Mpc s), Om0=0.3, Ode0=0.7, Tcmb0=0.0 K, Neff=3.04, m_nu=None, Ob0=None)\n",
      "snr_finder =  <bound method GWSNR.snr of <gwsnr.gwsnr.GWSNR object at 0x115d9f070>>\n",
      "json_file_names =  {'ler_param': './ler_params.json', 'unlensed_param': './unlensed_param.json', 'unlensed_param_detectable': './unlensed_param_detectable.json', 'lensed_param': './lensed_param.json', 'lensed_param_detectable': './lensed_param_detectable.json'}\n",
      "directory =  ./interpolator_pickle\n",
      "\n",
      " LeR also takes CBCSourceParameterDistribution params as kwargs, as follows:\n",
      "source_priors= {'merger_rate_density': 'merger_rate_density_bbh_popI_II_oguri2018', 'source_frame_masses': 'binary_masses_BBH_popI_II_powerlaw_gaussian', 'zs': 'sample_source_redshift', 'geocent_time': 'sampler_uniform', 'ra': 'sampler_uniform', 'dec': 'sampler_cosine', 'phase': 'sampler_uniform', 'psi': 'sampler_uniform', 'theta_jn': 'sampler_sine'}\n",
      "source_priors_params= {'merger_rate_density': {'R0': 2.5000000000000002e-08, 'b2': 1.6, 'b3': 2.0, 'b4': 30}, 'source_frame_masses': {'mminbh': 4.98, 'mmaxbh': 112.5, 'alpha': 3.78, 'mu_g': 32.27, 'sigma_g': 3.88, 'lambda_peak': 0.03, 'delta_m': 4.8, 'beta': 0.81}, 'zs': None, 'geocent_time': {'min_': 1238166018, 'max_': 1269702018}, 'ra': {'min_': 0.0, 'max_': 6.283185307179586}, 'dec': None, 'phase': {'min_': 0.0, 'max_': 6.283185307179586}, 'psi': {'min_': 0.0, 'max_': 3.141592653589793}, 'theta_jn': None}\n",
      "spin_zero= True\n",
      "spin_precession= False\n",
      "create_new_interpolator= False\n",
      "\n",
      " LeR also takes LensGalaxyParameterDistribution params as kwargs, as follows:\n",
      "lens_type =  epl_galaxy\n",
      "lens_functions =  {'strong_lensing_condition': 'rjs_with_cross_section_SIE', 'optical_depth': 'optical_depth_SIE_hemanta', 'param_sampler_type': 'sample_all_routine'}\n",
      "lens_priors =  {'source_redshift_sl': 'strongly_lensed_source_redshifts', 'lens_redshift': 'lens_redshift_SDSS_catalogue', 'velocity_dispersion': 'velocity_dispersion_ewoud', 'axis_ratio': 'axis_ratio_rayleigh', 'axis_rotation_angle': 'axis_rotation_angle_uniform', 'external_shear': 'shear_norm', 'density_profile_slope': 'density_profile_slope_normal', 'source_parameters': 'sample_gw_parameters'}\n",
      "lens_priors_params =  {'source_redshift_sl': None, 'lens_redshift': None, 'velocity_dispersion': {'a': 0.8689138576779026, 'c': 2.67, 'vd_min': 0.0, 'vd_max': 600.0}, 'axis_ratio': {'q_min': 0.2, 'q_max': 1.0}, 'axis_rotation_angle': {'phi_min': 0.0, 'phi_max': 6.283185307179586}, 'external_shear': {'scale': 0.05}, 'density_profile_slope': {'mean': 2.0, 'std': 0.2}, 'source_parameters': None}\n",
      "\n",
      " Image properties:\n",
      "n_min_images =  2\n",
      "n_max_images =  4\n",
      "geocent_time_min =  1126259462.4\n",
      "geocent_time_max =  4279859462.4\n",
      "lens_model_list =  ['EPL_NUMBA', 'SHEAR']\n",
      "\n",
      " LeR also takes gwsnr.GWSNR params as kwargs, as follows:\n",
      "mtot_min =  2.0\n",
      "mtot_max =  200\n",
      "ratio_min =  0.1\n",
      "ratio_max =  1.0\n",
      "mtot_resolution =  100\n",
      "ratio_resolution =  100\n",
      "sampling_frequency =  2048.0\n",
      "waveform_approximant =  IMRPhenomD\n",
      "minimum_frequency =  20.0\n",
      "snr_type =  interpolation\n",
      "psds =  {'L1': 'aLIGO_O4_high_asd.txt', 'H1': 'aLIGO_O4_high_asd.txt', 'V1': 'AdV_asd.txt'}\n",
      "isit_psd_file =  False\n",
      "ifos =  None\n",
      "interpolator_dir =  ./interpolator_pickle\n",
      "create_new_interpolator =  False\n",
      "gwsnr_verbose =  True\n",
      "multiprocessing_verbose =  True\n",
      "mtot_cut =  True\n",
      "\n",
      " For reference, the chosen source parameters are listed below:\n",
      "merger_rate_density =  merger_rate_density_bbh_popI_II_oguri2018\n",
      "merger_rate_density_params =  {'R0': 2.5000000000000002e-08, 'b2': 1.6, 'b3': 2.0, 'b4': 30}\n",
      "source_frame_masses =  binary_masses_BBH_popI_II_powerlaw_gaussian\n",
      "source_frame_masses_params =  {'mminbh': 4.98, 'mmaxbh': 112.5, 'alpha': 3.78, 'mu_g': 32.27, 'sigma_g': 3.88, 'lambda_peak': 0.03, 'delta_m': 4.8, 'beta': 0.81}\n",
      "geocent_time =  sampler_uniform\n",
      "geocent_time_params =  {'min_': 1238166018, 'max_': 1269702018}\n",
      "ra =  sampler_uniform\n",
      "ra_params =  {'min_': 0.0, 'max_': 6.283185307179586}\n",
      "dec =  sampler_cosine\n",
      "dec_params =  None\n",
      "phase =  sampler_uniform\n",
      "phase_params =  {'min_': 0.0, 'max_': 6.283185307179586}\n",
      "psi =  sampler_uniform\n",
      "psi_params =  {'min_': 0.0, 'max_': 3.141592653589793}\n",
      "theta_jn =  sampler_sine\n",
      "theta_jn_params =  None\n",
      "\n",
      " For reference, the chosen lens related parameters and functions are listed below:\n",
      "lens_redshift =  lens_redshift_SDSS_catalogue\n",
      "lens_redshift_params =  None\n",
      "velocity_dispersion =  velocity_dispersion_ewoud\n",
      "velocity_dispersion_params =  {'a': 0.8689138576779026, 'c': 2.67, 'vd_min': 0.0, 'vd_max': 600.0}\n",
      "axis_ratio =  axis_ratio_rayleigh\n",
      "axis_ratio_params =  {'q_min': 0.2, 'q_max': 1.0}\n",
      "axis_rotation_angle =  axis_rotation_angle_uniform\n",
      "axis_rotation_angle_params =  {'phi_min': 0.0, 'phi_max': 6.283185307179586}\n",
      "shear =  shear_norm\n",
      "shear_params =  {'scale': 0.05}\n",
      "density_profile_slope =  density_profile_slope_normal\n",
      "density_profile_slope_params =  {'mean': 2.0, 'std': 0.2}\n",
      "\n",
      " Lens functions:\n",
      "strong_lensing_condition =  rjs_with_cross_section_SIE\n",
      "optical_depth =  optical_depth_SIE_hemanta\n"
     ]
    }
   ],
   "source": [
    "# First let's look at what are the input parameters available for ler.LeR\n",
    "# The input paramters can divided into five categories\n",
    "# 1. ler.LeR set up params\n",
    "# 2. ler.CBCSourceParameterDistribution set up params (as kwargs)\n",
    "# 3. ler.LensGalaxyParameterDistribution set up params (as kwargs)\n",
    "# 4. ler.ImageProperties set up params (as kwargs)\n",
    "# 5. gwsnr.GWSNR set up params (as kwargs)\n",
    "import matplotlib.pyplot as plt\n",
    "from ler.rates import LeR\n",
    "ler = LeR(npool=4, verbose=True)"
   ]
  },
  {
   "cell_type": "markdown",
   "metadata": {},
   "source": [
    "As an example, I will change,\n",
    "\n",
    "  * merger_rate_density_params's default value of **local merger rate density** ($R_0$) to 2.3e-9 $Mpc^{-3} yr^{-1}$. But, I am still using the default merger_rate_density function, which is 'merger_rate_density_bbh_popI_II_oguri2018'.\n",
    "\n",
    "  * **source_frame_masses** to a custom function. This is similar to the internal default function, i.e. PowerLaw+Peak model. I am using `gwcosmo`'s powerlaw_gaussian prior for this example.\n",
    "\n",
    "  * **optical depth** for strong lensing condition and **velocity dispersion** of the lensing galaxy to SIS model and gamma function respectively. The default optical depth is for the SIE model and default velocity dispersion has additional redshift dependence.\n",
    "  \n",
    "  * `gwsnr` parameters: By default, it uses 'IMRPhenomD' **waveform model** with no spin. It uses interpolation method to find the 'snr' and it is super fast. But for the example below, I am using 'IMRPhenomXPHM` with precessing spins. This is without interpolation but through inner product method. It will be slower."
   ]
  },
  {
   "cell_type": "code",
   "execution_count": 3,
   "metadata": {},
   "outputs": [],
   "source": [
    "from gwcosmo import priors as p\n",
    "\n",
    "# define your custom function of mass_1_source and mass_2_source calculation\n",
    "# all ler internal functions are defined in a similar way\n",
    "def powerlaw_peak(size, mminbh=4.98, mmaxbh=86.22, alpha=2.63, mu_g=33.07, sigma_g=5.69, lambda_peak=0.10, delta_m=4.82, beta=1.26, param=None):\n",
    "    \"\"\"\n",
    "    Function to sample mass1 and mass2 from a powerlaw with a gaussian peak\n",
    "\n",
    "    Parameters\n",
    "    ----------\n",
    "    size : `int`\n",
    "        Number of samples to draw\n",
    "    mminbh : `float`\n",
    "        Minimum mass of the black hole (Msun)\n",
    "        default: 4.98\n",
    "    mmaxbh : `float`\n",
    "        Maximum mass of the black hole (Msun)\n",
    "        default: 86.22\n",
    "    alpha : `float`\n",
    "        Spectral index for the powerlaw of the primary mass distribution\n",
    "        default: 2.63\n",
    "    mu_g : `float`\n",
    "        Mean of the Gaussian component in the primary mass distribution\n",
    "        default: 33.07\n",
    "    sigma_g : `float`\n",
    "        Width of the Gaussian component in the primary mass distribution\n",
    "        default: 5.69\n",
    "    lambda_peak : `float`\n",
    "        Fraction of the model in the Gaussian component\n",
    "        default: 0.10\n",
    "    delta_m : `float`\n",
    "        Range of mass tapering on the lower end of the mass distribution\n",
    "        default: 4.82\n",
    "    beta : `float`\n",
    "        Spectral index for the powerlaw of the mass ratio distribution\n",
    "        default: 1.26\n",
    "    param : `dict`\n",
    "        Dictionary of parameters for the model. This will override the above.\n",
    "    \"\"\"\n",
    "\n",
    "    if param:\n",
    "        mminbh = param['mminbh']\n",
    "        mmaxbh = param['mmaxbh']\n",
    "        alpha = param['alpha']\n",
    "        mu_g = param['mu_g']\n",
    "        sigma_g = param['sigma_g']\n",
    "        lambda_peak = param['lambda_peak']\n",
    "        delta_m = param['delta_m']\n",
    "        beta = param['beta']\n",
    "\n",
    "    model = p.BBH_powerlaw_gaussian(\n",
    "        mminbh=mminbh,\n",
    "        mmaxbh=mmaxbh,\n",
    "        alpha=alpha,\n",
    "        mu_g=mu_g,\n",
    "        sigma_g=sigma_g,\n",
    "        lambda_peak=lambda_peak,\n",
    "        delta_m=delta_m,\n",
    "        beta=beta,\n",
    "    )\n",
    "    # sample mass1 and mass2\n",
    "    mass_1_source, mass_2_source = model.sample(Nsample=size)\n",
    "\n",
    "    return (mass_1_source, mass_2_source)"
   ]
  },
  {
   "cell_type": "code",
   "execution_count": 5,
   "metadata": {},
   "outputs": [],
   "source": [
    "# Initialize the class with the custom function\n",
    "# changing ler input params\n",
    "ler = LeR(npool=4, verbose=False,\n",
    "    # for source parameters  \n",
    "    source_priors=dict(\n",
    "        merger_rate_density='merger_rate_density_bbh_popI_II_oguri2018',\n",
    "        source_frame_masses=powerlaw_peak,\n",
    "    ),\n",
    "    source_priors_params=dict(\n",
    "        merger_rate_density=dict(\n",
    "            R0=2.9e-08,\n",
    "            b2=1.6,\n",
    "            b3=2.0,\n",
    "            b4=30\n",
    "        ),\n",
    "        source_frame_masses=dict(\n",
    "            mminbh=4.98,\n",
    "            mmaxbh=86.22,\n",
    "            alpha=2.63,\n",
    "            mu_g=33.07,\n",
    "            sigma_g=5.69,\n",
    "            lambda_peak=0.10,\n",
    "            delta_m=4.82,\n",
    "            beta=1.26\n",
    "        ),\n",
    "    ),\n",
    "    # for lens parameters\n",
    "    lens_functions=dict(\n",
    "        strong_lensing_condition=\"rjs_with_cross_section_SIS\",\n",
    "        optical_depth=\"optical_depth_SIS_haris\",\n",
    "    ),\n",
    "    lens_priors=dict(\n",
    "        velocity_dispersion=\"velocity_dispersion_gengamma\",\n",
    "    ),\n",
    "    lens_priors_params=dict(\n",
    "        velocity_dispersion=dict(a=2.32 / 2.67, c=2.67)\n",
    "    ),\n",
    "    # for snr generation\n",
    "    waveform_approximant = 'IMRPhenomXPHM',\n",
    "    snr_type='inner_product',\n",
    "    spin_zero=False,\n",
    "    spin_precession=True,\n",
    ")"
   ]
  },
  {
   "cell_type": "code",
   "execution_count": 14,
   "metadata": {},
   "outputs": [],
   "source": [
    "ler = LeR(npool=6, verbose=False, nsamples_mtot=200, nsamples_mass_ratio=500,\n",
    "    source_priors=dict(\n",
    "        source_frame_masses=\"binary_masses_BBH_popI_II_powerlaw_gaussian\"\n",
    "    ),\n",
    "    source_priors_params=dict(\n",
    "        source_frame_masses=dict(\n",
    "            mminbh=4.98,\n",
    "            mmaxbh=86.22,\n",
    "            alpha=2.63,\n",
    "            mu_g=33.07,\n",
    "            sigma_g=5.69,\n",
    "            lambda_peak=0.10,\n",
    "            delta_m=4.82,\n",
    "            beta=1.26\n",
    "        )\n",
    "    ),\n",
    "    lens_functions=dict(\n",
    "        strong_lensing_condition=\"rjs_with_cross_section_SIS\",\n",
    "        optical_depth=\"optical_depth_SIS_haris\",\n",
    "    ),\n",
    "    lens_priors=dict(\n",
    "        velocity_dispersion=\"velocity_dispersion_gengamma\",\n",
    "    ),\n",
    "    lens_priors_params=dict(\n",
    "        velocity_dispersion=dict(a=2.32 / 2.67, c=2.67)\n",
    "    ),\n",
    ")"
   ]
  },
  {
   "cell_type": "code",
   "execution_count": 7,
   "metadata": {},
   "outputs": [
    {
     "name": "stdout",
     "output_type": "stream",
     "text": [
      "chosen batch size = 50000 with total size = 100000\n",
      "There will be 2 batche(s)\n",
      "resuming from ./new_unlensed_params.json\n",
      "Batch no. 1\n",
      "sampling gw source params...\n",
      "calculating snrs...\n",
      "solving SNR with inner product\n"
     ]
    },
    {
     "name": "stderr",
     "output_type": "stream",
     "text": [
      "100%|████████████████████████████████████████████████████████| 40809/40809 [00:54<00:00, 750.80it/s]\n"
     ]
    },
    {
     "name": "stdout",
     "output_type": "stream",
     "text": [
      "Batch no. 2\n",
      "sampling gw source params...\n",
      "calculating snrs...\n",
      "solving SNR with inner product\n"
     ]
    },
    {
     "name": "stderr",
     "output_type": "stream",
     "text": [
      "100%|████████████████████████████████████████████████████████| 40712/40712 [00:54<00:00, 745.62it/s]\n"
     ]
    }
   ],
   "source": [
    "# simulation of the unlensed CBC population\n",
    "# you can set the batch size at the LeR initialization\n",
    "# or you can set it using the `batch_size` instance variable\n",
    "# if the sample size is large, it is recommended to set the batch size to a large number, but it will consume more RAM memory or simply your machine's individual core won't be able to handle it.\n",
    "ler.batch_size = 50000\n",
    "ler.unlensed_cbc_statistics(size=100000, resume=True, output_jsonfile = './new_unlensed_params.json');"
   ]
  },
  {
   "cell_type": "code",
   "execution_count": 9,
   "metadata": {},
   "outputs": [
    {
     "name": "stdout",
     "output_type": "stream",
     "text": [
      "chosen batch size = 50000 with total size = 100000\n",
      "There will be 2 batche(s)\n",
      "resuming from ./new_lensed_params.json\n"
     ]
    }
   ],
   "source": [
    "# simulation of the GW CBC population (lensed).\n",
    "# this will generate a json file with the simulated source parameters, lensed parameters and image parameters.\n",
    "# if the program hangs dues to memory issues,\n",
    "# 1. try reducing the batch size.\n",
    "# 2. and you can resume from the last saved batch.\n",
    "ler.lensed_cbc_statistics(size=100000, resume=True, output_jsonfile = './new_lensed_params.json');"
   ]
  },
  {
   "cell_type": "code",
   "execution_count": 10,
   "metadata": {},
   "outputs": [
    {
     "name": "stdout",
     "output_type": "stream",
     "text": [
      "dict_keys(['zs', 'geocent_time', 'ra', 'dec', 'phase', 'psi', 'theta_jn', 'a_1', 'a_2', 'tilt_1', 'tilt_2', 'phi_12', 'phi_jl', 'luminosity_distance', 'mass_1_source', 'mass_2_source', 'mass_1', 'mass_2', 'L1', 'H1', 'V1', 'optimal_snr_net'])\n",
      "dict_keys(['zl', 'zs', 'sigma', 'q', 'theta_E', 'phi', 'e1', 'e2', 'gamma1', 'gamma2', 'gamma', 'geocent_time', 'ra', 'dec', 'phase', 'psi', 'theta_jn', 'a_1', 'a_2', 'tilt_1', 'tilt_2', 'phi_12', 'phi_jl', 'luminosity_distance', 'mass_1_source', 'mass_2_source', 'mass_1', 'mass_2', 'n_images', 'x0_image_positions', 'x1_image_positions', 'magnifications', 'time_delays', 'image_type', 'optimal_snr_net', 'L1', 'H1', 'V1'])\n"
     ]
    }
   ],
   "source": [
    "# Note: you can also also called the generate parameters using an instance attribute. This instance attribute gets the dict from the json file generated above.\n",
    "# Note: This is for spin-precessing systems, and it will contain extra (spin-related) parameters.\n",
    "unlensed_param = ler.unlensed_param\n",
    "print(unlensed_param.keys())\n",
    "lensed_param = ler.lensed_param\n",
    "print(lensed_param.keys())"
   ]
  },
  {
   "cell_type": "code",
   "execution_count": 11,
   "metadata": {},
   "outputs": [
    {
     "name": "stdout",
     "output_type": "stream",
     "text": [
      "getting unlensed_params from json file ./new_unlensed_params.json...\n",
      "total unlensed rate (yr^-1) (with step function): 880.9798498279042\n",
      "storing detectable unlensed params in ./new_unlensed_params_detectable.json\n",
      "getting lensed_params from json file ./new_lensed_params.json...\n",
      "total lensed rate (yr^-1) (with step function): 0.6287065084983634\n",
      "storing detectable lensed params in ./new_lensed_params_detectable.json\n",
      "unlensed_rate: 880.9798498279042\n",
      "lensed_rate: 0.6287065084983634\n",
      "ratio: 1401.2577218773893\n"
     ]
    }
   ],
   "source": [
    "# generate detectable events and compute the rate ratio\n",
    "# note: here no input params are provided, so it will track the json files generated above\n",
    "# For individual rate computation, use\n",
    "# >>> ler.unlensed_rate();\n",
    "# >>> ler.lensed_rate();\n",
    "rate_ratio, unlensed_param_detectable, lensed_param_detectable =ler.rate_comparison_with_rate_calculation(\n",
    "    unlensed_param='./new_unlensed_params.json',\n",
    "    snr_threshold_unlensed=8.0,\n",
    "    lensed_param='./new_lensed_params.json',\n",
    "    output_jsonfile_unlensed='./new_unlensed_params_detectable.json',\n",
    "    output_jsonfile_lensed='./new_lensed_params_detectable.json',\n",
    "    snr_threshold_lensed=[8.0,8.0],\n",
    "    num_img=[1,1],\n",
    ")"
   ]
  },
  {
   "cell_type": "markdown",
   "metadata": {},
   "source": [
    "**Important Note:**\n",
    "* input parameters, snr_threshold_lensed=[8.0,8.0], num_img=[1,1], means that two of the images should have snr>8.0. You can also set: snr_threshold_lensed=8, num_img=2\n",
    "\n",
    "* Similarly, if snr_threshold_lensed=[8.0,6.0], num_img=[2,2], it means that two of the images should have snr>8.0 and other two images should have snr>6.0. But in this case, even though the simulated lensed (detectable) events are correct, the rate calculation will not be right as the strong lensing condition was set for 2 image case."
   ]
  },
  {
   "cell_type": "code",
   "execution_count": 12,
   "metadata": {},
   "outputs": [
    {
     "data": {
      "text/plain": [
       "{'ler_param': './ler_params.json',\n",
       " 'unlensed_param': './new_unlensed_params.json',\n",
       " 'unlensed_param_detectable': './new_unlensed_params_detectable.json',\n",
       " 'lensed_param': './new_lensed_params.json',\n",
       " 'lensed_param_detectable': './new_lensed_params_detectable.json'}"
      ]
     },
     "execution_count": 12,
     "metadata": {},
     "output_type": "execute_result"
    }
   ],
   "source": [
    "# to check all the stored json file names\n",
    "ler.json_file_names"
   ]
  },
  {
   "cell_type": "code",
   "execution_count": 13,
   "metadata": {},
   "outputs": [
    {
     "name": "stdout",
     "output_type": "stream",
     "text": [
      "dict_keys(['zs', 'geocent_time', 'ra', 'dec', 'phase', 'psi', 'theta_jn', 'a_1', 'a_2', 'tilt_1', 'tilt_2', 'phi_12', 'phi_jl', 'luminosity_distance', 'mass_1_source', 'mass_2_source', 'mass_1', 'mass_2', 'L1', 'H1', 'V1', 'optimal_snr_net'])\n",
      "dict_keys(['zl', 'zs', 'sigma', 'q', 'theta_E', 'phi', 'e1', 'e2', 'gamma1', 'gamma2', 'gamma', 'geocent_time', 'ra', 'dec', 'phase', 'psi', 'theta_jn', 'a_1', 'a_2', 'tilt_1', 'tilt_2', 'phi_12', 'phi_jl', 'luminosity_distance', 'mass_1_source', 'mass_2_source', 'mass_1', 'mass_2', 'n_images', 'x0_image_positions', 'x1_image_positions', 'magnifications', 'time_delays', 'image_type', 'optimal_snr_net', 'L1', 'H1', 'V1'])\n"
     ]
    }
   ],
   "source": [
    "# again you can call the generated detectable events' parameters using an instance attribute\n",
    "# Note: The data is not stored in this instance attribute, it is stored in the json file. This scheme is used to save RAM memory.\n",
    "unlensed_param_detectable = ler.unlensed_param_detectable\n",
    "print(unlensed_param_detectable.keys())\n",
    "lensed_param_detectable = ler.lensed_param_detectable\n",
    "print(lensed_param_detectable.keys())"
   ]
  },
  {
   "cell_type": "markdown",
   "metadata": {},
   "source": [
    "### How to look for available model functions?"
   ]
  },
  {
   "cell_type": "code",
   "execution_count": 15,
   "metadata": {},
   "outputs": [
    {
     "name": "stdout",
     "output_type": "stream",
     "text": [
      "{'binary_masses_BBH_popI_II_powerlaw_gaussian': {'mminbh': 4.98, 'mmaxbh': 112.5, 'alpha': 3.78, 'mu_g': 32.27, 'sigma_g': 3.88, 'lambda_peak': 0.03, 'delta_m': 4.8, 'beta': 0.81}, 'binary_masses_BBH_popIII_lognormal': {'Mc': 30.0, 'sigma': 0.3, 'beta': 1.1}, 'binary_masses_BBH_primordial_lognormal': {'Mc': 30.0, 'sigma': 0.3, 'beta': 1.1}, 'binary_masses_BNS_gwcosmo': {'mminns': 1.0, 'mmaxns': 3.0, 'alphans': 0.0}, 'binary_masses_BNS_bimodal': {'w': 0.643, 'muL': 1.352, 'sigmaL': 0.08, 'muR': 1.88, 'sigmaR': 0.3, 'mmin': 1.0, 'mmax': 2.3}}\n",
      "{'velocity_dispersion_haris': {'a': 0.8689138576779026, 'c': 2.67}, 'velocity_dispersion_gengamma': {'a': 0.8689138576779026, 'c': 2.67}, 'velocity_dispersion_bernardi': None, 'velocity_dispersion_ewoud': None}\n"
     ]
    }
   ],
   "source": [
    "# All available names are stored as a dict in ler instance\n",
    "# the keys of this dict shows the parameter type\n",
    "# the values are also dict, where the keys are the model function names and the values are their input parameters\n",
    "\n",
    "# for unlensed case\n",
    "print(ler.available_gw_prior_list_and_its_params['source_frame_masses'])\n",
    "# for lensed case\n",
    "print(ler.available_lens_prior_list_and_its_params['velocity_dispersion'])"
   ]
  },
  {
   "cell_type": "code",
   "execution_count": 19,
   "metadata": {},
   "outputs": [
    {
     "name": "stdout",
     "output_type": "stream",
     "text": [
      "{'merger_rate_density': 'merger_rate_density_bbh_popI_II_oguri2018', 'source_frame_masses': <function powerlaw_peak at 0x2a85e6d40>, 'zs': 'sample_source_redshift', 'geocent_time': 'sampler_uniform', 'ra': 'sampler_uniform', 'dec': 'sampler_cosine', 'phase': 'sampler_uniform', 'psi': 'sampler_uniform', 'theta_jn': 'sampler_sine', 'a_1': 'sampler_uniform', 'a_2': 'sampler_uniform', 'tilt_1': 'sampler_sine', 'tilt_2': 'sampler_sine', 'phi_12': 'sampler_uniform', 'phi_jl': 'sampler_uniform'}\n",
      "{'merger_rate_density': {'R0': 2.9e-08, 'b2': 1.6, 'b3': 2.0, 'b4': 30}, 'source_frame_masses': {'mminbh': 4.98, 'mmaxbh': 86.22, 'alpha': 2.63, 'mu_g': 33.07, 'sigma_g': 5.69, 'lambda_peak': 0.1, 'delta_m': 4.82, 'beta': 1.26}, 'zs': None, 'geocent_time': {'min_': 1238166018, 'max_': 1269702018}, 'ra': {'min_': 0.0, 'max_': 6.283185307179586}, 'dec': None, 'phase': {'min_': 0.0, 'max_': 6.283185307179586}, 'psi': {'min_': 0.0, 'max_': 3.141592653589793}, 'theta_jn': None, 'a_1': {'min_': 0.0, 'max_': 0.8}, 'a_2': {'min_': 0.0, 'max_': 0.8}, 'tilt_1': None, 'tilt_2': None, 'phi_12': {'min_': 0, 'max_': 6.283185307179586}, 'phi_jl': {'min_': 0, 'max_': 6.283185307179586}}\n",
      "{'source_redshift_sl': 'strongly_lensed_source_redshifts', 'lens_redshift': 'lens_redshift_SDSS_catalogue', 'velocity_dispersion': 'velocity_dispersion_gengamma', 'axis_ratio': 'axis_ratio_rayleigh', 'axis_rotation_angle': 'axis_rotation_angle_uniform', 'external_shear': 'shear_norm', 'density_profile_slope': 'density_profile_slope_normal', 'source_parameters': 'sample_gw_parameters'}\n",
      "{'source_redshift_sl': None, 'lens_redshift': None, 'velocity_dispersion': {'a': 0.8689138576779026, 'c': 2.67}, 'axis_ratio': {'q_min': 0.2, 'q_max': 1.0}, 'axis_rotation_angle': {'phi_min': 0.0, 'phi_max': 6.283185307179586}, 'external_shear': {'scale': 0.05}, 'density_profile_slope': {'mean': 2.0, 'std': 0.2}, 'source_parameters': None}\n"
     ]
    }
   ],
   "source": [
    "# for looking at the choosen models and its input parameters\n",
    "\n",
    "# for unlensed case\n",
    "print(ler.gw_param_samplers)\n",
    "print(ler.gw_param_samplers_params)\n",
    "# for lensed case\n",
    "print(ler.lens_param_samplers)\n",
    "print(ler.lens_param_samplers_params)"
   ]
  },
  {
   "cell_type": "markdown",
   "metadata": {},
   "source": [
    "## Using internal model functions"
   ]
  },
  {
   "cell_type": "code",
   "execution_count": 20,
   "metadata": {},
   "outputs": [],
   "source": [
    "# calling the default mass distribution model\n",
    "mass_1_source, mass_2_source = ler.binary_masses_BBH_popI_II_powerlaw_gaussian(size=10000)\n",
    "default_model = dict(mass_1_source=mass_1_source)"
   ]
  },
  {
   "cell_type": "code",
   "execution_count": 24,
   "metadata": {},
   "outputs": [
    {
     "data": {
      "image/png": "[encoded data removed]",
      "text/plain": [
       "<Figure size 600x400 with 1 Axes>"
      ]
     },
     "metadata": {},
     "output_type": "display_data"
    }
   ],
   "source": [
    "import matplotlib.pyplot as plt\n",
    "from ler.utils import plots as lerplt\n",
    "\n",
    "# let's do a comparision plot between you custom model and the default model\n",
    "plt.figure(figsize=(6, 4))\n",
    "lerplt.param_plot(\n",
    "    param_name=\"mass_1_source\", \n",
    "    param_dict=unlensed_param, # or the json file name\n",
    "    plot_label='default model',\n",
    ");\n",
    "lerplt.param_plot(\n",
    "    param_name=\"mass_1_source\", \n",
    "    param_dict=default_model,\n",
    "    plot_label='custom model',\n",
    ");\n",
    "plt.xlabel(r'source $m_1$ ($M_{\\odot}$)')\n",
    "plt.ylabel(r'$p(source mass_1)$')\n",
    "plt.xlim(0,60)\n",
    "plt.grid(alpha=0.4)\n",
    "plt.show()"
   ]
  },
  {
   "cell_type": "code",
   "execution_count": 41,
   "metadata": {},
   "outputs": [
    {
     "name": "stdout",
     "output_type": "stream",
     "text": [
      "axis_ratio_spline_coeff interpolator will be generated at ./interpolator_pickle/axis_ratio/axis_ratio_spline_coeff_0.pickle\n",
      "axis_ratio interpolator will be loaded from ./interpolator_pickle/axis_ratio/axis_ratio_1.pickle\n"
     ]
    }
   ],
   "source": [
    "# comparing axis-ratio internally available models\n",
    "size = 10000\n",
    "padilla_strauss = ler.axis_ratio_padilla_strauss(size=size)\n",
    "\n",
    "# axis_ratio_rayleigh depends on the velocity dispersion\n",
    "# \n",
    "sigma = ler.velocity_dispersion_gengamma(size=size)\n",
    "rayleigh = ler.axis_ratio_rayleigh(sigma=sigma)\n",
    "\n",
    "# make a dict\n",
    "axis_ratio_dict = dict(\n",
    "    padilla_strauss=padilla_strauss,\n",
    "    rayleigh=rayleigh,\n",
    ")\n"
   ]
  },
  {
   "cell_type": "code",
   "execution_count": 42,
   "metadata": {},
   "outputs": [
    {
     "data": {
      "image/png": "[encoded data removed]",
      "text/plain": [
       "<Figure size 600x400 with 1 Axes>"
      ]
     },
     "metadata": {},
     "output_type": "display_data"
    }
   ],
   "source": [
    "# plot the distribution of axis-ratio\n",
    "plt.figure(figsize=(6, 4))\n",
    "lerplt.param_plot(\n",
    "    param_name=\"padilla_strauss\",\n",
    "    param_dict=axis_ratio_dict,\n",
    "    plot_label='padilla_strauss',\n",
    ")\n",
    "lerplt.param_plot(\n",
    "    param_name=\"rayleigh\",\n",
    "    param_dict=axis_ratio_dict,\n",
    "    plot_label='rayleigh',\n",
    ")\n",
    "plt.xlabel(r'axis ratio')\n",
    "plt.ylabel(r'$p(axis ratio)$')\n",
    "plt.grid(alpha=0.4)\n",
    "plt.show()"
   ]
  },
  {
   "cell_type": "markdown",
   "metadata": {},
   "source": [
    "## Selecting particular number of detectable events"
   ]
  },
  {
   "cell_type": "code",
   "execution_count": 1,
   "metadata": {},
   "outputs": [],
   "source": [
    "from ler.rates import LeR\n",
    "\n",
    "# class initialization\n",
    "ler = LeR(verbose=False)"
   ]
  },
  {
   "cell_type": "code",
   "execution_count": 5,
   "metadata": {},
   "outputs": [
    {
     "name": "stdout",
     "output_type": "stream",
     "text": [
      "collected number of events =  0\n",
      "collected number of events =  129\n",
      "collected number of events =  215\n",
      "trmming final result to size=200\n"
     ]
    }
   ],
   "source": [
    "# for unlensed case\n",
    "n_size_unlensed_param = ler.selecting_n_unlensed_detectable_events(\n",
    "    size=200, \n",
    "    snr_threshold=8.0,\n",
    "    batch_size=25000,\n",
    "    output_jsonfile='./unlensed_params_n_detectable.json'\n",
    "    )"
   ]
  },
  {
   "cell_type": "code",
   "execution_count": 4,
   "metadata": {},
   "outputs": [
    {
     "name": "stdout",
     "output_type": "stream",
     "text": [
      "collected number of events =  0\n"
     ]
    },
    {
     "name": "stderr",
     "output_type": "stream",
     "text": [
      "100%|███████████████████████████████████████████████████████| 25000/25000 [00:07<00:00, 3142.56it/s]\n"
     ]
    },
    {
     "name": "stdout",
     "output_type": "stream",
     "text": [
      "collected number of events =  62\n"
     ]
    },
    {
     "name": "stderr",
     "output_type": "stream",
     "text": [
      "100%|███████████████████████████████████████████████████████| 25000/25000 [00:07<00:00, 3351.38it/s]\n"
     ]
    },
    {
     "name": "stdout",
     "output_type": "stream",
     "text": [
      "collected number of events =  122\n"
     ]
    },
    {
     "name": "stderr",
     "output_type": "stream",
     "text": [
      "100%|███████████████████████████████████████████████████████| 25000/25000 [00:07<00:00, 3437.18it/s]\n"
     ]
    },
    {
     "name": "stdout",
     "output_type": "stream",
     "text": [
      "collected number of events =  185\n"
     ]
    },
    {
     "name": "stderr",
     "output_type": "stream",
     "text": [
      "100%|███████████████████████████████████████████████████████| 25000/25000 [00:07<00:00, 3452.77it/s]\n"
     ]
    },
    {
     "name": "stdout",
     "output_type": "stream",
     "text": [
      "collected number of events =  250\n",
      "trmming final result to size=200\n"
     ]
    }
   ],
   "source": [
    "# for lensed case\n",
    "# 2 super-threshold and 1 sub-threshold images\n",
    "n_size_lensed_param = ler.selecting_n_lensed_detectable_events(\n",
    "    size=200, \n",
    "    snr_threshold=[8.0,6.0],\n",
    "    num_img=[2,1],\n",
    "    batch_size=25000,\n",
    "    output_jsonfile='./unlensed_params_n_detectable.json'\n",
    "    )"
   ]
  },
  {
   "cell_type": "code",
   "execution_count": 6,
   "metadata": {},
   "outputs": [
    {
     "name": "stdout",
     "output_type": "stream",
     "text": [
      "dict_keys(['zl', 'zs', 'sigma', 'q', 'theta_E', 'phi', 'e1', 'e2', 'gamma1', 'gamma2', 'gamma', 'geocent_time', 'ra', 'dec', 'phase', 'psi', 'theta_jn', 'luminosity_distance', 'mass_1_source', 'mass_2_source', 'mass_1', 'mass_2', 'n_images', 'x0_image_positions', 'x1_image_positions', 'magnifications', 'time_delays', 'image_type', 'optimal_snr_net', 'L1', 'H1', 'V1'])\n",
      "size of each parameters=200\n"
     ]
    }
   ],
   "source": [
    "print(n_size_lensed_param.keys())\n",
    "print(f\"size of each parameters={len(n_size_lensed_param['zl'])}\")"
   ]
  },
  {
   "cell_type": "code",
   "execution_count": null,
   "metadata": {},
   "outputs": [],
   "source": []
  }
 ],
 "metadata": {
  "kernelspec": {
   "display_name": "ler",
   "language": "python",
   "name": "python3"
  },
  "language_info": {
   "codemirror_mode": {
    "name": "ipython",
    "version": 3
   },
   "file_extension": ".py",
   "mimetype": "text/x-python",
   "name": "python",
   "nbconvert_exporter": "python",
   "pygments_lexer": "ipython3",
   "version": "3.10.12"
  }
 },
 "nbformat": 4,
 "nbformat_minor": 2
}
