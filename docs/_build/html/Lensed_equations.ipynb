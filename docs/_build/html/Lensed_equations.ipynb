{
 "cells": [
  {
   "cell_type": "markdown",
   "metadata": {},
   "source": [
    "# Lensed event sampling (Analytical formulation)"
   ]
  },
  {
   "cell_type": "markdown",
   "metadata": {},
   "source": [
    "## Initial setup\n",
    "\n",
    "Note: I will interchangeably use terms like observable events and detectable events.\n",
    "\n",
    "Define all the parameters involved.\n",
    "\n",
    "- Source parameters: $\\theta \\in \\{$ $m_1$ (mass of the heavier one), $m_2$ (mass of the lighter one), $\\iota$ (inclination-angle), $\\phi$ (phase-of-coalescence), $\\psi$ (polarization-angle), $ra$ (right-ascension), $dec$ (declination) $\\}$ and $z_s$ : red-shift of the source.\n",
    "- Lens parameters: $\\theta_L \\in \\{$ $\\sigma$ (velocity-dispersion), $q$ (axis-ratio), $\\psi$ (axis-rotation), $\\gamma$ (spectral-index), $[\\gamma_1,\\gamma_2]$ (external-shear), $[e_1,e_2]$ (ellipticity), $\\beta$ (source position) $\\}$\n",
    "- $z_L$ : red-shift of the galaxy lens\n",
    "- image properties: $\\{$ $\\mu_i$ (magnification), $dt_i$ (time-delay), $n_i$ (morse-phase) $\\}$. There is subscript $i$ because there can be multiple images.\n",
    "- $SL$: Strong lensing condition. It means the original gravitational wave signal is lensed and split into multiple images $(\\geq 2)$.\n",
    "- Distance representation of lens object and source object will be in terms of redshifts ($z_l$ and $z_s$).\n",
    "\n",
    "Montecarlo integration: Given a function $f(\\theta)$ and normalized probability distribution function PDF $P(\\theta)$, then,\n",
    "\n",
    "$$\n",
    "\\begin{equation}\n",
    "\\begin{split}\n",
    "\\int f(\\theta) P(\\theta) d\\theta &\\approx \\frac{1}{N} \\sum_{i=1}^{N} f(\\theta_i) \\nonumber \\\\\n",
    "&\\approx \\left< f(\\theta) \\right>_{\\theta \\in P(\\theta)}\n",
    "\\end{split}\n",
    "\\end{equation}\n",
    "$$\n",
    "\n",
    "where $\\theta_i$ are samples drawn from $P(\\theta)$."
   ]
  },
  {
   "cell_type": "markdown",
   "metadata": {
    "vscode": {
     "languageId": "plaintext"
    }
   },
   "source": [
    "## General formulation of rate equation.\n",
    "\n",
    "What we need to find is the number of lensed gravitational events that are detectable by the detector in a given time interval (1 year). Forget about lensing and detection for a moment. If we want to know the total number of compact binary coalescence (CBC) events then we can write it as,\n",
    "\n",
    "$$\n",
    "\\begin{equation}\n",
    "\\begin{split}\n",
    "\\text{Rate of CBC events at redshift }z_s &= \\frac{\\text{Number CBC events at redshift }z_s}{\\text{Time}} \\nonumber \\\\\n",
    "&= \\text{Merger rate density at }z_s\\times \\text{Volume at }z_s \\\\\n",
    "\\end{split}\n",
    "\\end{equation}\n",
    "$$\n",
    "\n",
    "$$\n",
    "\\begin{equation}\n",
    "\\begin{split}\n",
    "&\\text{Rate of CBC events in the entire observable universe} \\nonumber \\\\\n",
    "&\\;\\;\\;= \\sum_{z_{min}}^{z_{max}} \\text{Rate of CBC events at redshift }z_s \\nonumber \\\\\n",
    "\\end{split}\n",
    "\\end{equation}\n",
    "$$\n",
    "\n",
    "Similarly, we can write the rate of lensed detectable events as,\n",
    "\n",
    "$$\n",
    "\\begin{equation}\n",
    "\\begin{split}\n",
    "&\\text{Rate of detectable lensed events} \\nonumber \\\\\n",
    "&\\;\\;\\;= \\sum_{z_{min}}^{z_{max}} \\text{observable rate density at }z_s\\text{ which are also lensed}\\times \\text{Volume at }z_s\n",
    "\\end{split}\n",
    "\\end{equation}\n",
    "$$\n",
    "\n",
    "Merger rate density at $z_s$ is known. \n",
    "\n",
    "Let's try to formulate it with proper mathematics"
   ]
  },
  {
   "cell_type": "markdown",
   "metadata": {
    "vscode": {
     "languageId": "plaintext"
    }
   },
   "source": [
    "Given $d N^L_{obs}(z_s)$ is the number of lensed GW detectable events from sources at red-shift $z_s$ in a spherical shell of thickness $d z_s$, then, the rate observing lensed GW events is given by,\n",
    "\n",
    "$$\n",
    "\\begin{equation}\n",
    "\\begin{split}\n",
    "\\mathcal{R}_L &= \\int_{z_{min}}^{z_{max}} \\frac{d N^L_{obs}(z_s)}{d t} \\\\\n",
    "&= \\int_{z_{min}}^{z_{max}} \\frac{d^2 N^L_{obs}(z_s)}{d t \\;d\\mathcal{V}_c}  \\frac{d\\mathcal{V}_c}{d\\Omega dz_s} d\\Omega dz_s \\\\\n",
    "&= \\int_{z_{min}}^{z_{max}} \\frac{d^2 N^L_{obs}(z_s)}{\\left(d t/(1+z_s)\\right) \\;d\\mathcal{V}_c}\\frac{1}{(1+z_s)}\\frac{d\\mathcal{V}_c}{d\\Omega dz_s} d\\Omega dz_s \\\\\n",
    "&= \\int_{z_{min}}^{z_{max}} \\frac{d^2 N^L_{obs}(z_s)}{d\\tau \\;d\\mathcal{V}_c}\\frac{1}{(1+z_s)} \\frac{d\\mathcal{V}_c}{d\\Omega dz_s} d\\Omega dz_s \\\\\n",
    "&= \\int_{z_{min}}^{z_{max}} \\frac{d^2 N^L_{obs}(z_s)}{d\\tau \\;d\\mathcal{V}_c}\\frac{1}{(1+z_s)} \\frac{d\\mathcal{V}_c}{d\\Omega dz_s} \\Bigg\\{ \\int_{all\\; sky} d\\Omega \\Bigg\\}dz_s \\\\\n",
    "&= \\int_{z_{min}}^{z_{max}} \\frac{d^2 N^L_{obs}(z_s)}{d\\tau \\;d\\mathcal{V}_c}\\frac{1}{(1+z_s)} \\Bigg(\\frac{d\\mathcal{V}_c}{d\\Omega dz_s} 4\\pi \\Bigg)dz_s \\\\\n",
    "&= \\int_{z_{min}}^{z_{max}} \\frac{d^2 N^L_{obs}(z_s)}{d\\tau \\;d\\mathcal{V}_c}\\frac{1}{(1+z_s)} \\frac{dV_c}{dz_s} dz_s \\\\\n",
    "\\end{split} \\tag{1}\n",
    "\\end{equation}\n",
    "$$\n",
    "\n",
    "Note: Reader should not confuse between lensed events and lensed images. Each lensed event can have multiple lensed images. These images can be detected as seperate GW signals. In case of un-lensed events, there is only one GW signal for each event."
   ]
  },
  {
   "cell_type": "markdown",
   "metadata": {
    "vscode": {
     "languageId": "plaintext"
    }
   },
   "source": [
    "Note that if $d\\tau=dt/(1+z_s)$ is considered the proper time and it can be converted from the time at detector frame $dt$ using the time-dilation factor $(1+z_s)$. Consequently, $\\frac{d^2 N^L_{obs}(z_s)}{d t \\;d\\mathcal{V}_c}$ and $\\frac{d^2 N^L_{obs}(z_s)}{d \\tau \\;d\\mathcal{V}_c}$ are the observed merger rate density at detector-frame and source-frame respectively. We want to use the $R^L_{obs}(z_s)=\\frac{d^2 N^L_{obs}(z_s)}{d \\tau \\;d\\mathcal{V}_c}$ for our analysis as most observational papers and the output of theoretical predictions are in the source-frame. $\\frac{dV_c}{dz_s}dz_s$ is considered a spherical-shell volume element in co-moving coordinates at red-shift $z_s$. So, the rate expression simplifies to integrating (density) $\\times$ (time dilation effect) over the shell volume element. For more information on the volume element refer to this [page]() of the documentation.\n",
    "\n",
    "Note: $\\frac{dV_c}{dz_s}$ is the differential co-moving volume at red-shift $z_s$ and you can get the value by using `astropy` cosmology package for a given cosmology.\n",
    "\n",
    "Now we have,\n",
    "\n",
    "$$\n",
    "\\begin{equation}\n",
    "\\begin{split}\n",
    "\\mathcal{R}_L &= \\int_{z_{min}}^{z_{max}} \\frac{d^2 N^L_{obs}(z_s)}{d \\tau\\;d\\mathcal{V}_c} \\frac{1}{(1+z_s)} \\frac{dV_c}{dz_s} dz_s \\\\\n",
    "&= \\int_{z_{min}}^{z_{max}} R^L_{obs}(z_s) \\frac{1}{(1+z_s)} \\frac{dV_c}{dz_s} dz_s\n",
    "\\end{split} \\tag{2}\n",
    "\\end{equation}\n",
    "$$\n",
    "\n",
    "We want to re-write it in terms intrinsic merger rate distribution $R(z_s)$. $R(z_s)$ is the merger rate density distribution regardless of whether the source is detectable or not.\n",
    "\n",
    "$$\n",
    "\\begin{equation}\n",
    "\\begin{split}\n",
    "\\mathcal{R}_L &= \\int_{z_{min}}^{z_{max}} R^L_{obs}(z_s) \\frac{1}{(1+z_s)} \\frac{dV_c}{dz_s} dz_s \\\\\n",
    "&= \\int_{z_{min}}^{z_{max}} R(z_s) P(obs, SL|z_s) \\frac{1}{(1+z_s)} \\frac{dV_c}{dz_s} dz_s \\\\\n",
    "&= \\int_{z_{min}}^{z_{max}} R(z_s) P(obs|z_s, SL) P(SL|z_s) \\frac{1}{(1+z_s)} \\frac{dV_c}{dz_s} dz_s \\\\\n",
    "\\end{split} \\tag{3}\n",
    "\\end{equation}\n",
    "$$\n",
    "\n",
    "$$\n",
    "\\begin{equation}\n",
    "\\begin{split}\n",
    "\\mathcal{R}_L &= \\mathcal{N}^L \\int_{z_{min}}^{z_{max}} P(z_s| SL) P(obs|z_s, SL) dz_s \\\\\n",
    "\\end{split} \\tag{4}\n",
    "\\end{equation}\n",
    "$$\n",
    "\n",
    "$P(obs|z_s, SL)$ is the probability of observing a lensed GW event given that the source is at red-shift $z_s$ and the signal is strongly lensed. Here, it is considered marginalized over all the gravitational wave parameters $\\theta$ (without $z_s$), lens related parameters $\\theta_L$, lens redshifts $z_L$ and possible source positions $\\beta$, i.e., $P(obs|z_s,SL) = \\int_{\\theta, \\theta_L, z_l, \\beta} d\\theta\\, d\\theta_L\\, dz_l\\, d\\beta\\, P(obs|z_s, \\theta, \\theta_L, z_l, \\beta, SL)$.\n",
    "\n",
    "$P(SL|z_s)$ is the probability of strong lensing given that the source is at red-shift $z_s$. It is also called the optical depth of strong lensing. It is discussed in detail in the next section."
   ]
  },
  {
   "cell_type": "markdown",
   "metadata": {},
   "source": [
    "In Eqn(4) the merger rate density becomes the prior distribution $P(z_s|SL)$ for the lensed source redshift, and it is normalized over the red-shift range. So the normalizing factor is given by,\n",
    "\n",
    "$$\n",
    "\\begin{equation}\n",
    "\\begin{split}\n",
    "\\mathcal{N}^L = \\int_{z_{min}}^{z_{max}} R(z_s) P(SL|z_s) \\frac{1}{(1+z_s)} \\frac{dV_c}{dz_s} dz_s \n",
    "\\end{split} \\tag{5}\n",
    "\\end{equation}\n",
    "$$\n",
    "\n",
    "Therefore,\n",
    "\n",
    "$$\n",
    "\\begin{equation}\n",
    "\\begin{split}\n",
    "P(z_s|SL) = \\frac{R(z_s)}{\\mathcal{N}^L} P(SL|z_s) \\frac{1}{(1+z_s)} \\frac{dV_c}{dz_s}\n",
    "\\end{split} \\tag{6}\n",
    "\\end{equation}\n",
    "$$\n",
    "\n",
    "This is done because we want to sample the red-shift values from this prior distribution, which later will be used in the monte-carlo integration to estimate the rate. \n",
    "\n",
    "Below I have included the Bayesian way of arriving at $P(z_s|SL)$ expression.\n",
    "\n",
    "$$\n",
    "\\begin{equation}\n",
    "\\begin{split}\n",
    "P(z_s|SL) &= \\frac{P(SL|z_s) P(z_s)}{P(SL)} \\\\\n",
    "&= \\frac{P(SL|z_s) P(z_s)}{\\int_{z_{min}}^{z_{max}} P(SL|z_s) P(z_s) dz_s} \\\\\n",
    "&= \\frac{P(SL|z_s) P(z_s)}{\\mathcal{N}^L/\\mathcal{N}^U} \\\\\n",
    "&= \\frac{R(z_s)}{\\mathcal{N}^L} P(SL|z_s) \\frac{1}{(1+z_s)} \\frac{dV_c}{dz_s}\n",
    "\\end{split} \\tag{7}\n",
    "\\end{equation}\n",
    "$$\n",
    "\n",
    "In the above expression, I have used the redshift prior $P(z_s)$ of unlensed events as given in Eqn(6) of [Analytical formulation of the un-lensed event sampling](https://ler.readthedocs.io/en/latest/GW_equations.html#Gravitational-wave-events-sampling-(Analytical-formulation)). \n",
    "\n",
    "$$\n",
    "\\begin{equation}\n",
    "\\begin{split}\n",
    "P(z_s) = \\frac{R(z_s)}{\\mathcal{N}^U} \\frac{1}{(1+z_s)} \\frac{dV_c}{dz_s}\n",
    "\\end{split} \\tag{8}\n",
    "\\end{equation}\n",
    "$$"
   ]
  },
  {
   "cell_type": "markdown",
   "metadata": {
    "vscode": {
     "languageId": "plaintext"
    }
   },
   "source": [
    "Let's re-write the integrand in rate expression in Eqn(4) so that it also become dependent on  lens parameter $\\theta_L$, lens redshift $z_l$, source position $\\beta$, and othet GW parameters $\\theta$.\n",
    "\n",
    "$$\n",
    "\\begin{equation}\n",
    "\\begin{split}\n",
    "\\mathcal{R}_L &= \\mathcal{N}^L \\int_{z_{min}}^{z_{max}} P(z_s| SL)\\, P(obs|z_s, SL)\\, dz_s \\\\\n",
    "& \\text{consider } \\int \\rightarrow \\int_{z_s}\\int_{z_l}\\int_{\\beta}\\int_{\\theta}\\int_{\\theta_L} \\\\\n",
    "&= \\mathcal{N}^L \\int P(z_s| SL)\\, P(obs|z_s, \\theta, \\theta_L, z_l, \\beta, SL) \\\\\n",
    "&\\;\\; P(\\theta)\\, P(\\theta_L|z_l, z_s, SL)\\, P(z_l|z_s)\\, P(\\beta|z_s,z_l, \\theta_L, SL) dz_s d\\theta d\\theta_L dz_l d\\beta \\\\\n",
    "\\end{split} \\tag{9}\n",
    "\\end{equation}\n",
    "$$\n",
    "\n",
    "$$\n",
    "\\begin{equation}\n",
    "\\begin{split}\n",
    "\\mathcal{R}_L &=  \\mathcal{N}^L \\int \\frac{R(z_s)}{\\mathcal{N}^L} P(SL|z_s) \\frac{1}{(1+z_s)} \\frac{dV_c}{dz_s}\\, P(obs|z_s, \\theta, \\theta_L, z_l, \\beta, SL)  \\\\\n",
    "&\\;\\; P(\\theta)\\, P(\\theta_L|z_l, z_s, SL)\\, P(z_l|z_s, SL)\\, P(\\beta|z_s,z_l, \\theta_L, SL) dz_s d\\theta d\\theta_L dz_l d\\beta \\\\\n",
    "\\end{split} \\tag{10}\n",
    "\\end{equation}\n",
    "$$\n",
    "\n",
    "Eqn(10) is the complete expression for the rate of lensed detectable events.\n"
   ]
  },
  {
   "cell_type": "markdown",
   "metadata": {
    "vscode": {
     "languageId": "plaintext"
    }
   },
   "source": [
    "In arriving at Eqn(9) I have used the following relations, \n",
    "\n",
    "$$\n",
    "\\begin{equation}\n",
    "\\begin{split}\n",
    "P(z_s|SL)\\, P(obs|z_s, SL) &= \\int_{z_l}\\int_{\\beta}\\int_{\\theta}\\int_{\\theta_L} P(z_s, z_l, \\beta, \\theta, \\theta_L|SL)\\, P(obs|z_s, \\theta, \\theta_L, z_l, \\beta, SL) d\\theta d\\theta_L dz_l d\\beta \\nonumber \\\\\n",
    "P(z_s, z_l, \\beta, \\theta, \\theta_L|SL) &= P(\\theta) P(z_s, z_l, \\beta, \\theta_L|SL) \\\\\n",
    "P(z_s, z_l, \\beta, \\theta_L|SL) &= P(\\beta|z_s,z_l, \\theta_L, SL) P(z_s, z_l, \\theta_L|SL) \\\\\n",
    "P(z_s, z_l, \\theta_L|SL) &= P(z_l, \\theta_L|z_s, SL) P(z_s|SL) \\\\\n",
    "P(z_l, \\theta_L|z_s, SL) &= P(\\theta_L|z_s, z_l, SL) P(z_l|z_s, SL) \\\\\n",
    "&= P(\\theta_L|z_l, z_s, SL) P(z_l|z_s, SL) \\\\\n",
    "\\end{split}\n",
    "\\end{equation}\n",
    "$$\n",
    "\n",
    "Therefore,\n",
    "\n",
    "$$\n",
    "\\begin{equation}\n",
    "\\begin{split}\n",
    "&P(z_s|SL)\\, P(obs|z_s, SL) = \\nonumber \\\\\n",
    "&\\;\\;\\; \\int_{z_l}\\int_{\\beta}\\int_{\\theta}\\int_{\\theta_L} P(obs|z_s, \\theta, \\theta_L, z_l, \\beta, SL) \\nonumber \\\\\n",
    "&\\;\\;\\; P(z_s|SL) P(\\theta) P(\\theta_L|z_l, z_s, SL)\\, P(z_l|z_s, SL)\\, P(\\beta|z_s,z_l, \\theta_L, SL) d\\theta d\\theta_L dz_l d\\beta \n",
    "\\end{split}\n",
    "\\end{equation}\n",
    "$$"
   ]
  },
  {
   "cell_type": "markdown",
   "metadata": {},
   "source": [
    "## Optical depth\n",
    "\n",
    "**Strong lensing probability (where does it come from?)**"
   ]
  },
  {
   "cell_type": "markdown",
   "metadata": {},
   "source": [
    "### General formulation\n",
    "\n",
    "Optical depth $P(SL|z_s)$ is defined as the probability of a source being strongly lensed. One can also think of it as cross-section of the lensing, i.e..\n",
    "\n",
    "$$\n",
    "\\begin{equation}\n",
    "\\begin{split}\n",
    "&\\text{Optical-depth of a source at redshift }z_s\\\\ \n",
    "&\\;\\;=\\frac{\\text{Sum of small portions of the sky where lensing can happen}}{\\text{Entire sky}}\n",
    "\\end{split} \\tag{9}\n",
    "\\end{equation}\n",
    "$$\n",
    "\n",
    "The numerator corresponds to relevant lensing area of all possible lensing galaxies present in the universe between the observer and the source. For a given source at red-shift $z_s$, the probability of strong lensing is given by $P(SL|z_s)$. And let there be a distribution of lenses $dN(z_l)$ at red-shift $z_l$ in a spherical shell of thickness $d z_l$. Then the probability of strong lensing is given by,\n",
    "\n",
    "\\begin{equation}\n",
    "\\begin{split}\n",
    "P(SL|z_s) &=  \\frac{1}{4\\pi} \\int^{z_s}_{z_l=0} P(SL|z_s, z_l) dN(z_l) \\\\\n",
    "\\end{split} \\tag{10}\n",
    "\\end{equation}\n",
    "\n",
    "Let's try to write the integrand in terms of number density. Consequently, we need to consider the integrand's dependence on lens parameters $\\theta_L$ and lens redshift $z_l$. Now the Eqn(10) becomes,\n",
    "\n",
    "\\begin{equation}\n",
    "\\begin{split}\n",
    "P(SL|z_s) &=  \\frac{1}{4\\pi} \\int^{z_s}_{z_l=0} \\int_{\\theta_L} P(SL|z_s, z_l, \\theta_L) \\frac{d^2N(z_l, \\theta_L)}{dV_c d\\theta_L} \\frac{dV_c}{dz_l} dz_l d\\theta_L \\\\\n",
    "\\end{split} \\tag{11}\n",
    "\\end{equation}\n",
    "\n",
    "The number density of lenses $d^3N(z_l)/dV_c dz_ld\\theta_L$ is the number of lenses per unit volume per unit red-shift per unit lens parameter. The lensing probability $P(SL|z_s, z_l, \\theta_L)$ is the probability of strong lensing given that the source is at red-shift $z_s$, the lens is at red-shift $z_l$ and the lens parameters are $\\theta_L$. The integral is over all possible lens red-shifts and lens parameters. The factor $1/4\\pi$ is the solid angle of the entire sky."
   ]
  },
  {
   "cell_type": "markdown",
   "metadata": {
    "vscode": {
     "languageId": "plaintext"
    }
   },
   "source": [
    "### Optical depth for Singular isothermal sphere SIS lens\n",
    "\n",
    "This is in reference to [Haris et al. 2018](https://arxiv.org/abs/1807.07062). \n",
    "\n",
    "Take $P(SL|z_s, z_l, \\theta_L)$ as $\\phi_{\\text{SIS}}=\\pi \\theta_E^2$ ($\\theta_E$: Einstein radius) and $\\theta_L\\in \\{\\sigma\\}$, where $\\sigma$ is the velocity dispersion of the lens. The probability of strong lensing for a SIS lens is given by,\n",
    "\n",
    "\\begin{equation}\n",
    "\\begin{split}\n",
    "P(SL|z_s) &=  \\frac{1}{4\\pi} \\int^{z_s}_{z_l=0} \\int_{\\sigma} P(SL|z_s, z_l, \\sigma) \\frac{d^2N(z_l, \\sigma)}{dV_c d\\sigma} \\frac{dV_c}{dz_l} dz_l d\\sigma \\\\\n",
    "&=  \\frac{1}{4\\pi} \\int^{z_s}_{z_l=0} \\int_{\\sigma} \\phi_{\\text{SIS}} \\frac{d^2N(z_l, \\sigma)}{dV_c d\\sigma} \\frac{dV_c}{dz_l} dz_l d\\sigma \\\\\n",
    "\\end{split} \\tag{12}\n",
    "\\end{equation}\n",
    "\n",
    "Haris has considered the number density of the lens, $\\frac{d^2N(z_l, \\sigma)}{dV_c d\\sigma}=\\,<n>_{\\sigma\\in P(\\sigma)} P(\\sigma)$ where $P(\\sigma)$ is the PDF of velocity dispersion. Taking $<n>_{\\sigma\\in P(\\sigma)}=n_o=8\\times 10^{-3} h^3 Mpc^{-3}$, the optical depth becomes,\n",
    "\n",
    "\\begin{equation}\n",
    "\\begin{split}\n",
    "P(SL|z_s) &=  \\int \\frac{\\theta_E^2}{4} n_o P(\\sigma) \\frac{dV_c}{dz_l} dz_l d\\sigma \\\\\n",
    "P(SL|z_s) &=  \\int_0^{z_s} \\Phi_{SIS}(z_s, z_l) dz_l \\\\\n",
    "& \\text{where, $\\Phi_{SIS}(z_s, z_l)= \\int \\frac{\\theta_E^2}{4} n_o P(\\sigma) \\frac{dV_c}{dz_l}d\\sigma$ }. \\\\\n",
    "& \\;\\; \\Phi_{SIS}(z_s, z_l)= \\left< \\frac{\\theta_E^2}{4} n_o \\frac{dV_c}{dz_l}\\right>_{\\sigma\\in P(\\sigma)} \\\\\n",
    "\\end{split} \\tag{11}\n",
    "\\end{equation}"
   ]
  },
  {
   "cell_type": "markdown",
   "metadata": {},
   "source": [
    "### Optical depth for SIE lens\n",
    "\n",
    "Take $P(SL|z_s, z_l, \\theta_L)$ as $\\phi_{\\text{SIE}}=\\phi_{\\text{SIS}}\\frac{\\phi_{\\text{CUT}}^{\\text{SIE}}(q)}{\\pi}$ and $\\theta_L\\in \\{\\sigma, q\\}$, where $\\sigma$ is the velocity dispersion and $q$ is the axis-ratio. $\\phi^{SIE}_{CUT}(q)$ is derive from the expression given in [Fei Xu et al. 2022](https://iopscience.iop.org/article/10.3847/1538-4357/ac58f8).\n",
    "\n",
    "The probability of strong lensing for a SIE lens is given by,\n",
    "\n",
    "\\begin{equation}\n",
    "\\begin{split}\n",
    "P(SL|z_s) &=  \\int \\frac{\\phi_{SIE}}{4\\pi} \\frac{dN(z_l)}{dV_c d\\sigma dq} \\frac{dV_c}{dz_l} dz_l d\\sigma dq \\\\\n",
    "P(SL|z_s) &=  \\int \\frac{\\phi_{SIS}}{4\\pi} \\frac{\\phi^{SIE}_{CUT}(q)}{\\pi} \\big< n \\big>_{\\sigma, q\\in P(\\sigma, q)} P(q|\\sigma, z_l) P(\\sigma|z_l) \\frac{dV_c}{dz_l} dz_l d\\sigma dq \\\\\n",
    "P(SL|z_s) &=  \\int \\frac{\\phi_{SIS}}{4\\pi} \\frac{\\phi^{SIE}_{CUT}(q)}{\\pi} n_o P(q|\\sigma, z_l) P(\\sigma|z_l) \\frac{dV_c}{dz_l} dz_l d\\sigma dq \\\\\n",
    "& \\;\\;\\;\\;\\; \\text{$\\frac{\\phi^{SIE}_{CUT}(q)}{\\pi}$ will be found through interpolation.}\n",
    "\\end{split} \\tag{12a}\n",
    "\\end{equation}\n",
    "\n",
    "\\begin{equation}\n",
    "\\begin{split}\n",
    "P(SL|z_s) &=  \\int_0^{z_s} \\Phi_{SIE}(z_l) dz_l \\\\\n",
    "& \\text{where, $\\Phi_{SIE}(z_l)= \\int \\frac{\\phi_{SIS}}{4\\pi} \\frac{\\phi^{SIE}_{CUT}(q)}{\\pi} n_o P(q|\\sigma, z_l) P(\\sigma|z_l) \\frac{dV_c}{dz_l} d\\sigma dq$ }. \\\\\n",
    "& \\;\\;  \\Phi_{SIE}(z_l)= \\left< \\frac{\\phi_{SIS}}{4\\pi} \\frac{\\phi^{SIE}_{CUT}(q)}{\\pi} n_o \\frac{dV_c}{dz_l} \\right>_{q\\in P(q|\\sigma,z_l), \\sigma\\in P(\\sigma|z_l)} \\\\\n",
    "& \\text{If $\\sigma$ is independent of $z_l$, then} \\\\\n",
    "& \\;\\;  \\Phi_{SIE}(z_l)= \\left< \\frac{\\phi_{SIS}}{4\\pi} \\frac{\\phi^{SIE}_{CUT}(q)}{\\pi} n_o \\frac{dV_c}{dz_l} \\right>_{q\\in P(q|\\sigma), \\sigma\\in P(\\sigma)}\n",
    "\\end{split} \\tag{12b}\n",
    "\\end{equation}\n",
    "\n"
   ]
  },
  {
   "cell_type": "markdown",
   "metadata": {},
   "source": [
    "## Rate equation (statistical formulation)\n",
    "\n",
    "The final equation of the observed rate of lensed events is shown below in terms of the sampling priors. \n",
    "\n",
    "\\begin{equation}\n",
    "\\begin{split}\n",
    "\\mathcal{R}_L &= \\mathcal{N}^L \\bigg< P(obs|z_s, \\theta, \\theta_L, z_l, \\beta, SL) \\bigg>_{z_s\\in P(z_s|SL), z_l\\in P(z_l|z_s,SL), \\theta\\in P(\\theta), \\theta_L\\in P(\\theta_L|z_l, z_s, SL), \\beta\\in P(\\beta|z_s,z_l, \\theta_L, SL)}\n",
    "\\end{split} \\tag{13}\n",
    "\\end{equation}\n",
    "\n",
    "$P(obs|z\\theta, \\theta_L, \\beta, z_s, SL)$ checks whether the event is detectable or not. The condition of detectability is that two or more images of a lensed event should be detected.\n",
    "\n",
    "The sampling priors can be further simplified as follows,\n",
    "\n",
    "\\begin{equation}\n",
    "\\begin{split}\n",
    "P(z_s|SL) &\\propto P(SL|z_s)\\,P(z_s) \\\\ \n",
    "P(\\theta_L|z_l, z_s, SL) &\\propto P(SL|z_l, z_s, \\theta_L)\\, P(\\theta_L|z_l, z_s) \\\\\n",
    "P(\\beta|z_s,z_l, \\theta_L, SL) &\\propto P(SL|z_s, \\theta_L, \\beta)\\, P(\\beta|z_s,z_l, \\theta_L) \n",
    "\\end{split} \\tag{15}\n",
    "\\end{equation}\n",
    "\n",
    "The right-hand side of the above expressions has two terms $P(SL|\\text{parameter})$ and $P(\\text{parameter})$. In `ler` we use the second term for sampling the parameters. The first term is used for rejection sampling. For example, $P(SL|z_s)$ is used to rejection sample the source red-shift $z_s$ from the astrophysical prior $P(z_s)$."
   ]
  },
  {
   "cell_type": "markdown",
   "metadata": {},
   "source": [
    "## The order of sampling and rate calculation steps in LeR are listed below.\n",
    "\n",
    "1. Sample $z_s$ from $P(z_s)$. And apply rejection sampling with optical depth, $P(SL|z_s)$. Other GW parameters are sampled separately, $P(\\theta)$.\n",
    "2. $z_l$ from $P(z_l|z_s)$.\n",
    "3. $\\sigma$ from $P(\\sigma|z_l)$.\n",
    "4. $q$ from $P(q|\\sigma)$.\n",
    "5. Calculation of Einstein radius and application of lensing condition to the sampled lens parameters, $P(SL|z_s, z_l, \\sigma, q) \\propto \\theta_E^2\\,\\phi^{SIE}_{CUT}$.\n",
    "6. Other lens parameters ($e_1$, $e_2$, $\\gamma_1$, $\\gamma_2$, $\\gamma$) are sampled independent of the SL condition, $P(e_1,e_2,\\gamma_1,\\gamma_2,\\gamma)$. But, this will be rejection sampled later along with the image position.\n",
    "7. Draw image position, $\\beta$, from within the caustic boundary and solve the lens equation. Accept it if it results in 2 or more images, otherwise resample $\\beta$.\n",
    "8. Sometimes (once in 100-200 thousand), the strong lensing condition cannot be satisfied. For these particular events, resample lens parameters and draw image positions, i.e. repeat steps 2-7.\n",
    "9. Calculate the magnification, $\\mu_i$, time-delay, $dt_i$ and morse phase, $n_i$ for each of the lensed event.\n",
    "10. Modify the luminosity distance, $D_l$ to $D_l^{eff}=D_l/\\sqrt{|\\mu_i|}$, and geocent_time to $t_{eff}=t_{geocent}+dt_i$. \n",
    "11. Calculate SNR with [gwsnr](https://gwsnr.readthedocs.io/en/latest/)\n",
    "12. Apply the SNR threshold and check whether the event is detectable or not.\n",
    "13. Calculate rate of lensed events, $\\mathcal{R}_L$ using equation 13."
   ]
  },
  {
   "cell_type": "markdown",
   "metadata": {},
   "source": []
  }
 ],
 "metadata": {
  "language_info": {
   "name": "python"
  }
 },
 "nbformat": 4,
 "nbformat_minor": 2
}
