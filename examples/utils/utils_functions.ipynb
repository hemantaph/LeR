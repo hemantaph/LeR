{
 "cells": [
  {
   "cell_type": "markdown",
   "metadata": {},
   "source": [
    "# Utils functions\n",
    "\n",
    "This notebook introduces functions included in `utils` module\n",
    "\n",
    "## TOC:\n",
    "* [Dealing python dictionary and json files](#first-bullet)\n",
    "* [Rejection sampling functions](#second-bullet)"
   ]
  },
  {
   "cell_type": "markdown",
   "metadata": {},
   "source": [
    "## Dealing python dictionary and json files <a class=\"anchor\" id=\"first-bullet\"></a>"
   ]
  },
  {
   "cell_type": "code",
   "execution_count": 42,
   "metadata": {},
   "outputs": [],
   "source": [
    "from ler.utils import save_json, append_json, add_dictionaries_together, get_param_from_json, trim_dictionary\n",
    "import numpy as np"
   ]
  },
  {
   "cell_type": "code",
   "execution_count": 26,
   "metadata": {},
   "outputs": [],
   "source": [
    "# example dictionary\n",
    "gw_params_original = {'zs': np.array([3.73183043, 0.52355076, 2.49075098]),\n",
    " 'geocent_time': np.array([1.25925574e+09, 1.26536444e+09, 1.25552898e+09]),\n",
    " 'ra': np.array([3.32048854, 5.27956589, 0.87173164]),\n",
    " 'dec': np.array([0.26631948, 0.73091405, 0.29441384]),\n",
    " 'phase': np.array([2.20887256, 5.55796383, 0.07096603]),\n",
    " 'psi': np.array([1.6606896 , 2.34158204, 2.84468041]),\n",
    " 'theta_jn': np.array([0.43683841, 1.68025833, 0.76875154]),\n",
    " 'luminosity_distance': np.array([33013.38094356,  2994.02935263, 20304.88024704]),\n",
    " 'mass_1_source': np.array([34.13715831, 36.02136452, 19.35196858]),\n",
    " 'mass_2_source': np.array([23.22808401, 28.67148514, 13.64229837]),\n",
    " 'mass_1': np.array([161.53124434,  54.88037745,  67.55290328]),\n",
    " 'mass_2': np.array([109.91135463,  43.6824631 ,  47.6218664 ]),\n",
    " 'L1': np.array([0.       , 3.3533832, 0.3272596]),\n",
    " 'H1': np.array([0.        , 2.82521613, 0.96988785]),\n",
    " 'V1': np.array([0.        , 4.53670558, 0.99019192]),\n",
    " 'optimal_snr_net': np.array([0.        , 6.30941539, 1.4241704 ])}"
   ]
  },
  {
   "cell_type": "code",
   "execution_count": 27,
   "metadata": {},
   "outputs": [
    {
     "name": "stdout",
     "output_type": "stream",
     "text": [
      "{'zs': array([3.73183043, 0.52355076, 2.49075098]), 'geocent_time': array([1.25925574e+09, 1.26536444e+09, 1.25552898e+09]), 'ra': array([3.32048854, 5.27956589, 0.87173164]), 'dec': array([0.26631948, 0.73091405, 0.29441384]), 'phase': array([2.20887256, 5.55796383, 0.07096603]), 'psi': array([1.6606896 , 2.34158204, 2.84468041]), 'theta_jn': array([0.43683841, 1.68025833, 0.76875154]), 'luminosity_distance': array([33013.38094356,  2994.02935263, 20304.88024704]), 'mass_1_source': array([34.13715831, 36.02136452, 19.35196858]), 'mass_2_source': array([23.22808401, 28.67148514, 13.64229837]), 'mass_1': array([161.53124434,  54.88037745,  67.55290328]), 'mass_2': array([109.91135463,  43.6824631 ,  47.6218664 ]), 'L1': array([0.       , 3.3533832, 0.3272596]), 'H1': array([0.        , 2.82521613, 0.96988785]), 'V1': array([0.        , 4.53670558, 0.99019192]), 'optimal_snr_net': array([0.        , 6.30941539, 1.4241704 ])}\n"
     ]
    }
   ],
   "source": [
    "# save dictionary in json \n",
    "# save_json is a lighter and faster function but it will not recognize numpy arrays\n",
    "gw_params_list = {}\n",
    "for key, value in gw_params_original.items():\n",
    "    gw_params_list[key] = value.tolist()\n",
    "save_json('gw_param_test.json', gw_params_list)\n",
    "\n",
    "# load json\n",
    "# but get_param_from_json will convert the list back to numpy arrays\n",
    "gw_params = get_param_from_json('gw_param_test.json')\n",
    "\n",
    "print(gw_params)"
   ]
  },
  {
   "cell_type": "code",
   "execution_count": 28,
   "metadata": {},
   "outputs": [
    {
     "name": "stdout",
     "output_type": "stream",
     "text": [
      "{'zs': array([3.73183043, 0.52355076, 2.49075098, 3.73183043]), 'geocent_time': array([1.25925574e+09, 1.26536444e+09, 1.25552898e+09, 1.25925574e+00]), 'ra': array([3.32048854, 5.27956589, 0.87173164, 3.32048854]), 'dec': array([0.26631948, 0.73091405, 0.29441384, 0.26631948]), 'phase': array([2.20887256, 5.55796383, 0.07096603, 2.20887256]), 'psi': array([1.6606896 , 2.34158204, 2.84468041, 1.6606896 ]), 'theta_jn': array([0.43683841, 1.68025833, 0.76875154, 0.43683841]), 'luminosity_distance': array([33013.38094356,  2994.02935263, 20304.88024704, 33013.38094356]), 'mass_1_source': array([34.13715831, 36.02136452, 19.35196858, 34.13715831]), 'mass_2_source': array([23.22808401, 28.67148514, 13.64229837, 23.22808401]), 'mass_1': array([161.53124434,  54.88037745,  67.55290328, 161.53124434]), 'mass_2': array([109.91135463,  43.6824631 ,  47.6218664 , 109.91135463]), 'L1': array([0.       , 3.3533832, 0.3272596, 0.       ]), 'H1': array([0.        , 2.82521613, 0.96988785, 0.        ]), 'V1': array([0.        , 4.53670558, 0.99019192, 0.        ]), 'optimal_snr_net': array([0.        , 6.30941539, 1.4241704 , 0.        ])}\n"
     ]
    }
   ],
   "source": [
    "# In ler `append_json` function to save new or append dictionaries to a json file\n",
    "# you dont need to convert numpy arrays to list. But `append_json` function is a bit slower\n",
    "append_json('gw_param_test.json', gw_params_original, replace=True)  \n",
    "# if 'gw_param_test.json'  already exists, you can use `replace=True` to replace the file\n",
    "# if replace=False, it will append the dictionary\n",
    "\n",
    "new_dict = {'zs': np.array([3.73183043]), 'geocent_time': np.array([1.25925574]), 'ra': np.array([3.32048854]), 'dec': np.array([0.26631948]), 'phase': np.array([2.20887256]), 'psi': np.array([1.6606896]), 'theta_jn': np.array([0.43683841]), 'luminosity_distance': np.array([33013.38094356]), 'mass_1_source': np.array([34.13715831]), 'mass_2_source': np.array([23.22808401]), 'mass_1': np.array([161.53124434]), 'mass_2': np.array([109.91135463]), 'L1': np.array([0.]), 'H1': np.array([0.]), 'V1': np.array([0.]), 'optimal_snr_net': np.array([0.])}\n",
    "\n",
    "append_json('gw_param_test.json', new_dict, replace=False)\n",
    "\n",
    "# load json\n",
    "gw_params = get_param_from_json('gw_param_test.json')\n",
    "print(gw_params)"
   ]
  },
  {
   "cell_type": "code",
   "execution_count": 29,
   "metadata": {},
   "outputs": [
    {
     "name": "stdout",
     "output_type": "stream",
     "text": [
      "{'zs': array([3.73183043, 0.52355076, 2.49075098, 3.73183043]), 'geocent_time': array([1.25925574e+09, 1.26536444e+09, 1.25552898e+09, 1.25925574e+00]), 'ra': array([3.32048854, 5.27956589, 0.87173164, 3.32048854]), 'dec': array([0.26631948, 0.73091405, 0.29441384, 0.26631948]), 'phase': array([2.20887256, 5.55796383, 0.07096603, 2.20887256]), 'psi': array([1.6606896 , 2.34158204, 2.84468041, 1.6606896 ]), 'theta_jn': array([0.43683841, 1.68025833, 0.76875154, 0.43683841]), 'luminosity_distance': array([33013.38094356,  2994.02935263, 20304.88024704, 33013.38094356]), 'mass_1_source': array([34.13715831, 36.02136452, 19.35196858, 34.13715831]), 'mass_2_source': array([23.22808401, 28.67148514, 13.64229837, 23.22808401]), 'mass_1': array([161.53124434,  54.88037745,  67.55290328, 161.53124434]), 'mass_2': array([109.91135463,  43.6824631 ,  47.6218664 , 109.91135463]), 'L1': array([0.       , 3.3533832, 0.3272596, 0.       ]), 'H1': array([0.        , 2.82521613, 0.96988785, 0.        ]), 'V1': array([0.        , 4.53670558, 0.99019192, 0.        ]), 'optimal_snr_net': array([0.        , 6.30941539, 1.4241704 , 0.        ])}\n"
     ]
    }
   ],
   "source": [
    "# add dictionaries values\n",
    "# this also worcks for nested dictionaries\n",
    "gw_params = add_dictionaries_together(gw_params_original, new_dict)\n",
    "print(gw_params)"
   ]
  },
  {
   "cell_type": "code",
   "execution_count": 44,
   "metadata": {},
   "outputs": [
    {
     "name": "stdout",
     "output_type": "stream",
     "text": [
      "orinal length: 3\n",
      "trimmed length: 2\n",
      "{'zs': array([3.73183043, 0.52355076]), 'geocent_time': array([1.25925574e+09, 1.26536444e+09]), 'ra': array([3.32048854, 5.27956589]), 'dec': array([0.26631948, 0.73091405]), 'phase': array([2.20887256, 5.55796383]), 'psi': array([1.6606896 , 2.34158204]), 'theta_jn': array([0.43683841, 1.68025833]), 'luminosity_distance': array([33013.38094356,  2994.02935263]), 'mass_1_source': array([34.13715831, 36.02136452]), 'mass_2_source': array([23.22808401, 28.67148514]), 'mass_1': array([161.53124434,  54.88037745]), 'mass_2': array([109.91135463,  43.6824631 ]), 'L1': array([0.       , 3.3533832]), 'H1': array([0.        , 2.82521613]), 'V1': array([0.        , 4.53670558]), 'optimal_snr_net': array([0.        , 6.30941539])}\n"
     ]
    }
   ],
   "source": [
    "# trim dictionary values to a specific length\n",
    "print(f\"orinal length: {gw_params_original['zs'].shape[0]}\")\n",
    "\n",
    "trimmed_gw_params = trim_dictionary(gw_params, 2)\n",
    "print(f\"trimmed length: {trimmed_gw_params['zs'].shape[0]}\")\n",
    "print(trimmed_gw_params)"
   ]
  },
  {
   "cell_type": "code",
   "execution_count": null,
   "metadata": {},
   "outputs": [],
   "source": []
  },
  {
   "cell_type": "markdown",
   "metadata": {},
   "source": [
    "## Rejection sampling functions <a class=\"anchor\" id=\"second-bullet\"></a>"
   ]
  },
  {
   "cell_type": "code",
   "execution_count": 58,
   "metadata": {},
   "outputs": [],
   "source": [
    "from ler.utils import rejection_sample, rejection_sample2d\n",
    "import numpy as np\n",
    "import matplotlib.pyplot as plt"
   ]
  },
  {
   "cell_type": "markdown",
   "metadata": {},
   "source": [
    "### 1-Dimensional example"
   ]
  },
  {
   "cell_type": "code",
   "execution_count": 59,
   "metadata": {},
   "outputs": [
    {
     "data": {
      "image/png": "[encoded data removed]",
      "text/plain": [
       "<Figure size 400x400 with 1 Axes>"
      ]
     },
     "metadata": {},
     "output_type": "display_data"
    }
   ],
   "source": [
    "# normal distribution pdf function\n",
    "def normal_pdf(x, mu=0, sigma=1):\n",
    "    return 1/(sigma * np.sqrt(2 * np.pi)) * np.exp( - (x - mu)**2 / (2 * sigma**2) )\n",
    "\n",
    "# rejection sampling\n",
    "samples = rejection_sample(\n",
    "    pdf=normal_pdf,\n",
    "    xmin=-5,\n",
    "    xmax=5,\n",
    "    size=10000,\n",
    "    chunk_size=20000,\n",
    ")\n",
    "\n",
    "# plot histogram\n",
    "plt.figure(figsize=(4, 4))\n",
    "plt.hist(samples, bins=50, density=True, histtype='step', alpha=0.7, color='blue')\n",
    "plt.xlabel('x')\n",
    "plt.ylabel('pdf(x)')\n",
    "plt.grid(alpha=0.4)\n",
    "plt.show()"
   ]
  },
  {
   "cell_type": "markdown",
   "metadata": {},
   "source": [
    "### 2-Dimensional example"
   ]
  },
  {
   "cell_type": "code",
   "execution_count": 32,
   "metadata": {},
   "outputs": [],
   "source": [
    "# 2d normal distribution pdf function\n",
    "def normal_pdf2d(x, y, mu=[0, 0], sigma=[1, 1]):\n",
    "    return 1/(sigma[0] * sigma[1] * 2 * np.pi) * np.exp( - ((x - mu[0])**2 / (2 * sigma[0]**2) + (y - mu[1])**2 / (2 * sigma[1]**2)) )\n",
    "\n",
    "# rejection sampling\n",
    "samples = rejection_sample2d(\n",
    "    pdf=normal_pdf2d,\n",
    "    xmin=-5,\n",
    "    xmax=5,\n",
    "    ymin=-5,\n",
    "    ymax=5,\n",
    "    size=10000,\n",
    "    chunk_size=20000,\n",
    ")"
   ]
  },
  {
   "cell_type": "code",
   "execution_count": 33,
   "metadata": {},
   "outputs": [
    {
     "data": {
      "image/png": "[encoded data removed]",
      "text/plain": [
       "<Figure size 400x400 with 1 Axes>"
      ]
     },
     "metadata": {},
     "output_type": "display_data"
    }
   ],
   "source": [
    "# plot 2d histogram\n",
    "plt.figure(figsize=(4, 4))\n",
    "plt.hist2d(samples[0], samples[1], bins=50, density=True, cmap='Blues')\n",
    "plt.xlabel('x')\n",
    "plt.ylabel('y')\n",
    "plt.grid(alpha=0.4)\n",
    "plt.show()"
   ]
  },
  {
   "cell_type": "markdown",
   "metadata": {},
   "source": [
    "## Interpolation generator"
   ]
  },
  {
   "cell_type": "code",
   "execution_count": 49,
   "metadata": {},
   "outputs": [],
   "source": [
    "import numpy as np\n",
    "import matplotlib.pyplot as plt\n",
    "from ler.utils import create_func_pdf_invcdf"
   ]
  },
  {
   "cell_type": "code",
   "execution_count": 76,
   "metadata": {},
   "outputs": [],
   "source": [
    "# Function to create a interpolated function, inverse function or inverse cdf from the input x and y.\n",
    "\n",
    "# example with normal distribution\n",
    "x = np.sort(np.random.uniform(-3, 3, 1000))\n",
    "y = normal_pdf(x)\n",
    "\n",
    "interpolated_function = create_func_pdf_invcdf(x, y, category=\"function\")  # interpolated function\n",
    "interpolated_function_inverse = create_func_pdf_invcdf(x, y, category=\"function_inverse\") # x and y are swapped\n",
    "interpolated_pdf = create_func_pdf_invcdf(x, y, category=\"pdf\")  # probability density function\n",
    "interpolated_invcdf = create_func_pdf_invcdf(x, y, category=\"inv_cdf\")  # inverse cumulative distribution function"
   ]
  },
  {
   "cell_type": "code",
   "execution_count": 77,
   "metadata": {},
   "outputs": [
    {
     "data": {
      "image/png": "[encoded data removed]",
      "text/plain": [
       "<Figure size 400x400 with 1 Axes>"
      ]
     },
     "metadata": {},
     "output_type": "display_data"
    }
   ],
   "source": [
    "# plot interpolated_pdf, interpolated_invcdf\n",
    "plt.figure(figsize=(4, 4))\n",
    "plt.plot(np.sort(x), interpolated_pdf(np.sort(x)), label='pdf')\n",
    "plt.plot(np.linspace(0,1,1000), interpolated_invcdf(np.linspace(0,1,1000)), label='inv_cdf')\n",
    "plt.xlabel('z')\n",
    "plt.ylabel('pdf(z), invcdf(z)')\n",
    "plt.legend()\n",
    "plt.grid(alpha=0.4)\n",
    "plt.show()"
   ]
  },
  {
   "cell_type": "code",
   "execution_count": null,
   "metadata": {},
   "outputs": [],
   "source": []
  },
  {
   "cell_type": "code",
   "execution_count": 2,
   "metadata": {},
   "outputs": [
    {
     "name": "stdout",
     "output_type": "stream",
     "text": [
      "z_to_luminosity_distance interpolator will be generated at ./interpolator_pickle/z_to_luminosity_distance/z_to_luminosity_distance_0.pickle\n",
      "differential_comoving_volume interpolator will be generated at ./interpolator_pickle/differential_comoving_volume/differential_comoving_volume_0.pickle\n",
      "merger_rate_density interpolator will be generated at ./interpolator_pickle/merger_rate_density/merger_rate_density_0.pickle\n"
     ]
    },
    {
     "name": "stderr",
     "output_type": "stream",
     "text": [
      "/Users/phurailatpamhemantakumar/anaconda3/envs/ler/lib/python3.10/site-packages/gwcosmo/prior/custom_math_priors.py:48: RuntimeWarning: overflow encountered in exp\n",
      "  effe_prime[select_window] = _np.exp(_np.nan_to_num((delta_m/mprime[select_window])+(delta_m/(mprime[select_window]-delta_m))))\n",
      "/Users/phurailatpamhemantakumar/anaconda3/envs/ler/lib/python3.10/site-packages/gwcosmo/prior/custom_math_priors.py:162: RuntimeWarning: divide by zero encountered in log\n",
      "  prob_ret =self.origin_prob.log_prob(x)+_np.log(window)\n",
      "/Users/phurailatpamhemantakumar/anaconda3/envs/ler/lib/python3.10/site-packages/gwcosmo/prior/custom_math_priors.py:160: RuntimeWarning: divide by zero encountered in log\n",
      "  prob_ret =self.origin_prob.log_prob(x)+_np.log(window)-_np.log(self.norm)\n"
     ]
    },
    {
     "name": "stdout",
     "output_type": "stream",
     "text": [
      "psds not given. Choosing bilby's default psds\n",
      "Interpolator will be generated for L1 detector at ./interpolator_pickle/L1/partialSNR_dict_0.pickle\n",
      "Interpolator will be generated for H1 detector at ./interpolator_pickle/H1/partialSNR_dict_0.pickle\n",
      "Interpolator will be generated for V1 detector at ./interpolator_pickle/V1/partialSNR_dict_0.pickle\n",
      "Please be patient while the interpolator is generated\n",
      "Generating interpolator for ['L1', 'H1', 'V1'] detectors\n"
     ]
    },
    {
     "name": "stderr",
     "output_type": "stream",
     "text": [
      "interpolation for each mass_ratios: 100%|███████████████████████████| 50/50 [02:56<00:00,  3.53s/it]"
     ]
    },
    {
     "name": "stdout",
     "output_type": "stream",
     "text": [
      "\n",
      " GWRATES set up params:\n",
      "npool = 4,\n",
      "z_min = 0.0,\n",
      "z_max = 10.0,\n",
      "event_type = 'BBH',\n",
      "size = 100000,\n",
      "batch_size = 50000,\n",
      "cosmology = LambdaCDM(H0=70.0 km / (Mpc s), Om0=0.3, Ode0=0.7, Tcmb0=0.0 K, Neff=3.04, m_nu=None, Ob0=None),\n",
      "snr_finder = <bound method GWSNR.snr of <gwsnr.gwsnr.GWSNR object at 0x176150910>>,\n",
      "json_file_names = {'gwrates_params': 'gwrates_params.json', 'gw_param': 'gw_param.json', 'gw_param_detectable': 'gw_param_detectable.json'},\n",
      "interpolator_directory = ./interpolator_pickle,\n",
      "ler_directory = ./ler_data,\n",
      "\n",
      " GWRATES also takes CBCSourceParameterDistribution params as kwargs, as follows:\n",
      "source_priors = {'merger_rate_density': 'merger_rate_density_bbh_popI_II_oguri2018', 'source_frame_masses': 'binary_masses_BBH_popI_II_powerlaw_gaussian', 'zs': 'sample_source_redshift', 'geocent_time': 'sampler_uniform', 'ra': 'sampler_uniform', 'dec': 'sampler_cosine', 'phase': 'sampler_uniform', 'psi': 'sampler_uniform', 'theta_jn': 'sampler_sine'},\n",
      "source_priors_params = {'merger_rate_density': {'R0': 2.39e-08, 'b2': 1.6, 'b3': 2.0, 'b4': 30}, 'source_frame_masses': {'mminbh': 4.98, 'mmaxbh': 112.5, 'alpha': 3.78, 'mu_g': 32.27, 'sigma_g': 3.88, 'lambda_peak': 0.03, 'delta_m': 4.8, 'beta': 0.81}, 'zs': None, 'geocent_time': {'min_': 1238166018, 'max_': 1269702018}, 'ra': {'min_': 0.0, 'max_': 6.283185307179586}, 'dec': None, 'phase': {'min_': 0.0, 'max_': 6.283185307179586}, 'psi': {'min_': 0.0, 'max_': 3.141592653589793}, 'theta_jn': None},\n",
      "spin_zero = True,\n",
      "spin_precession = False,\n",
      "create_new_interpolator = False,\n",
      "\n",
      " LeR also takes gwsnr.GWSNR params as kwargs, as follows:\n",
      "mtot_min = 2.0,\n",
      "mtot_max = 184.98599853446768,\n",
      "ratio_min = 0.1,\n",
      "ratio_max = 1.0,\n",
      "mtot_resolution = 500,\n",
      "ratio_resolution = 50,\n",
      "sampling_frequency = 2048.0,\n",
      "waveform_approximant = 'IMRPhenomD',\n",
      "minimum_frequency = 20.0,\n",
      "snr_type = 'interpolation',\n",
      "psds = [PowerSpectralDensity(psd_file='None', asd_file='/Users/phurailatpamhemantakumar/anaconda3/envs/ler/lib/python3.10/site-packages/bilby/gw/detector/noise_curves/aLIGO_O4_high_asd.txt'), PowerSpectralDensity(psd_file='None', asd_file='/Users/phurailatpamhemantakumar/anaconda3/envs/ler/lib/python3.10/site-packages/bilby/gw/detector/noise_curves/aLIGO_O4_high_asd.txt'), PowerSpectralDensity(psd_file='None', asd_file='/Users/phurailatpamhemantakumar/anaconda3/envs/ler/lib/python3.10/site-packages/bilby/gw/detector/noise_curves/AdV_asd.txt')],\n",
      "ifos = None,\n",
      "interpolator_dir = './interpolator_pickle',\n",
      "create_new_interpolator = False,\n",
      "gwsnr_verbose = False,\n",
      "multiprocessing_verbose = True,\n",
      "mtot_cut = True,\n",
      "\n",
      " For reference, the chosen source parameters are listed below:\n",
      "merger_rate_density = 'merger_rate_density_bbh_popI_II_oguri2018'\n",
      "merger_rate_density_params =  {'R0': 2.39e-08, 'b2': 1.6, 'b3': 2.0, 'b4': 30}\n",
      "source_frame_masses = 'binary_masses_BBH_popI_II_powerlaw_gaussian'\n",
      "source_frame_masses_params =  {'mminbh': 4.98, 'mmaxbh': 112.5, 'alpha': 3.78, 'mu_g': 32.27, 'sigma_g': 3.88, 'lambda_peak': 0.03, 'delta_m': 4.8, 'beta': 0.81}\n",
      "geocent_time = 'sampler_uniform'\n",
      "geocent_time_params =  {'min_': 1238166018, 'max_': 1269702018}\n",
      "ra = 'sampler_uniform'\n",
      "ra_params =  {'min_': 0.0, 'max_': 6.283185307179586}\n",
      "dec = 'sampler_cosine'\n",
      "dec_params =  None\n",
      "phase = 'sampler_uniform'\n",
      "phase_params =  {'min_': 0.0, 'max_': 6.283185307179586}\n",
      "psi = 'sampler_uniform'\n",
      "psi_params =  {'min_': 0.0, 'max_': 3.141592653589793}\n",
      "theta_jn = 'sampler_sine'\n",
      "theta_jn_params =  None\n"
     ]
    },
    {
     "name": "stderr",
     "output_type": "stream",
     "text": [
      "\n"
     ]
    }
   ],
   "source": [
    "from ler.rates import GWRATES\n",
    "\n",
    "ler = GWRATES()"
   ]
  },
  {
   "cell_type": "code",
   "execution_count": 8,
   "metadata": {},
   "outputs": [
    {
     "name": "stdout",
     "output_type": "stream",
     "text": [
      "Simulated GW params will be stored in ./ler_data/gw_param.json\n",
      "chosen batch size = 10 with total size = 3\n",
      "There will be 1 batche(s)\n",
      "Batch no. 1\n",
      "sampling gw source params...\n",
      "calculating snrs...\n",
      "saving all gw_params in ./ler_data/gw_param.json...\n"
     ]
    },
    {
     "data": {
      "text/plain": [
       "{'zs': array([3.73183043, 0.52355076, 2.49075098]),\n",
       " 'geocent_time': array([1.25925574e+09, 1.26536444e+09, 1.25552898e+09]),\n",
       " 'ra': array([3.32048854, 5.27956589, 0.87173164]),\n",
       " 'dec': array([0.26631948, 0.73091405, 0.29441384]),\n",
       " 'phase': array([2.20887256, 5.55796383, 0.07096603]),\n",
       " 'psi': array([1.6606896 , 2.34158204, 2.84468041]),\n",
       " 'theta_jn': array([0.43683841, 1.68025833, 0.76875154]),\n",
       " 'luminosity_distance': array([33013.38094356,  2994.02935263, 20304.88024704]),\n",
       " 'mass_1_source': array([34.13715831, 36.02136452, 19.35196858]),\n",
       " 'mass_2_source': array([23.22808401, 28.67148514, 13.64229837]),\n",
       " 'mass_1': array([161.53124434,  54.88037745,  67.55290328]),\n",
       " 'mass_2': array([109.91135463,  43.6824631 ,  47.6218664 ]),\n",
       " 'L1': array([0.       , 3.3533832, 0.3272596]),\n",
       " 'H1': array([0.        , 2.82521613, 0.96988785]),\n",
       " 'V1': array([0.        , 4.53670558, 0.99019192]),\n",
       " 'optimal_snr_net': array([0.        , 6.30941539, 1.4241704 ])}"
      ]
     },
     "execution_count": 8,
     "metadata": {},
     "output_type": "execute_result"
    }
   ],
   "source": [
    "ler.batch_size = 10\n",
    "ler.gw_cbc_statistics(size=3)"
   ]
  },
  {
   "cell_type": "code",
   "execution_count": null,
   "metadata": {},
   "outputs": [],
   "source": []
  }
 ],
 "metadata": {
  "kernelspec": {
   "display_name": "ler",
   "language": "python",
   "name": "python3"
  },
  "language_info": {
   "codemirror_mode": {
    "name": "ipython",
    "version": 3
   },
   "file_extension": ".py",
   "mimetype": "text/x-python",
   "name": "python",
   "nbconvert_exporter": "python",
   "pygments_lexer": "ipython3",
   "version": "3.10.14"
  }
 },
 "nbformat": 4,
 "nbformat_minor": 2
}
