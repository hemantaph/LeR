{
 "cells": [
  {
   "cell_type": "code",
   "execution_count": 1,
   "metadata": {},
   "outputs": [
    {
     "name": "stdout",
     "output_type": "stream",
     "text": [
      "Setting multiprocessing start method to 'fork'\n"
     ]
    }
   ],
   "source": [
    "import numpy as np\n",
    "import matplotlib.pyplot as plt\n",
    "from astropy.cosmology import LambdaCDM\n",
    "cosmo = LambdaCDM(H0=70, Om0=0.3, Ode0=0.7)\n",
    "from ler.lens_galaxy_population import OpticalDepth"
   ]
  },
  {
   "cell_type": "code",
   "execution_count": 10,
   "metadata": {},
   "outputs": [
    {
     "name": "stdout",
     "output_type": "stream",
     "text": [
      "\n",
      "Initializing OpticalDepth class\n",
      "\n",
      "z_to_Dc interpolator will be loaded from ./interpolator_pickle/z_to_Dc/z_to_Dc_4.pickle\n",
      "Dc_to_z interpolator will be loaded from ./interpolator_pickle/Dc_to_z/Dc_to_z_4.pickle\n",
      "angular_diameter_distance interpolator will be loaded from ./interpolator_pickle/angular_diameter_distance/angular_diameter_distance_4.pickle\n",
      "differential_comoving_volume interpolator will be loaded from ./interpolator_pickle/differential_comoving_volume/differential_comoving_volume_4.pickle\n",
      "velocity_dispersion_bernardi interpolator will be loaded from ./interpolator_pickle/velocity_dispersion/velocity_dispersion_bernardi_7.pickle\n",
      "Using pre-gererated axis ratio rayleigh pdf coefficients...\n",
      "axis_ratio_rayleigh interpolator will be loaded from ./interpolator_pickle/axis_ratio/axis_ratio_rayleigh_0.pickle\n",
      "axis_ratio sampler: CPUDispatcher(<function OpticalDepth.axis_ratio_rayleigh.<locals>.sampler at 0x31f600f70>) has been set.\n",
      "Interpolated cross section function loaded from ./interpolator_pickle/cross_section_function/cross_section_function_0.pickle\n",
      "Using interpolated cross section function\n",
      "optical_depth_sie_numerical interpolator will be loaded from ./interpolator_pickle/optical_depth_sie_numerical/optical_depth_sie_numerical_18.pickle\n",
      "Chosen velocity dispersion sampler: velocity_dispersion_bernardi\n",
      "Chosen velocity dispersion sampler params: {'vd_min': 50.0, 'vd_max': 420.0, 'alpha': 0.94, 'beta': 1.85, 'phistar': 0.02099, 'sigmastar': 113.78}\n",
      "Chosen optical depth function: CPUDispatcher(<function OpticalDepth.initialize_interpolator_optical_depth_function.<locals>.<lambda> at 0x3afde5fc0>)\n",
      "Chosen axis ratio sampler: axis_ratio_rayleigh\n",
      "Chosen axis ratio sampler params: {'q_min': 0.2, 'q_max': 1}\n",
      "Chosen cosmology: LambdaCDM(H0=70.0 km / (Mpc s), Om0=0.3, Ode0=0.7, Tcmb0=0.0 K, Neff=3.04, m_nu=None, Ob0=None)\n",
      "Chosen lens_type: sie_galaxy\n"
     ]
    }
   ],
   "source": [
    "od_sie_bernardi = OpticalDepth(\n",
    "    npool=8,\n",
    "    z_min=0.0,\n",
    "    z_max=10.0,\n",
    "    lens_type=\"sie_galaxy\",\n",
    "    optical_depth_function=\"optical_depth_sie_numerical\",\n",
    "    sampler_priors=dict(\n",
    "        velocity_dispersion=\"velocity_dispersion_bernardi\",  # zl dependent velocity dispersion\n",
    "        axis_ratio=\"axis_ratio_rayleigh\",\n",
    "    ),\n",
    "    sampler_priors_params=dict(\n",
    "        velocity_dispersion=dict(vd_min=50., vd_max=420., alpha=0.94, beta=1.85, phistar=2.099e-2*(cosmo.h/0.7)**3, sigmastar=113.78),\n",
    "        axis_ratio=dict(q_min=0.2, q_max=1),\n",
    "    ),\n",
    "    cosmology=cosmo,\n",
    "    directory=\"./interpolator_pickle\",\n",
    "    verbose=True,\n",
    "    create_new_interpolator=dict(\n",
    "       optical_depth=dict(create_new=False, resolution=48),\n",
    "    ),\n",
    ")\n",
    "# 16 points, 8 cores, 9m 18s "
   ]
  },
  {
   "cell_type": "code",
   "execution_count": 11,
   "metadata": {},
   "outputs": [
    {
     "name": "stdout",
     "output_type": "stream",
     "text": [
      "\n",
      "Initializing OpticalDepth class\n",
      "\n",
      "z_to_Dc interpolator will be loaded from ./interpolator_pickle/z_to_Dc/z_to_Dc_4.pickle\n",
      "Dc_to_z interpolator will be loaded from ./interpolator_pickle/Dc_to_z/Dc_to_z_4.pickle\n",
      "angular_diameter_distance interpolator will be loaded from ./interpolator_pickle/angular_diameter_distance/angular_diameter_distance_4.pickle\n",
      "differential_comoving_volume interpolator will be loaded from ./interpolator_pickle/differential_comoving_volume/differential_comoving_volume_4.pickle\n",
      "velocity_dispersion_ewoud interpolator will be loaded from ./interpolator_pickle/velocity_dispersion/velocity_dispersion_ewoud_8.pickle\n",
      "Using pre-gererated axis ratio rayleigh pdf coefficients...\n",
      "axis_ratio_rayleigh interpolator will be loaded from ./interpolator_pickle/axis_ratio/axis_ratio_rayleigh_0.pickle\n",
      "axis_ratio sampler: CPUDispatcher(<function OpticalDepth.axis_ratio_rayleigh.<locals>.sampler at 0x399a8f370>) has been set.\n",
      "Interpolated cross section function loaded from ./interpolator_pickle/cross_section_function/cross_section_function_0.pickle\n",
      "Using interpolated cross section function\n",
      "optical_depth_sie_numerical interpolator will be loaded from ./interpolator_pickle/optical_depth_sie_numerical/optical_depth_sie_numerical_17.pickle\n",
      "Chosen velocity dispersion sampler: velocity_dispersion_ewoud\n",
      "Chosen velocity dispersion sampler params: {'vd_min': 50.0, 'vd_max': 420.0, 'alpha': 0.94, 'beta': 1.85, 'phistar': 0.02099, 'sigmastar': 113.78}\n",
      "Chosen optical depth function: CPUDispatcher(<function OpticalDepth.initialize_interpolator_optical_depth_function.<locals>.<lambda> at 0x31fc037f0>)\n",
      "Chosen axis ratio sampler: axis_ratio_rayleigh\n",
      "Chosen axis ratio sampler params: {'q_min': 0.2, 'q_max': 1}\n",
      "Chosen cosmology: LambdaCDM(H0=70.0 km / (Mpc s), Om0=0.3, Ode0=0.7, Tcmb0=0.0 K, Neff=3.04, m_nu=None, Ob0=None)\n",
      "Chosen lens_type: sie_galaxy\n"
     ]
    }
   ],
   "source": [
    "od_sie_ewoud = OpticalDepth(\n",
    "    npool=8,\n",
    "    z_min=0.0,\n",
    "    z_max=10.0,\n",
    "    lens_type=\"sie_galaxy\",\n",
    "    optical_depth_function=\"optical_depth_sie_numerical\",\n",
    "    sampler_priors=dict(\n",
    "        velocity_dispersion=\"velocity_dispersion_ewoud\",  # zl dependent velocity dispersion\n",
    "        axis_ratio=\"axis_ratio_rayleigh\",\n",
    "    ),\n",
    "    sampler_priors_params=dict(\n",
    "        velocity_dispersion=dict(vd_min=50., vd_max=420., alpha=0.94, beta=1.85, phistar=2.099e-2*(cosmo.h/0.7)**3, sigmastar=113.78),\n",
    "        axis_ratio=dict(q_min=0.2, q_max=1),\n",
    "    ),\n",
    "    cosmology=cosmo,\n",
    "    directory=\"./interpolator_pickle\",\n",
    "    verbose=True,\n",
    "    create_new_interpolator=dict(\n",
    "       optical_depth=dict(create_new=False, resolution=48),\n",
    "    ),\n",
    ")\n",
    "# 16 points, 8 cores, 9m 18s "
   ]
  },
  {
   "cell_type": "code",
   "execution_count": 17,
   "metadata": {},
   "outputs": [
    {
     "name": "stdout",
     "output_type": "stream",
     "text": [
      "\n",
      "Initializing OpticalDepth class\n",
      "\n",
      "z_to_Dc interpolator will be loaded from ./interpolator_pickle/z_to_Dc/z_to_Dc_4.pickle\n",
      "Dc_to_z interpolator will be loaded from ./interpolator_pickle/Dc_to_z/Dc_to_z_4.pickle\n",
      "angular_diameter_distance interpolator will be loaded from ./interpolator_pickle/angular_diameter_distance/angular_diameter_distance_4.pickle\n",
      "differential_comoving_volume interpolator will be loaded from ./interpolator_pickle/differential_comoving_volume/differential_comoving_volume_4.pickle\n",
      "velocity_dispersion_bernardi interpolator will be loaded from ./interpolator_pickle/velocity_dispersion/velocity_dispersion_bernardi_6.pickle\n",
      "Using pre-gererated axis ratio rayleigh pdf coefficients...\n",
      "axis_ratio_rayleigh interpolator will be loaded from ./interpolator_pickle/axis_ratio/axis_ratio_rayleigh_0.pickle\n",
      "axis_ratio sampler: CPUDispatcher(<function OpticalDepth.axis_ratio_rayleigh.<locals>.sampler at 0x3dfe17010>) has been set.\n",
      "Interpolated cross section function loaded from ./interpolator_pickle/cross_section_function/cross_section_function_0.pickle\n",
      "Using interpolated cross section function\n",
      "optical_depth_epl_shear_numerical interpolator will be generated at ./interpolator_pickle/optical_depth_epl_shear_numerical/optical_depth_epl_shear_numerical_25.pickle\n",
      "CPUDispatcher(<function OpticalDepth.axis_ratio_rayleigh.<locals>.sampler at 0x3dfe17010>)\n",
      "Computing optical depth with multiprocessing...\n",
      "  optical_depth_name: <bound method OpticalDepth.interpolated_cross_section_function of <ler.lens_galaxy_population.optical_depth.OpticalDepth object at 0x36093fc40>>\n"
     ]
    },
    {
     "name": "stderr",
     "output_type": "stream",
     "text": [
      "100%|███████████████████████████████████████████████████████████████| 48/48 [06:17<00:00,  7.87s/it]\n"
     ]
    },
    {
     "name": "stdout",
     "output_type": "stream",
     "text": [
      "Chosen velocity dispersion sampler: velocity_dispersion_bernardi\n",
      "Chosen velocity dispersion sampler params: {'vd_min': 50.0, 'vd_max': 420.0, 'alpha': 2.32, 'beta': 2.67, 'phistar': 0.0027439999999999995, 'sigmastar': 161.0}\n",
      "Chosen optical depth function: CPUDispatcher(<function OpticalDepth.initialize_interpolator_optical_depth_function.<locals>.<lambda> at 0x31f685360>)\n",
      "Chosen axis ratio sampler: axis_ratio_rayleigh\n",
      "Chosen axis ratio sampler params: {'q_min': 0.2, 'q_max': 1}\n",
      "Chosen cosmology: LambdaCDM(H0=70.0 km / (Mpc s), Om0=0.3, Ode0=0.7, Tcmb0=0.0 K, Neff=3.04, m_nu=None, Ob0=None)\n",
      "Chosen lens_type: epl_shear_galaxy\n"
     ]
    }
   ],
   "source": [
    "od_epl_choi = OpticalDepth(\n",
    "    npool=8,\n",
    "    z_min=0.0,\n",
    "    z_max=10.0,\n",
    "    lens_type=\"epl_shear_galaxy\",\n",
    "    optical_depth_function=\"optical_depth_epl_shear_numerical\",\n",
    "    sampler_priors=dict(\n",
    "        velocity_dispersion=\"velocity_dispersion_bernardi\",  # zl dependent velocity dispersion\n",
    "        axis_ratio=\"axis_ratio_rayleigh\",\n",
    "    ),\n",
    "    sampler_priors_params=dict(\n",
    "        velocity_dispersion=dict(vd_min = 50., vd_max = 420., alpha = 2.32, beta = 2.67, phistar = 8.0e-3*cosmo.h**3, sigmastar = 161.0),\n",
    "        axis_ratio=dict(q_min=0.2, q_max=1),\n",
    "    ),\n",
    "    cosmology=cosmo,\n",
    "    directory=\"./interpolator_pickle\",\n",
    "    verbose=True,\n",
    "    create_new_interpolator=dict(\n",
    "       optical_depth=dict(create_new=False, resolution=48),\n",
    "    ),\n",
    ")\n",
    "# 16 points, 8 cores, 9m 18s "
   ]
  },
  {
   "cell_type": "code",
   "execution_count": 19,
   "metadata": {},
   "outputs": [
    {
     "data": {
      "image/png": "[encoded data removed]",
      "text/plain": [
       "<Figure size 640x480 with 1 Axes>"
      ]
     },
     "metadata": {},
     "output_type": "display_data"
    }
   ],
   "source": [
    "zs = np.linspace(0.1, 10, 100)\n",
    "plt.figure()\n",
    "plt.plot(zs, od_sie_bernardi.strong_lensing_optical_depth(zs), label=\"Bernardi\")\n",
    "plt.plot(zs, od_sie_ewoud.strong_lensing_optical_depth(zs), label=\"Ewoud\")\n",
    "plt.plot(zs, od_sie_choi.strong_lensing_optical_depth(zs), label=\"Choi\")\n",
    "plt.plot(zs, od_epl_choi.strong_lensing_optical_depth(zs), label=\"epl Choi\")\n",
    "plt.xlabel(\"Source redshift\")\n",
    "plt.ylabel(\"Optical depth\")\n",
    "plt.legend()\n",
    "plt.show()"
   ]
  },
  {
   "cell_type": "code",
   "execution_count": 20,
   "metadata": {},
   "outputs": [
    {
     "data": {
      "text/plain": [
       "array([4.08414474e-13, 7.35144978e-13, 1.32295988e-12,\n",
       "       2.38118175e-12, 4.28588534e-12, 7.71120932e-12,\n",
       "       1.38771914e-11, 2.49711498e-11, 4.48291558e-11,\n",
       "       8.06450938e-11, 1.45027675e-10, 2.60849771e-10,\n",
       "       4.69063665e-10, 8.43134806e-10, 1.51479934e-09,\n",
       "       2.71997503e-09, 4.87999147e-09, 8.75163578e-09,\n",
       "       1.56877772e-08, 2.81048883e-08, 5.02784547e-08,\n",
       "       8.98264456e-08, 1.60176352e-07, 2.85127183e-07,\n",
       "       5.08168496e-07, 8.98942430e-07, 1.58429969e-06,\n",
       "       2.77820454e-06, 4.84094964e-06, 8.37289340e-06,\n",
       "       1.43435176e-05, 2.42868938e-05, 4.04335816e-05,\n",
       "       6.63637616e-05, 1.06745981e-04, 1.67759099e-04,\n",
       "       2.56906334e-04, 3.82278437e-04, 5.51906916e-04,\n",
       "       7.72602939e-04, 1.04818537e-03, 1.38241558e-03,\n",
       "       1.77355736e-03, 2.21595390e-03, 2.70449762e-03,\n",
       "       3.23214166e-03, 3.78761428e-03, 4.36316348e-03])"
      ]
     },
     "execution_count": 20,
     "metadata": {},
     "output_type": "execute_result"
    }
   ],
   "source": [
    "from ler.utils import load_pickle, cubic_spline_interpolator\n",
    "\n",
    "od_arr = load_pickle(\"./interpolator_pickle/optical_depth_epl_shear_numerical/optical_depth_epl_shear_numerical_25.pickle\")\n",
    "\n",
    "spline_arr = od_arr[0]\n",
    "zs_arr = od_arr[1]\n",
    "cubic_spline_interpolator(zs_arr, spline_arr, zs_arr)"
   ]
  },
  {
   "cell_type": "code",
   "execution_count": 3,
   "metadata": {},
   "outputs": [
    {
     "name": "stdout",
     "output_type": "stream",
     "text": [
      "\n",
      "Initializing OpticalDepth class\n",
      "\n",
      "z_to_Dc interpolator will be loaded from ./interpolator_pickle/z_to_Dc/z_to_Dc_4.pickle\n",
      "Dc_to_z interpolator will be loaded from ./interpolator_pickle/Dc_to_z/Dc_to_z_4.pickle\n",
      "angular_diameter_distance interpolator will be loaded from ./interpolator_pickle/angular_diameter_distance/angular_diameter_distance_4.pickle\n",
      "differential_comoving_volume interpolator will be loaded from ./interpolator_pickle/differential_comoving_volume/differential_comoving_volume_4.pickle\n",
      "velocity_dispersion_ewoud interpolator will be loaded from ./interpolator_pickle/velocity_dispersion/velocity_dispersion_ewoud_8.pickle\n",
      "Using pre-gererated axis ratio rayleigh pdf coefficients...\n",
      "axis_ratio_rayleigh interpolator will be loaded from ./interpolator_pickle/axis_ratio/axis_ratio_rayleigh_0.pickle\n",
      "axis_ratio sampler: CPUDispatcher(<function OpticalDepth.axis_ratio_rayleigh.<locals>.sampler at 0x35d7cbe20>) has been set.\n",
      "Interpolated cross section function loaded from ./interpolator_pickle//cross_section_function/cross_section_function.pkl\n",
      "optical_depth_epl_shear_numerical interpolator will be loaded from ./interpolator_pickle/optical_depth_epl_shear_numerical/optical_depth_epl_shear_numerical_22.pickle\n",
      "Chosen velocity dispersion sampler: velocity_dispersion_ewoud\n",
      "Chosen velocity dispersion sampler params: {'vd_min': 50.0, 'vd_max': 420.0, 'alpha': 0.94, 'beta': 1.85, 'phistar': 0.02099, 'sigmastar': 113.78}\n",
      "Chosen optical depth function: CPUDispatcher(<function OpticalDepth.initialize_interpolator_optical_depth_function.<locals>.<lambda> at 0x105d75a20>)\n",
      "Chosen axis ratio sampler: axis_ratio_rayleigh\n",
      "Chosen axis ratio sampler params: {'q_min': 0.2, 'q_max': 1}\n",
      "Chosen cosmology: LambdaCDM(H0=70.0 km / (Mpc s), Om0=0.3, Ode0=0.7, Tcmb0=0.0 K, Neff=3.04, m_nu=None, Ob0=None)\n",
      "Chosen lens_type: epl_shear_galaxy\n"
     ]
    }
   ],
   "source": [
    "od_epl_ewoud = OpticalDepth(\n",
    "    npool=6,\n",
    "    z_min=0.0,\n",
    "    z_max=10.0,\n",
    "    lens_type=\"epl_shear_galaxy\",\n",
    "    optical_depth_function=\"optical_depth_epl_shear_numerical\",\n",
    "    sampler_priors=dict(\n",
    "        velocity_dispersion=\"velocity_dispersion_ewoud\",  # zl dependent velocity dispersion\n",
    "        axis_ratio=\"axis_ratio_rayleigh\",\n",
    "    ),\n",
    "    sampler_priors_params=dict(\n",
    "        velocity_dispersion=dict(vd_min=50., vd_max=420., alpha=0.94, beta=1.85, phistar=2.099e-2*(cosmo.h/0.7)**3, sigmastar=113.78),\n",
    "        axis_ratio=dict(q_min=0.2, q_max=1),\n",
    "    ),\n",
    "    cosmology=cosmo,\n",
    "    directory=\"./interpolator_pickle\",\n",
    "    verbose=True,\n",
    "    create_new_interpolator=dict(optical_depth=dict(create_new=False, resolution=18),\n",
    "                                 cross_section=dict(create_new=False, resolution=1000000)\n",
    "                                 ),\n",
    ")\n",
    "# 18 points 6 cores, 2m 28s"
   ]
  },
  {
   "cell_type": "code",
   "execution_count": 6,
   "metadata": {},
   "outputs": [
    {
     "data": {
      "text/plain": [
       "'./interpolator_pickle'"
      ]
     },
     "execution_count": 6,
     "metadata": {},
     "output_type": "execute_result"
    }
   ],
   "source": [
    "od_epl_ewoud.directory"
   ]
  },
  {
   "cell_type": "code",
   "execution_count": 5,
   "metadata": {},
   "outputs": [
    {
     "data": {
      "image/png": "[encoded data removed]",
      "text/plain": [
       "<Figure size 640x480 with 1 Axes>"
      ]
     },
     "metadata": {},
     "output_type": "display_data"
    }
   ],
   "source": [
    "zs = np.linspace(0.001, 1, 100)\n",
    "\n",
    "plt.plot(zs, od_epl_ewoud.strong_lensing_optical_depth(zs), label=\"epl_ewoud\")\n",
    "plt.plot(zs, od_epl_ewoud_true.strong_lensing_optical_depth(zs), label=\"epl_ewoud_true\")\n",
    "plt.xlabel(\"z\")\n",
    "plt.ylabel(\"optical depth\")\n",
    "plt.legend()\n",
    "plt.show()"
   ]
  },
  {
   "cell_type": "code",
   "execution_count": 9,
   "metadata": {},
   "outputs": [],
   "source": [
    "# save the data\n",
    "# np.save(\"data_points_1e6.npy\", points)\n",
    "# np.save(\"data_values_1e6.npy\", values)\n",
    "\n",
    "# load the data\n",
    "points = np.load(\"data_points_1e6.npy\")\n",
    "values = np.load(\"data_values_1e6.npy\")"
   ]
  },
  {
   "cell_type": "code",
   "execution_count": 13,
   "metadata": {},
   "outputs": [],
   "source": [
    "# Interpolate at a new point\n",
    "# new data\n",
    "size_new = 100000\n",
    "theta_E_new, e1_new, e2_new, gamma_new, gamma1_new, gamma2_new = od_epl_ewoud.create_data_set(size_new)\n",
    "new_point = np.array([e1_new, e2_new, gamma_new, gamma1_new, gamma2_new]).T\n",
    "# new_values = generate_cross_section_unit(e1_new, e2_new, gamma_new, gamma1_new, gamma2_new)\n",
    "# new_values"
   ]
  },
  {
   "cell_type": "code",
   "execution_count": 14,
   "metadata": {},
   "outputs": [
    {
     "name": "stderr",
     "output_type": "stream",
     "text": [
      "100%|████████████████████████████████████████████████████| 100000/100000 [00:05<00:00, 19289.26it/s]\n"
     ]
    }
   ],
   "source": [
    "from multiprocessing import Pool\n",
    "from tqdm import tqdm\n",
    "from ler.lens_galaxy_population import cross_section_unit_mp\n",
    "\n",
    "# use cross_section_unit_mp\n",
    "iter_ = np.arange(size_new)\n",
    "new_points = np.array([e1_new, e2_new, gamma_new, gamma1_new, gamma2_new, iter_]).T\n",
    "\n",
    "area_list = np.ones(size_new)\n",
    "with Pool(processes=8) as pool:            \n",
    "    for result in tqdm(\n",
    "        pool.imap_unordered(cross_section_unit_mp, new_points),\n",
    "        total=size_new,\n",
    "        ncols=100,\n",
    "        disable=False,\n",
    "    ):\n",
    "        (\n",
    "            iter_i,\n",
    "            area,\n",
    "        ) = result\n",
    "\n",
    "        area_list[int(iter_i)] = area\n",
    "new_values = np.array(area_list)\n",
    "# delete last column\n",
    "new_points = new_points[:, :-1]"
   ]
  },
  {
   "cell_type": "markdown",
   "metadata": {},
   "source": [
    "## scipy.interpolate.griddata"
   ]
  },
  {
   "cell_type": "code",
   "execution_count": 22,
   "metadata": {},
   "outputs": [],
   "source": [
    "from sklearn.neighbors import NearestNeighbors\n",
    "\n",
    "# Fit nearest neighbor model\n",
    "nbrs = NearestNeighbors(n_neighbors=10).fit(points)"
   ]
  },
  {
   "cell_type": "code",
   "execution_count": 23,
   "metadata": {},
   "outputs": [
    {
     "data": {
      "text/plain": [
       "(array([0.53382868, 0.80270994, 5.98964763, ..., 0.27975673,\n",
       "        1.97026159, 1.24892116]),\n",
       " array([0.51598583, 0.77527895, 5.9779009 , ..., 0.28519736,\n",
       "        1.78399938, 1.26489267]))"
      ]
     },
     "execution_count": 23,
     "metadata": {},
     "output_type": "execute_result"
    }
   ],
   "source": [
    "distances, indices = nbrs.kneighbors(new_point)\n",
    "new_values_nn = np.median(values[indices], axis=1)\n",
    "new_values_nn, new_values"
   ]
  },
  {
   "cell_type": "code",
   "execution_count": 24,
   "metadata": {},
   "outputs": [
    {
     "data": {
      "text/plain": [
       "0.04736908147328443"
      ]
     },
     "execution_count": 24,
     "metadata": {},
     "output_type": "execute_result"
    }
   ],
   "source": [
    "from sklearn.metrics import mean_squared_error\n",
    "mean_squared_error(new_values, new_values_nn)"
   ]
  },
  {
   "cell_type": "code",
   "execution_count": 25,
   "metadata": {},
   "outputs": [],
   "source": [
    "cs_pred  = od_epl_ewoud.cross_section_function(theta_E_new,e1_new, e2_new, gamma_new, gamma1_new, gamma2_new)"
   ]
  },
  {
   "cell_type": "code",
   "execution_count": 26,
   "metadata": {},
   "outputs": [],
   "source": [
    "cs_true = od_epl_ewoud.generate_cross_section(theta_E_new, e1_new, e2_new, gamma_new, gamma1_new, gamma2_new)"
   ]
  },
  {
   "cell_type": "code",
   "execution_count": 33,
   "metadata": {},
   "outputs": [
    {
     "data": {
      "text/plain": [
       "(array([2.27862468e-04, 0.00000000e+00, 0.00000000e+00,\n",
       "        0.00000000e+00, 0.00000000e+00, 0.00000000e+00,\n",
       "        0.00000000e+00, 0.00000000e+00, 0.00000000e+00,\n",
       "        0.00000000e+00, 0.00000000e+00, 0.00000000e+00,\n",
       "        0.00000000e+00, 0.00000000e+00, 0.00000000e+00,\n",
       "        0.00000000e+00, 0.00000000e+00, 0.00000000e+00,\n",
       "        0.00000000e+00, 0.00000000e+00, 0.00000000e+00,\n",
       "        0.00000000e+00, 0.00000000e+00, 0.00000000e+00,\n",
       "        0.00000000e+00, 0.00000000e+00, 0.00000000e+00,\n",
       "        0.00000000e+00, 0.00000000e+00, 0.00000000e+00,\n",
       "        2.27862468e-04, 0.00000000e+00, 2.27862468e-04,\n",
       "        0.00000000e+00, 0.00000000e+00, 2.27862468e-04,\n",
       "        2.27862468e-04, 0.00000000e+00, 0.00000000e+00,\n",
       "        0.00000000e+00, 0.00000000e+00, 0.00000000e+00,\n",
       "        0.00000000e+00, 6.83587405e-04, 0.00000000e+00,\n",
       "        2.27862468e-04, 0.00000000e+00, 0.00000000e+00,\n",
       "        0.00000000e+00, 0.00000000e+00, 0.00000000e+00,\n",
       "        2.27862468e-04, 0.00000000e+00, 0.00000000e+00,\n",
       "        6.83587405e-04, 0.00000000e+00, 0.00000000e+00,\n",
       "        4.55724937e-04, 4.55724937e-04, 9.11449873e-04,\n",
       "        9.11449873e-04, 4.55724937e-04, 1.13931234e-03,\n",
       "        9.11449873e-04, 4.55724937e-04, 1.82289975e-03,\n",
       "        2.96221209e-03, 4.10152443e-03, 5.69656171e-03,\n",
       "        5.69656171e-03, 1.18488484e-02, 1.73175476e-02,\n",
       "        2.98499834e-02, 5.76492045e-02, 1.27602982e-01,\n",
       "        6.78574431e-01, 6.44076053e+00, 1.24531396e+01,\n",
       "        2.39642958e+00, 3.80302460e-01, 8.81827752e-02,\n",
       "        3.69137199e-02, 1.29881607e-02, 1.16209859e-02,\n",
       "        4.10152443e-03, 4.55724937e-03, 1.13931234e-03,\n",
       "        1.13931234e-03, 6.83587405e-04, 4.55724937e-04,\n",
       "        6.83587405e-04, 2.27862468e-04, 0.00000000e+00,\n",
       "        2.27862468e-04, 0.00000000e+00, 0.00000000e+00,\n",
       "        0.00000000e+00, 0.00000000e+00, 0.00000000e+00,\n",
       "        9.11449873e-04]),\n",
       " array([-3.38861216, -3.34472604, -3.30083992, -3.2569538 ,\n",
       "        -3.21306768, -3.16918155, -3.12529543, -3.08140931,\n",
       "        -3.03752319, -2.99363707, -2.94975095, -2.90586482,\n",
       "        -2.8619787 , -2.81809258, -2.77420646, -2.73032034,\n",
       "        -2.68643422, -2.6425481 , -2.59866197, -2.55477585,\n",
       "        -2.51088973, -2.46700361, -2.42311749, -2.37923137,\n",
       "        -2.33534524, -2.29145912, -2.247573  , -2.20368688,\n",
       "        -2.15980076, -2.11591464, -2.07202851, -2.02814239,\n",
       "        -1.98425627, -1.94037015, -1.89648403, -1.85259791,\n",
       "        -1.80871178, -1.76482566, -1.72093954, -1.67705342,\n",
       "        -1.6331673 , -1.58928118, -1.54539505, -1.50150893,\n",
       "        -1.45762281, -1.41373669, -1.36985057, -1.32596445,\n",
       "        -1.28207832, -1.2381922 , -1.19430608, -1.15041996,\n",
       "        -1.10653384, -1.06264772, -1.01876159, -0.97487547,\n",
       "        -0.93098935, -0.88710323, -0.84321711, -0.79933099,\n",
       "        -0.75544487, -0.71155874, -0.66767262, -0.6237865 ,\n",
       "        -0.57990038, -0.53601426, -0.49212814, -0.44824201,\n",
       "        -0.40435589, -0.36046977, -0.31658365, -0.27269753,\n",
       "        -0.22881141, -0.18492528, -0.14103916, -0.09715304,\n",
       "        -0.05326692, -0.0093808 ,  0.03450532,  0.07839145,\n",
       "         0.12227757,  0.16616369,  0.21004981,  0.25393593,\n",
       "         0.29782205,  0.34170818,  0.3855943 ,  0.42948042,\n",
       "         0.47336654,  0.51725266,  0.56113878,  0.60502491,\n",
       "         0.64891103,  0.69279715,  0.73668327,  0.78056939,\n",
       "         0.82445551,  0.86834164,  0.91222776,  0.95611388,\n",
       "         1.        ]),\n",
       " [<matplotlib.patches.Polygon at 0x38a8f30a0>])"
      ]
     },
     "execution_count": 33,
     "metadata": {},
     "output_type": "execute_result"
    },
    {
     "data": {
      "image/png": "[encoded data removed]",
      "text/plain": [
       "<Figure size 640x480 with 1 Axes>"
      ]
     },
     "metadata": {},
     "output_type": "display_data"
    }
   ],
   "source": [
    "error = (1-cs_true/cs_pred)\n",
    "plt.hist(error, bins=100, histtype=\"step\", density=True)\n"
   ]
  },
  {
   "cell_type": "code",
   "execution_count": null,
   "metadata": {},
   "outputs": [],
   "source": []
  },
  {
   "cell_type": "code",
   "execution_count": null,
   "metadata": {},
   "outputs": [],
   "source": []
  },
  {
   "cell_type": "code",
   "execution_count": null,
   "metadata": {},
   "outputs": [],
   "source": []
  },
  {
   "cell_type": "code",
   "execution_count": 34,
   "metadata": {},
   "outputs": [
    {
     "name": "stdout",
     "output_type": "stream",
     "text": [
      "Epoch 1/10\n",
      "\u001b[1m900/900\u001b[0m \u001b[32m━━━━━━━━━━━━━━━━━━━━\u001b[0m\u001b[37m\u001b[0m \u001b[1m1s\u001b[0m 871us/step - accuracy: 8.1923e-06 - loss: 1536753386299155483499429888.0000\n",
      "Epoch 2/10\n",
      "\u001b[1m900/900\u001b[0m \u001b[32m━━━━━━━━━━━━━━━━━━━━\u001b[0m\u001b[37m\u001b[0m \u001b[1m1s\u001b[0m 971us/step - accuracy: 0.0000e+00 - loss: 1070314106952700105173499904.0000\n",
      "Epoch 3/10\n",
      "\u001b[1m900/900\u001b[0m \u001b[32m━━━━━━━━━━━━━━━━━━━━\u001b[0m\u001b[37m\u001b[0m \u001b[1m1s\u001b[0m 893us/step - accuracy: 0.0000e+00 - loss: 1877992768942936764052406272.0000\n",
      "Epoch 4/10\n",
      "\u001b[1m900/900\u001b[0m \u001b[32m━━━━━━━━━━━━━━━━━━━━\u001b[0m\u001b[37m\u001b[0m \u001b[1m1s\u001b[0m 881us/step - accuracy: 0.0000e+00 - loss: 568150863033098809188024320.0000\n",
      "Epoch 5/10\n",
      "\u001b[1m900/900\u001b[0m \u001b[32m━━━━━━━━━━━━━━━━━━━━\u001b[0m\u001b[37m\u001b[0m \u001b[1m1s\u001b[0m 945us/step - accuracy: 0.0000e+00 - loss: 1728543446563750743268917248.0000\n",
      "Epoch 6/10\n",
      "\u001b[1m900/900\u001b[0m \u001b[32m━━━━━━━━━━━━━━━━━━━━\u001b[0m\u001b[37m\u001b[0m \u001b[1m1s\u001b[0m 880us/step - accuracy: 0.0000e+00 - loss: 339251709076350928947249152.0000\n",
      "Epoch 7/10\n",
      "\u001b[1m900/900\u001b[0m \u001b[32m━━━━━━━━━━━━━━━━━━━━\u001b[0m\u001b[37m\u001b[0m \u001b[1m1s\u001b[0m 917us/step - accuracy: 0.0000e+00 - loss: 526150984084683575296786432.0000\n",
      "Epoch 8/10\n",
      "\u001b[1m900/900\u001b[0m \u001b[32m━━━━━━━━━━━━━━━━━━━━\u001b[0m\u001b[37m\u001b[0m \u001b[1m1s\u001b[0m 876us/step - accuracy: 0.0000e+00 - loss: 747627057545706289709973504.0000\n",
      "Epoch 9/10\n",
      "\u001b[1m900/900\u001b[0m \u001b[32m━━━━━━━━━━━━━━━━━━━━\u001b[0m\u001b[37m\u001b[0m \u001b[1m1s\u001b[0m 890us/step - accuracy: 0.0000e+00 - loss: 1444575744032591802456342528.0000\n",
      "Epoch 10/10\n",
      "\u001b[1m900/900\u001b[0m \u001b[32m━━━━━━━━━━━━━━━━━━━━\u001b[0m\u001b[37m\u001b[0m \u001b[1m1s\u001b[0m 901us/step - accuracy: 0.0000e+00 - loss: 258992600389531357751017472.0000\n"
     ]
    },
    {
     "data": {
      "text/plain": [
       "<keras.src.callbacks.history.History at 0x34c0c3d00>"
      ]
     },
     "execution_count": 34,
     "metadata": {},
     "output_type": "execute_result"
    }
   ],
   "source": [
    "import numpy as np\n",
    "import tensorflow as tf\n",
    "from tensorflow.keras.models import Sequential\n",
    "from tensorflow.keras.layers import Dense\n",
    "\n",
    "# Generate example 5D data\n",
    "X = points\n",
    "y = values\n",
    "\n",
    "# Split into training and test sets\n",
    "from sklearn.model_selection import train_test_split\n",
    "X_train, X_test, y_train, y_test = train_test_split(X, y, test_size=0.1)\n",
    "\n",
    "# standard scaling\n",
    "from sklearn.preprocessing import StandardScaler\n",
    "scaler = StandardScaler().fit(X_train)\n",
    "X_train = scaler.transform(X_train)\n",
    "\n",
    "# Build the neural network\n",
    "# model = Sequential([\n",
    "#     Dense(64, activation='relu', input_dim=5),\n",
    "#     Dense(64, activation='relu'),\n",
    "#     Dense(1, activation='linear')  # Output layer\n",
    "# ])\n",
    "\n",
    "# initialize the ANN\n",
    "ann = tf.keras.models.Sequential() \n",
    "# adding the input layer and the first hidden layer\n",
    "ann.add(tf.keras.layers.Dense(units=5, activation='relu'))\n",
    "# adding the second hidden layer\n",
    "ann.add(tf.keras.layers.Dense(units=64, activation='relu'))\n",
    "# # adding the third hidden layer\n",
    "ann.add(tf.keras.layers.Dense(units=64, activation='sigmoid'))\n",
    "# adding the second hidden layer\n",
    "# ann.add(tf.keras.layers.Dense(units=64, activation='relu'))\n",
    "# adding the output layer, absolute value of the snr\n",
    "ann.add(tf.keras.layers.Dense(units=1, activation='linear'))\n",
    "#ann.add(tf.keras.layers.Dense(units=1, activation='sigmoid'))\n",
    "\n",
    "# compile the ANN\n",
    "ann.compile(optimizer = 'adam', loss = 'mean_squared_error', metrics = ['accuracy'])\n",
    "\n",
    "# train the ANN on the training set\n",
    "ann.fit(X_train, y_train, batch_size = 1000, epochs = 10)"
   ]
  },
  {
   "cell_type": "code",
   "execution_count": 35,
   "metadata": {},
   "outputs": [
    {
     "name": "stdout",
     "output_type": "stream",
     "text": [
      "\u001b[1m3125/3125\u001b[0m \u001b[32m━━━━━━━━━━━━━━━━━━━━\u001b[0m\u001b[37m\u001b[0m \u001b[1m1s\u001b[0m 237us/step\n",
      "[[ 3.61283779  3.65397835]\n",
      " [13.08556175 12.98396409]\n",
      " [ 4.93011141  5.38968692]\n",
      " [ 2.76120901  2.14371596]\n",
      " [ 3.38732147  3.23222407]\n",
      " [ 9.10139275 10.34662589]\n",
      " [ 1.25321674  1.36882522]\n",
      " [ 0.70419037  1.23448437]\n",
      " [ 0.42972437  0.37395457]\n",
      " [ 0.66139108  0.79105229]]\n"
     ]
    }
   ],
   "source": [
    "# Evaluate\n",
    "y_pred = ann.predict(scaler.transform(X_test))\n",
    "#y_pred = (y_pred > 0.5)\n",
    "print(np.concatenate((y_pred.reshape(len(y_pred),1), y_test.reshape(len(y_test),1)),1)[0:10])"
   ]
  },
  {
   "cell_type": "markdown",
   "metadata": {},
   "source": [
    "## Mean squared error\n",
    "\n",
    "The mean squared error (MSE) is a measure of the quality of an estimator. It is always non-negative, and values closer to zero are better. The MSE is the average of the square of the errors. The error is the difference between the estimator and the true value.\n",
    "\n",
    "The formula for the MSE is:\n",
    "\n",
    "$$\n",
    "\\text{MSE} = \\frac{1}{n} \\sum_{i=1}^{n} (y_i - \\hat{y}_i)^2\n",
    "$$\n",
    "\n",
    "where $n$ is the number of observations, $y_i$ is the true value, and $\\hat{y}_i$ is the estimator."
   ]
  },
  {
   "cell_type": "code",
   "execution_count": 14,
   "metadata": {},
   "outputs": [
    {
     "data": {
      "text/plain": [
       "0.2980566919431046"
      ]
     },
     "execution_count": 14,
     "metadata": {},
     "output_type": "execute_result"
    }
   ],
   "source": [
    "# evaluate the error\n",
    "from sklearn.metrics import mean_squared_error\n",
    "mean_squared_error(y_test, y_pred)"
   ]
  },
  {
   "cell_type": "code",
   "execution_count": 19,
   "metadata": {},
   "outputs": [
    {
     "name": "stdout",
     "output_type": "stream",
     "text": [
      "\u001b[1m32/32\u001b[0m \u001b[32m━━━━━━━━━━━━━━━━━━━━\u001b[0m\u001b[37m\u001b[0m \u001b[1m0s\u001b[0m 329us/step\n",
      "[[0.79835701 0.67877992]\n",
      " [0.37264436 0.52043617]\n",
      " [1.73081076 1.72720382]\n",
      " ...\n",
      " [2.85599995 3.65903997]\n",
      " [1.69245422 1.53161981]\n",
      " [8.34005165 8.00018433]]\n"
     ]
    },
    {
     "data": {
      "text/plain": [
       "0.12795389000994264"
      ]
     },
     "execution_count": 19,
     "metadata": {},
     "output_type": "execute_result"
    }
   ],
   "source": [
    "y_pred = ann.predict(scaler.transform(new_point))\n",
    "print(np.concatenate((y_pred.reshape(len(y_pred),1), new_values.reshape(len(new_values),1)),1))\n",
    "# mse\n",
    "mean_squared_error(new_values, y_pred)"
   ]
  },
  {
   "cell_type": "code",
   "execution_count": 24,
   "metadata": {},
   "outputs": [
    {
     "name": "stdout",
     "output_type": "stream",
     "text": [
      "[[0.69262289 0.67877992]\n",
      " [0.43454533 0.52043617]\n",
      " [1.78103062 1.72720382]\n",
      " ...\n",
      " [3.36651874 3.65903997]\n",
      " [1.63771098 1.53161981]\n",
      " [7.76742495 8.00018433]]\n"
     ]
    },
    {
     "data": {
      "text/plain": [
       "0.031175777816628492"
      ]
     },
     "execution_count": 24,
     "metadata": {},
     "output_type": "execute_result"
    }
   ],
   "source": [
    "new_values_nn = np.mean(values[indices], axis=1)\n",
    "print(np.concatenate((new_values_nn.reshape(len(new_values_nn),1), new_values.reshape(len(new_values),1)),1))\n",
    "# mse\n",
    "mean_squared_error(new_values, new_values_nn)"
   ]
  },
  {
   "cell_type": "code",
   "execution_count": 27,
   "metadata": {},
   "outputs": [
    {
     "name": "stdout",
     "output_type": "stream",
     "text": [
      "[[0.68454002 0.67877992]\n",
      " [0.50453921 0.52043617]\n",
      " [1.79246563 1.72720382]\n",
      " ...\n",
      " [3.54495968 3.65903997]\n",
      " [1.56365087 1.53161981]\n",
      " [7.91907712 8.00018433]]\n"
     ]
    },
    {
     "data": {
      "text/plain": [
       "0.03444128491475628"
      ]
     },
     "execution_count": 27,
     "metadata": {},
     "output_type": "execute_result"
    }
   ],
   "source": [
    "new_values_nn = np.mean(values[indices], axis=1)\n",
    "print(np.concatenate((new_values_nn.reshape(len(new_values_nn),1), new_values.reshape(len(new_values),1)),1))\n",
    "# mse\n",
    "mean_squared_error(new_values, new_values_nn)"
   ]
  },
  {
   "cell_type": "code",
   "execution_count": 79,
   "metadata": {},
   "outputs": [
    {
     "name": "stdout",
     "output_type": "stream",
     "text": [
      "[[4.30250278 8.80812147]\n",
      " [4.30250278 2.19682203]\n",
      " [4.30250278 1.92143602]\n",
      " ...\n",
      " [4.30250278 1.48345168]\n",
      " [4.30250278 4.20229832]\n",
      " [4.30250278 7.22937301]]\n"
     ]
    },
    {
     "data": {
      "text/plain": [
       "12.44308957230129"
      ]
     },
     "execution_count": 79,
     "metadata": {},
     "output_type": "execute_result"
    }
   ],
   "source": [
    "from sklearn.neighbors import NearestNeighbors\n",
    "\n",
    "# Fit nearest neighbor model\n",
    "nbrs = NearestNeighbors(n_neighbors=5).fit(points)\n",
    "\n",
    "new_values_nn = np.mean(values[indices], axis=1)\n",
    "print(np.concatenate((new_values_nn.reshape(len(new_values_nn),1), new_values.reshape(len(new_values),1)),1))\n",
    "# mse\n",
    "mean_squared_error(new_values, new_values_nn)"
   ]
  },
  {
   "cell_type": "code",
   "execution_count": 74,
   "metadata": {},
   "outputs": [],
   "source": [
    "from sklearn.neighbors import NearestNeighbors\n",
    "\n",
    "# Fit nearest neighbor model\n",
    "nbrs = NearestNeighbors(n_neighbors=20).fit(inputs[:10000])\n"
   ]
  },
  {
   "cell_type": "code",
   "execution_count": 75,
   "metadata": {},
   "outputs": [
    {
     "data": {
      "text/plain": [
       "array([[ 0,  1,  2, ..., 17, 18, 19],\n",
       "       [ 0,  1,  2, ..., 17, 18, 19],\n",
       "       [ 0,  1,  2, ..., 17, 18, 19],\n",
       "       ...,\n",
       "       [ 0,  1,  2, ..., 17, 18, 19],\n",
       "       [ 0,  1,  2, ..., 17, 18, 19],\n",
       "       [ 0,  1,  2, ..., 17, 18, 19]])"
      ]
     },
     "execution_count": 75,
     "metadata": {},
     "output_type": "execute_result"
    }
   ],
   "source": [
    "indices"
   ]
  },
  {
   "cell_type": "code",
   "execution_count": 76,
   "metadata": {},
   "outputs": [
    {
     "name": "stdout",
     "output_type": "stream",
     "text": [
      "[[3.599898   3.58834208]\n",
      " [3.599898   6.0187223 ]\n",
      " [3.599898   1.29656623]\n",
      " [3.599898   6.12775927]\n",
      " [3.599898   0.45815015]\n",
      " [3.599898   2.47967288]\n",
      " [3.599898   8.15811152]\n",
      " [3.599898   8.91565531]\n",
      " [3.599898   1.81749398]\n",
      " [3.599898   2.36011649]]\n"
     ]
    },
    {
     "data": {
      "text/plain": [
       "12.370235941758994"
      ]
     },
     "execution_count": 76,
     "metadata": {},
     "output_type": "execute_result"
    }
   ],
   "source": [
    "distances, indices = nbrs.kneighbors(new_point)\n",
    "new_values_nn = np.mean(area_list[:10000][indices], axis=1)\n",
    "print(np.concatenate((new_values_nn.reshape(len(new_values_nn),1), new_values.reshape(len(new_values),1)),1)[10:20])\n",
    "# mse\n",
    "mean_squared_error(new_values, new_values_nn)"
   ]
  },
  {
   "cell_type": "code",
   "execution_count": 57,
   "metadata": {},
   "outputs": [
    {
     "data": {
      "text/plain": [
       "(array([3.58834208, 6.0187223 , 1.29656623, 6.12775927,\n",
       "        0.45815015, 2.47967288, 8.15811152, 8.91565531,\n",
       "        1.81749398, 2.36011649]),\n",
       " array([4.56708063, 4.56708063, 4.56708063, 4.56708063,\n",
       "        4.56708063, 4.56708063, 4.56708063, 4.56708063,\n",
       "        4.56708063, 4.56708063]))"
      ]
     },
     "execution_count": 57,
     "metadata": {},
     "output_type": "execute_result"
    }
   ],
   "source": [
    "new_values[10:20], new_values_nn[10:20]"
   ]
  },
  {
   "cell_type": "code",
   "execution_count": null,
   "metadata": {},
   "outputs": [],
   "source": [
    "from itertools import product\n",
    "\n",
    "def generate_parameter_grid():\n",
    "    # Define ranges or distributions for each parameter\n",
    "    theta_E_values = np.linspace(0.1, 2.0, 10)  # Example range for Einstein radius\n",
    "    e1_values = np.linspace(-0.5, 0.5, 10)      # Example range for e1\n",
    "    e2_values = np.linspace(-0.5, 0.5, 10)      # Example range for e2\n",
    "    gamma_values = np.linspace(1.5, 2.5, 10)    # Example range for gamma\n",
    "    gamma1_values = np.linspace(-0.1, 0.1, 10)  # Example range for gamma1\n",
    "    gamma2_values = np.linspace(-0.1, 0.1, 10)  # Example range for gamma2\n",
    "\n",
    "    # Create the Cartesian product of all parameters\n",
    "    grid = np.array(list(product(theta_E_values, e1_values, e2_values, gamma_values, gamma1_values, gamma2_values)))\n",
    "\n",
    "    return grid"
   ]
  },
  {
   "cell_type": "code",
   "execution_count": 73,
   "metadata": {},
   "outputs": [],
   "source": [
    "def cross_section_unit(e1, e2, gamma, gamma1, gamma2):\n",
    "    size = e1.shape[0]\n",
    "    area_list = np.zeros(size)\n",
    "    for i in range(size):\n",
    "        kwargs_lens = [\n",
    "            {\n",
    "                \"theta_E\": 1.0,\n",
    "                \"e1\": e1[i],\n",
    "                \"e2\": e2[i],\n",
    "                \"gamma\": gamma[i],\n",
    "                \"center_x\": 0.0,\n",
    "                \"center_y\": 0.0,\n",
    "            },\n",
    "            {\n",
    "                \"gamma1\": gamma1[i],\n",
    "                \"gamma2\": gamma2[i],\n",
    "                \"ra_0\": 0,\n",
    "                \"dec_0\": 0,\n",
    "            },\n",
    "        ]\n",
    "\n",
    "        caustic_double_points = caustics_epl_shear(\n",
    "            kwargs_lens, return_which=\"double\", maginf=-100\n",
    "        )\n",
    "        caustic = np.logical_not(np.isnan(caustic_double_points).any())\n",
    "\n",
    "        # If there is a nan, caustic=False, draw a new gamma\n",
    "        if caustic:\n",
    "            area_list[i] = (Polygon(caustic_double_points.T).area)\n",
    "        \n",
    "    return area_list"
   ]
  },
  {
   "cell_type": "code",
   "execution_count": 79,
   "metadata": {},
   "outputs": [],
   "source": [
    "size = 1000\n",
    "theta_E, e1, e2, gamma, gamma1, gamma2 = get_data(size)\n",
    "values1 = cross_section(theta_E, e1, e2, gamma, gamma1, gamma2)\n",
    "values2 = cross_section_unit(e1, e2, gamma, gamma1, gamma2)"
   ]
  },
  {
   "cell_type": "code",
   "execution_count": null,
   "metadata": {},
   "outputs": [
    {
     "data": {
      "text/plain": [
       "[<matplotlib.lines.Line2D at 0x17b6d83a0>]"
      ]
     },
     "execution_count": 80,
     "metadata": {},
     "output_type": "execute_result"
    },
    {
     "data": {
      "image/png": "[encoded data removed]",
      "text/plain": [
       "<Figure size 640x480 with 1 Axes>"
      ]
     },
     "metadata": {},
     "output_type": "display_data"
    }
   ],
   "source": [
    "plt.loglog(theta_E, values2/values1, '.')"
   ]
  },
  {
   "cell_type": "code",
   "execution_count": null,
   "metadata": {},
   "outputs": [],
   "source": [
    "def rjs_with_cross_section_mp(self, param_dict):\n",
    "    \"\"\"\n",
    "    Function to conduct rejection sampling wrt cross_section, multiprocessing\n",
    "\n",
    "    Parameters\n",
    "    ----------\n",
    "    param_dict : dict\n",
    "        dictionary of lens parameters and source parameters\n",
    "\n",
    "    Returns\n",
    "    -------\n",
    "    lens_params : dict\n",
    "        dictionary of lens parameters after rejection sampling\n",
    "    \"\"\"\n",
    "\n",
    "    theta_E_cut = 2.9243287409459857e-08\n",
    "\n",
    "    # Pre-filter param_dict directly\n",
    "    param_dict = {key: val[param_dict[\"theta_E\"] > theta_E_cut] \n",
    "                  for key, val in param_dict.items()}\n",
    "\n",
    "    size = len(param_dict[\"theta_E\"])  # Update size after filtering\n",
    "    theta_E = param_dict[\"theta_E\"]\n",
    "    e1 = param_dict[\"e1\"]\n",
    "    e2 = param_dict[\"e2\"]\n",
    "    gamma = param_dict[\"gamma\"]\n",
    "    gamma1 = param_dict[\"gamma1\"]\n",
    "    gamma2 = param_dict[\"gamma2\"]\n",
    "\n",
    "    idx = np.arange(size, dtype=int)\n",
    "    params = np.array([theta_E, e1, e2, gamma, gamma1, gamma2, idx]).T\n",
    "\n",
    "    cross_section_ = np.zeros(size)  # Directly create filtered array\n",
    "\n",
    "    with Pool(processes=self.npool) as pool:\n",
    "        for result in tqdm(pool.imap_unordered(cross_section_mp, params_), \n",
    "                          ncols=100):  # Remove total from tqdm\n",
    "            idx_, tau_ = result\n",
    "            cross_section_[idx_] = tau_\n",
    "\n",
    "    max_ = np.max(cross_section_)\n",
    "    u = np.random.uniform(0, max_, size=size)\n",
    "    mask = u < cross_section_\n",
    "\n",
    "    # Return the dictionary with the mask applied\n",
    "    dict_ = {key: val[mask] for key, val in param_dict.items()}\n",
    "    dict_[\"cross_section\"] = cross_section_[mask]\n",
    "    return dict_"
   ]
  },
  {
   "cell_type": "code",
   "execution_count": null,
   "metadata": {},
   "outputs": [],
   "source": []
  }
 ],
 "metadata": {
  "kernelspec": {
   "display_name": "ler",
   "language": "python",
   "name": "ler"
  },
  "language_info": {
   "codemirror_mode": {
    "name": "ipython",
    "version": 3
   },
   "file_extension": ".py",
   "mimetype": "text/x-python",
   "name": "python",
   "nbconvert_exporter": "python",
   "pygments_lexer": "ipython3",
   "version": "3.10.14"
  }
 },
 "nbformat": 4,
 "nbformat_minor": 2
}
