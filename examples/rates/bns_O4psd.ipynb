{
 "cells": [
  {
   "cell_type": "code",
   "execution_count": 1,
   "metadata": {},
   "outputs": [
    {
     "name": "stdout",
     "output_type": "stream",
     "text": [
      "Setting multiprocessing start method to 'fork'\n"
     ]
    }
   ],
   "source": [
    "import numpy as np\n",
    "import matplotlib.pyplot as plt\n",
    "from ler.rates import LeR\n",
    "from ler.utils import get_param_from_json"
   ]
  },
  {
   "cell_type": "code",
   "execution_count": 2,
   "metadata": {},
   "outputs": [
    {
     "name": "stdout",
     "output_type": "stream",
     "text": [
      "ler version: 0.4.0\n",
      "gwsnr version: 0.3.2\n"
     ]
    }
   ],
   "source": [
    "import ler\n",
    "import gwsnr\n",
    "print(f\"ler version: {ler.__version__}\")\n",
    "print(f\"gwsnr version: {gwsnr.__version__}\")"
   ]
  },
  {
   "cell_type": "code",
   "execution_count": 4,
   "metadata": {},
   "outputs": [
    {
     "name": "stderr",
     "output_type": "stream",
     "text": [
      "interpolation for each mass_ratios: 100%|███████████████████████████| 50/50 [01:20<00:00,  1.62s/it]\n"
     ]
    }
   ],
   "source": [
    "ler = LeR(npool=8,\n",
    "          verbose=False, \n",
    "          event_type='BNS',\n",
    "          mtot_max=51, \n",
    "          z_max=5,\n",
    "          psds={'L1':'custom_psd.txt', 'H1':'custom_psd.txt'},\n",
    "          snr_type=\"interpolation\",\n",
    "          )"
   ]
  },
  {
   "cell_type": "code",
   "execution_count": 5,
   "metadata": {},
   "outputs": [
    {
     "data": {
      "text/plain": [
       "0"
      ]
     },
     "execution_count": 5,
     "metadata": {},
     "output_type": "execute_result"
    }
   ],
   "source": [
    "len(np.array([]))"
   ]
  },
  {
   "cell_type": "code",
   "execution_count": null,
   "metadata": {},
   "outputs": [],
   "source": [
    "m1,m2 = ler.sample_source_frame_masses(size=10000)\n",
    "plt.figure(figsize=(4,4))\n",
    "plt.hist(m1, bins=30, histtype='step', lw=2, color='k', label='m1', density=True)\n",
    "plt.hist(m2, bins=30, histtype='step', lw=2, color='r', label='m2', density=True)\n",
    "plt.xlabel('mass')\n",
    "plt.ylabel('pdf')\n",
    "plt.legend()\n",
    "plt.grid(alpha=0.4)\n",
    "plt.show()"
   ]
  }
 ],
 "metadata": {
  "kernelspec": {
   "display_name": "ler",
   "language": "python",
   "name": "python3"
  },
  "language_info": {
   "codemirror_mode": {
    "name": "ipython",
    "version": 3
   },
   "file_extension": ".py",
   "mimetype": "text/x-python",
   "name": "python",
   "nbconvert_exporter": "python",
   "pygments_lexer": "ipython3",
   "version": "3.10.14"
  }
 },
 "nbformat": 4,
 "nbformat_minor": 2
}
