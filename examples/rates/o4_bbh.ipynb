{
 "cells": [
  {
   "cell_type": "code",
   "execution_count": 1,
   "metadata": {},
   "outputs": [
    {
     "name": "stdout",
     "output_type": "stream",
     "text": [
      "INFO:numexpr.utils:NumExpr defaulting to 10 threads.\n"
     ]
    }
   ],
   "source": [
    "from ler.rates import LeR\n",
    "from ler.utils import get_param_from_json\n",
    "import numpy as np\n",
    "import matplotlib.pyplot as plt\n",
    "\n",
    "# other necessary imports\n",
    "from astropy.cosmology import LambdaCDM"
   ]
  },
  {
   "cell_type": "code",
   "execution_count": 2,
   "metadata": {},
   "outputs": [],
   "source": [
    "##"
   ]
  },
  {
   "cell_type": "code",
   "execution_count": 3,
   "metadata": {},
   "outputs": [],
   "source": [
    "# Complete setup for LeR\n",
    "\n",
    "ler = LeR(\n",
    "    # LeR setup arguments\n",
    "    npool=4, # number of processors to use\n",
    "    z_min=0.0, # minimum redshift\n",
    "    z_max=10.0, # maximum redshift\n",
    "    event_type='BBH', # event type\n",
    "    size=100000, # number of events to simulate\n",
    "    batch_size=50000, # batch size\n",
    "    cosmology=LambdaCDM(H0=70, Om0=0.3, Ode0=0.7), # cosmology\n",
    "    snr_finder=None, # snr calculator from 'gwsnr' package will be used\n",
    "    pdet_finder=None,  # will not be consider unless specified\n",
    "    list_of_detectors=None, # list of detectors that will be considered when calculating snr or pdet for lensed events. if None, all the detectors from 'gwsnr' will be considered\n",
    "    json_file_names=dict(\n",
    "        ler_params=\"ler_params.json\", # to store initialization parameters and important results\n",
    "        unlensed_param=\"unlensed_param.json\", # to store all unlensed events\n",
    "        unlensed_param_detectable=\"unlensed_param_detectable.json\", # to store only detectable unlensed events\n",
    "        lensed_param=\"lensed_param.json\", # to store all lensed events \n",
    "        lensed_param_detectable=\"lensed_param_detectable.json\"), # to store only detectable lensed events\n",
    "    interpolator_directory='./interpolator_pickle', # directory to store the interpolator pickle files. 'ler' uses interpolation to get values of various functions to speed up the calculations (relying on numba njit).\n",
    "    ler_directory='./ler_data', # directory to store all the outputs\n",
    "    verbose=False, # if True, will print all information at initialization\n",
    "\n",
    "    # CBCSourceParameterDistribution class arguments\n",
    "    source_priors= {\n",
    "        'merger_rate_density': 'merger_rate_density_bbh_popI_II_oguri2018', 'source_frame_masses': 'binary_masses_BBH_popI_II_powerlaw_gaussian', 'zs': 'sample_source_redshift', 'geocent_time': 'sampler_uniform', 'ra': 'sampler_uniform', 'dec': 'sampler_cosine', 'phase': 'sampler_uniform', 'psi': 'sampler_uniform', 'theta_jn': 'sampler_sine'\n",
    "        },\n",
    "    source_priors_params= {\n",
    "        'merger_rate_density': {\n",
    "            'R0': 2.39e-08, 'b2': 1.6, 'b3': 2.0, 'b4': 30\n",
    "            }, \n",
    "        'source_frame_masses': {\n",
    "            'mminbh': 4.98, 'mmaxbh': 112.5, 'alpha': 3.78, 'mu_g': 32.27, 'sigma_g': 3.88, 'lambda_peak': 0.03, 'delta_m': 4.8, 'beta': 0.81\n",
    "            }, \n",
    "        'zs': None, \n",
    "        'geocent_time': {\n",
    "            'min_': 1238166018, 'max_': 1269702018\n",
    "            }, \n",
    "        'ra': {\n",
    "            'min_': 0.0, 'max_': 6.283185307179586\n",
    "            }, \n",
    "        'dec': None, \n",
    "        'phase': {\n",
    "            'min_': 0.0, 'max_': 6.283185307179586\n",
    "            }, \n",
    "        'psi': {\n",
    "            'min_': 0.0, 'max_': 3.141592653589793\n",
    "            }, \n",
    "        'theta_jn': None\n",
    "        },\n",
    "    spin_zero= True, # if True, spins will be set to zero\n",
    "    spin_precession= False, # if True, spins will be precessing\n",
    "\n",
    "    # LensGalaxyParameterDistribution class arguments\n",
    "    lens_type = 'epl_galaxy',\n",
    "    lens_functions =  {\n",
    "        'strong_lensing_condition': 'rjs_with_cross_section_SIE',\n",
    "        'optical_depth': 'optical_depth_SIE_hemanta',\n",
    "        'param_sampler_type': 'sample_all_routine'\n",
    "        },\n",
    "    lens_priors =  {\n",
    "        'source_redshift_sl': 'strongly_lensed_source_redshifts', \n",
    "        'lens_redshift': 'lens_redshift_SDSS_catalogue', \n",
    "        'velocity_dispersion': 'velocity_dispersion_ewoud', \n",
    "        'axis_ratio': 'axis_ratio_rayleigh', \n",
    "        'axis_rotation_angle': 'axis_rotation_angle_uniform', \n",
    "        'shear': 'shear_norm', \n",
    "        'mass_density_spectral_index': 'mass_density_spectral_index_normal', 'source_parameters': 'sample_gw_parameters'\n",
    "        },\n",
    "    lens_priors_params =  {\n",
    "        'source_redshift_sl': None, \n",
    "        'lens_redshift': None, \n",
    "        'velocity_dispersion': {\n",
    "            'vd_min':10., 'vd_max':350.\n",
    "            }, \n",
    "        'axis_ratio': {\n",
    "            'q_min': 0.2, 'q_max': 1.0\n",
    "            }, \n",
    "        'axis_rotation_angle': {\n",
    "            'phi_min': 0.0, 'phi_max': 6.283185307179586\n",
    "            }, \n",
    "        'shear': {\n",
    "            'scale': 0.05\n",
    "            }, \n",
    "        'mass_density_spectral_index': {\n",
    "            'mean': 2.0, 'std': 0.2\n",
    "            }, \n",
    "        'source_parameters': None\n",
    "        },\n",
    "\n",
    "    # ImageProperties class arguments\n",
    "    n_min_images = 2,\n",
    "    n_max_images = 4,\n",
    "    geocent_time_min = 1238166018,\n",
    "    geocent_time_max = 1269702018,\n",
    "    lens_model_list = ['EPL_NUMBA', 'SHEAR'],\n",
    "\n",
    "    # gwsnr package arguments\n",
    "    mtot_min = 2.0,\n",
    "    mtot_max = 184.98599853446768,\n",
    "    ratio_min = 0.1,\n",
    "    ratio_max = 1.0,\n",
    "    mtot_resolution = 500,\n",
    "    ratio_resolution = 50,\n",
    "    sampling_frequency = 2048.0,\n",
    "    waveform_approximant = 'IMRPhenomD',\n",
    "    minimum_frequency = 20.0,\n",
    "    snr_type = 'interpolation',\n",
    "    psds = {'L1':'aLIGO_O4_high_asd.txt','H1':'aLIGO_O4_high_asd.txt', 'V1':'AdV_asd.txt', 'K1':'KAGRA_design_asd.txt'},\n",
    "    ifos = ['L1', 'H1', 'V1'],\n",
    "    interpolator_dir = './interpolator_pickle',\n",
    "    gwsnr_verbose = False,\n",
    "    multiprocessing_verbose = True,\n",
    "    mtot_cut = True,\n",
    "\n",
    "    # common arguments, to generate interpolator\n",
    "    # create_new_interpolator = dict(\n",
    "    #     redshift_distribution=dict(create_new=False, resolution=1000),\n",
    "    #     z_to_luminosity_distance=dict(create_new=False, resolution=1000),\n",
    "    #     velocity_dispersion=dict(create_new=False, resolution=1000),\n",
    "    #     axis_ratio=dict(create_new=False, resolution=1000),\n",
    "    #     optical_depth=dict(create_new=False, resolution=200),\n",
    "    #     z_to_Dc=dict(create_new=False, resolution=1000),\n",
    "    #     Dc_to_z=dict(create_new=False, resolution=1000),\n",
    "    #     angular_diameter_distance=dict(create_new=False, resolution=1000),\n",
    "    #     differential_comoving_volume=dict(create_new=False, resolution=1000),\n",
    "    #     Dl_to_z=dict(create_new=False, resolution=1000),\n",
    "    # )\n",
    "    create_new_interpolator = False\n",
    ")"
   ]
  },
  {
   "cell_type": "markdown",
   "metadata": {},
   "source": [
    "## Unlensed "
   ]
  },
  {
   "cell_type": "code",
   "execution_count": 4,
   "metadata": {},
   "outputs": [
    {
     "name": "stdout",
     "output_type": "stream",
     "text": [
      "collected number of detectable events =  0\n",
      "given detectability_condition == 'step_function'\n",
      "collected number of detectable events =  1971\n",
      "total number of events =  200000\n",
      "total rate (yr^-1): 1020.2181460423208\n",
      "given detectability_condition == 'step_function'\n"
     ]
    },
    {
     "ename": "ValueError",
     "evalue": "operands could not be broadcast together with shapes (1971,) (2016,) ",
     "output_type": "error",
     "traceback": [
      "\u001b[0;31m---------------------------------------------------------------------------\u001b[0m",
      "\u001b[0;31mValueError\u001b[0m                                Traceback (most recent call last)",
      "Cell \u001b[0;32mIn[4], line 1\u001b[0m\n\u001b[0;32m----> 1\u001b[0m \u001b[43mler\u001b[49m\u001b[38;5;241;43m.\u001b[39;49m\u001b[43mselecting_n_unlensed_detectable_events\u001b[49m\u001b[43m(\u001b[49m\n\u001b[1;32m      2\u001b[0m \u001b[43m    \u001b[49m\u001b[43msize\u001b[49m\u001b[38;5;241;43m=\u001b[39;49m\u001b[38;5;241;43m200000\u001b[39;49m\u001b[43m,\u001b[49m\n\u001b[1;32m      3\u001b[0m \u001b[43m    \u001b[49m\u001b[43mbatch_size\u001b[49m\u001b[38;5;241;43m=\u001b[39;49m\u001b[38;5;241;43m200000\u001b[39;49m\u001b[43m,\u001b[49m\n\u001b[1;32m      4\u001b[0m \u001b[43m    \u001b[49m\u001b[43msnr_threshold\u001b[49m\u001b[38;5;241;43m=\u001b[39;49m\u001b[38;5;241;43m6.0\u001b[39;49m\u001b[43m,\u001b[49m\n\u001b[1;32m      5\u001b[0m \u001b[43m    \u001b[49m\u001b[43mresume\u001b[49m\u001b[38;5;241;43m=\u001b[39;49m\u001b[38;5;28;43;01mFalse\u001b[39;49;00m\u001b[43m,\u001b[49m\n\u001b[1;32m      6\u001b[0m \u001b[43m    \u001b[49m\u001b[43moutput_jsonfile\u001b[49m\u001b[38;5;241;43m=\u001b[39;49m\u001b[38;5;124;43m'\u001b[39;49m\u001b[38;5;124;43mn_unlensed_param_detectable_O4_spur_sub.json\u001b[39;49m\u001b[38;5;124;43m'\u001b[39;49m\u001b[43m,\u001b[49m\n\u001b[1;32m      7\u001b[0m \u001b[43m    \u001b[49m\u001b[43mmeta_data_file\u001b[49m\u001b[38;5;241;43m=\u001b[39;49m\u001b[38;5;124;43m'\u001b[39;49m\u001b[38;5;124;43mmeta_unlensed_O4_spur_sub.json\u001b[39;49m\u001b[38;5;124;43m'\u001b[39;49m\u001b[43m,\u001b[49m\n\u001b[1;32m      8\u001b[0m \u001b[43m    \u001b[49m\u001b[43mdetectability_condition\u001b[49m\u001b[38;5;241;43m=\u001b[39;49m\u001b[38;5;124;43m'\u001b[39;49m\u001b[38;5;124;43mstep_function\u001b[39;49m\u001b[38;5;124;43m'\u001b[39;49m\u001b[43m,\u001b[49m\n\u001b[1;32m      9\u001b[0m \u001b[43m    \u001b[49m\u001b[43mtrim_to_size\u001b[49m\u001b[38;5;241;43m=\u001b[39;49m\u001b[38;5;28;43;01mFalse\u001b[39;49;00m\u001b[43m,\u001b[49m\n\u001b[1;32m     10\u001b[0m \u001b[43m)\u001b[49m\n",
      "File \u001b[0;32m~/anaconda3/envs/ler/lib/python3.10/site-packages/ler/rates/ler.py:1865\u001b[0m, in \u001b[0;36mLeR.selecting_n_unlensed_detectable_events\u001b[0;34m(self, size, batch_size, snr_threshold, pdet_threshold, resume, output_jsonfile, meta_data_file, detectability_condition, trim_to_size, snr_recalculation, snr_threshold_recalculation)\u001b[0m\n\u001b[1;32m   1862\u001b[0m idx_detectable \u001b[38;5;241m=\u001b[39m \u001b[38;5;28mself\u001b[39m\u001b[38;5;241m.\u001b[39m_find_detectable_index_unlensed(unlensed_param, snr_threshold, pdet_threshold, detectability_condition)\n\u001b[1;32m   1864\u001b[0m \u001b[38;5;66;03m# store all params in json file\u001b[39;00m\n\u001b[0;32m-> 1865\u001b[0m \u001b[38;5;28;43mself\u001b[39;49m\u001b[38;5;241;43m.\u001b[39;49m\u001b[43m_save_detectable_params\u001b[49m\u001b[43m(\u001b[49m\u001b[43moutput_jsonfile\u001b[49m\u001b[43m,\u001b[49m\u001b[43m \u001b[49m\u001b[43munlensed_param\u001b[49m\u001b[43m,\u001b[49m\u001b[43m \u001b[49m\u001b[43midx_detectable\u001b[49m\u001b[43m,\u001b[49m\u001b[43m \u001b[49m\u001b[43mkey_file_name\u001b[49m\u001b[38;5;241;43m=\u001b[39;49m\u001b[38;5;124;43m\"\u001b[39;49m\u001b[38;5;124;43mn_unlensed_detectable_events\u001b[39;49m\u001b[38;5;124;43m\"\u001b[39;49m\u001b[43m,\u001b[49m\u001b[43m \u001b[49m\u001b[43mnan_to_num\u001b[49m\u001b[38;5;241;43m=\u001b[39;49m\u001b[38;5;28;43;01mFalse\u001b[39;49;00m\u001b[43m,\u001b[49m\u001b[43m \u001b[49m\u001b[43mverbose\u001b[49m\u001b[38;5;241;43m=\u001b[39;49m\u001b[38;5;28;43;01mFalse\u001b[39;49;00m\u001b[43m,\u001b[49m\u001b[43m \u001b[49m\u001b[43mreplace_jsonfile\u001b[49m\u001b[38;5;241;43m=\u001b[39;49m\u001b[38;5;28;43;01mFalse\u001b[39;49;00m\u001b[43m)\u001b[49m\n\u001b[1;32m   1867\u001b[0m n \u001b[38;5;241m+\u001b[39m\u001b[38;5;241m=\u001b[39m np\u001b[38;5;241m.\u001b[39msum(idx_detectable)\n\u001b[1;32m   1868\u001b[0m events_total \u001b[38;5;241m+\u001b[39m\u001b[38;5;241m=\u001b[39m total_events_in_this_iteration              \n",
      "File \u001b[0;32m~/anaconda3/envs/ler/lib/python3.10/site-packages/ler/rates/ler.py:1242\u001b[0m, in \u001b[0;36mLeR._save_detectable_params\u001b[0;34m(self, output_jsonfile, param, idx_detectable, key_file_name, nan_to_num, verbose, replace_jsonfile)\u001b[0m\n\u001b[1;32m   1240\u001b[0m \u001b[38;5;28;01mif\u001b[39;00m verbose:\n\u001b[1;32m   1241\u001b[0m     \u001b[38;5;28mprint\u001b[39m(\u001b[38;5;124mf\u001b[39m\u001b[38;5;124m\"\u001b[39m\u001b[38;5;124mstoring detectable params in \u001b[39m\u001b[38;5;132;01m{\u001b[39;00moutput_path\u001b[38;5;132;01m}\u001b[39;00m\u001b[38;5;124m\"\u001b[39m)\n\u001b[0;32m-> 1242\u001b[0m \u001b[43mappend_json\u001b[49m\u001b[43m(\u001b[49m\u001b[43moutput_path\u001b[49m\u001b[43m,\u001b[49m\u001b[43m \u001b[49m\u001b[43mparam\u001b[49m\u001b[43m,\u001b[49m\u001b[43m \u001b[49m\u001b[43mreplace\u001b[49m\u001b[38;5;241;43m=\u001b[39;49m\u001b[43mreplace_jsonfile\u001b[49m\u001b[43m)\u001b[49m\n",
      "File \u001b[0;32m~/anaconda3/envs/ler/lib/python3.10/site-packages/ler/utils/utils.py:128\u001b[0m, in \u001b[0;36mappend_json\u001b[0;34m(file_name, new_dictionary, old_dictionary, replace)\u001b[0m\n\u001b[1;32m    123\u001b[0m \u001b[38;5;66;03m# end = datetime.datetime.now()\u001b[39;00m\n\u001b[1;32m    124\u001b[0m \u001b[38;5;66;03m# print(f\"Time taken to load the json file: {end-start}\")\u001b[39;00m\n\u001b[1;32m    125\u001b[0m \n\u001b[1;32m    126\u001b[0m \u001b[38;5;66;03m# start = datetime.datetime.now()\u001b[39;00m\n\u001b[1;32m    127\u001b[0m \u001b[38;5;28;01mif\u001b[39;00m \u001b[38;5;129;01mnot\u001b[39;00m replace:\n\u001b[0;32m--> 128\u001b[0m     data \u001b[38;5;241m=\u001b[39m \u001b[43madd_dictionaries_together\u001b[49m\u001b[43m(\u001b[49m\u001b[43mdata\u001b[49m\u001b[43m,\u001b[49m\u001b[43m \u001b[49m\u001b[43mnew_dictionary\u001b[49m\u001b[43m)\u001b[49m\n\u001b[1;32m    129\u001b[0m     \u001b[38;5;66;03m# data_key = data.keys()\u001b[39;00m\n\u001b[1;32m    130\u001b[0m     \u001b[38;5;66;03m# for key, value in new_dictionary.items():\u001b[39;00m\n\u001b[1;32m    131\u001b[0m     \u001b[38;5;66;03m#     if key in data_key:\u001b[39;00m\n\u001b[0;32m   (...)\u001b[0m\n\u001b[1;32m    137\u001b[0m \u001b[38;5;66;03m# start = datetime.datetime.now()\u001b[39;00m\n\u001b[1;32m    138\u001b[0m \u001b[38;5;66;03m#print(data)\u001b[39;00m\n\u001b[1;32m    139\u001b[0m \u001b[38;5;28;01mwith\u001b[39;00m \u001b[38;5;28mopen\u001b[39m(file_name, \u001b[38;5;124m\"\u001b[39m\u001b[38;5;124mw\u001b[39m\u001b[38;5;124m\"\u001b[39m, encoding\u001b[38;5;241m=\u001b[39m\u001b[38;5;124m\"\u001b[39m\u001b[38;5;124mutf-8\u001b[39m\u001b[38;5;124m\"\u001b[39m) \u001b[38;5;28;01mas\u001b[39;00m write_file:\n",
      "File \u001b[0;32m~/anaconda3/envs/ler/lib/python3.10/site-packages/ler/utils/utils.py:322\u001b[0m, in \u001b[0;36madd_dictionaries_together\u001b[0;34m(dictionary1, dictionary2)\u001b[0m\n\u001b[1;32m    320\u001b[0m     dictionary[key] \u001b[38;5;241m=\u001b[39m np\u001b[38;5;241m.\u001b[39mconcatenate((dictionary1[key], dictionary2[key]))\n\u001b[1;32m    321\u001b[0m \u001b[38;5;28;01melif\u001b[39;00m \u001b[38;5;28misinstance\u001b[39m(dictionary1[key], \u001b[38;5;28mlist\u001b[39m):\n\u001b[0;32m--> 322\u001b[0m     dictionary[key] \u001b[38;5;241m=\u001b[39m \u001b[43mdictionary1\u001b[49m\u001b[43m[\u001b[49m\u001b[43mkey\u001b[49m\u001b[43m]\u001b[49m\u001b[43m \u001b[49m\u001b[38;5;241;43m+\u001b[39;49m\u001b[43m \u001b[49m\u001b[43mdictionary2\u001b[49m\u001b[43m[\u001b[49m\u001b[43mkey\u001b[49m\u001b[43m]\u001b[49m\n\u001b[1;32m    323\u001b[0m \u001b[38;5;66;03m# Check if the item is a nested dictionary\u001b[39;00m\n\u001b[1;32m    324\u001b[0m \u001b[38;5;28;01melif\u001b[39;00m \u001b[38;5;28misinstance\u001b[39m(dictionary1[key], \u001b[38;5;28mdict\u001b[39m):\n",
      "\u001b[0;31mValueError\u001b[0m: operands could not be broadcast together with shapes (1971,) (2016,) "
     ]
    }
   ],
   "source": [
    "ler.selecting_n_unlensed_detectable_events(\n",
    "    size=200000,\n",
    "    batch_size=200000,\n",
    "    snr_threshold=6.0,\n",
    "    resume=False,\n",
    "    output_jsonfile='n_unlensed_param_detectable_O4_spur_sub.json',\n",
    "    meta_data_file='meta_unlensed_O4_spur_sub.json',\n",
    "    detectability_condition='step_function',\n",
    "    trim_to_size=False,\n",
    ");"
   ]
  },
  {
   "cell_type": "code",
   "execution_count": 22,
   "metadata": {},
   "outputs": [
    {
     "data": {
      "image/png": "[encoded data removed]",
      "text/plain": [
       "<Figure size 600x400 with 1 Axes>"
      ]
     },
     "metadata": {},
     "output_type": "display_data"
    }
   ],
   "source": [
    "# getting data from json\n",
    "meta_data= get_param_from_json(\"./ler_data/meta_unlensed_O4_spur_sub.json\")\n",
    "\n",
    "# plot the rate vs sampling size\n",
    "plt.figure(figsize=(6,4))\n",
    "plt.plot(meta_data['events_total'], meta_data['total_rate'], 'o-')\n",
    "plt.xlabel('Sampling size')\n",
    "plt.ylabel('Rate (per year)')\n",
    "plt.title('Rate vs Sampling size')\n",
    "plt.grid(alpha=0.4)\n",
    "plt.show()"
   ]
  },
  {
   "cell_type": "markdown",
   "metadata": {},
   "source": [
    "### Sub+Super"
   ]
  },
  {
   "cell_type": "code",
   "execution_count": 24,
   "metadata": {},
   "outputs": [
    {
     "name": "stdout",
     "output_type": "stream",
     "text": [
      "Unlensed GW Rate (per year) = 1009.3172428615774\n"
     ]
    }
   ],
   "source": [
    "# select only events after sampling size of \n",
    "idx = np.where(meta_data['events_total'] > 1.50e7)[0]\n",
    "# take average \n",
    "gw_rate_unlensed1 = np.mean(meta_data['total_rate'][idx])\n",
    "print('Unlensed GW Rate (per year), SNR>6 =', gw_rate_unlensed1)"
   ]
  },
  {
   "cell_type": "markdown",
   "metadata": {},
   "source": [
    "### Super"
   ]
  },
  {
   "cell_type": "code",
   "execution_count": 25,
   "metadata": {},
   "outputs": [],
   "source": [
    "unlensed_param = get_param_from_json(\"./ler_data/n_unlensed_param_detectable_O4_spur_sub.json\")"
   ]
  },
  {
   "cell_type": "code",
   "execution_count": 27,
   "metadata": {},
   "outputs": [
    {
     "name": "stdout",
     "output_type": "stream",
     "text": [
      "Unlensed GW Rate (per year), SNR>8 = 435.3390388096821\n"
     ]
    }
   ],
   "source": [
    "snr = unlensed_param['optimal_snr_net']\n",
    "idx = snr>8.0\n",
    "snr8_vs_snr6 = np.sum(idx)/len(snr)\n",
    "print('Unlensed GW Rate (per year), SNR>8 =', gw_rate_unlensed1*snr8_vs_snr6) "
   ]
  },
  {
   "cell_type": "markdown",
   "metadata": {},
   "source": [
    "## Lensed events"
   ]
  },
  {
   "cell_type": "code",
   "execution_count": 28,
   "metadata": {},
   "outputs": [
    {
     "name": "stdout",
     "output_type": "stream",
     "text": [
      "\u001b[0;31mSignature:\u001b[0m\n",
      "\u001b[0mler\u001b[0m\u001b[0;34m.\u001b[0m\u001b[0mselecting_n_lensed_detectable_events\u001b[0m\u001b[0;34m(\u001b[0m\u001b[0;34m\u001b[0m\n",
      "\u001b[0;34m\u001b[0m    \u001b[0msize\u001b[0m\u001b[0;34m=\u001b[0m\u001b[0;36m100\u001b[0m\u001b[0;34m,\u001b[0m\u001b[0;34m\u001b[0m\n",
      "\u001b[0;34m\u001b[0m    \u001b[0mbatch_size\u001b[0m\u001b[0;34m=\u001b[0m\u001b[0;32mNone\u001b[0m\u001b[0;34m,\u001b[0m\u001b[0;34m\u001b[0m\n",
      "\u001b[0;34m\u001b[0m    \u001b[0msnr_threshold\u001b[0m\u001b[0;34m=\u001b[0m\u001b[0;34m[\u001b[0m\u001b[0;36m8.0\u001b[0m\u001b[0;34m,\u001b[0m \u001b[0;36m8.0\u001b[0m\u001b[0;34m]\u001b[0m\u001b[0;34m,\u001b[0m\u001b[0;34m\u001b[0m\n",
      "\u001b[0;34m\u001b[0m    \u001b[0mnum_img\u001b[0m\u001b[0;34m=\u001b[0m\u001b[0;34m[\u001b[0m\u001b[0;36m1\u001b[0m\u001b[0;34m,\u001b[0m \u001b[0;36m1\u001b[0m\u001b[0;34m]\u001b[0m\u001b[0;34m,\u001b[0m\u001b[0;34m\u001b[0m\n",
      "\u001b[0;34m\u001b[0m    \u001b[0mresume\u001b[0m\u001b[0;34m=\u001b[0m\u001b[0;32mFalse\u001b[0m\u001b[0;34m,\u001b[0m\u001b[0;34m\u001b[0m\n",
      "\u001b[0;34m\u001b[0m    \u001b[0mdetectability_condition\u001b[0m\u001b[0;34m=\u001b[0m\u001b[0;34m'step_function'\u001b[0m\u001b[0;34m,\u001b[0m\u001b[0;34m\u001b[0m\n",
      "\u001b[0;34m\u001b[0m    \u001b[0moutput_jsonfile\u001b[0m\u001b[0;34m=\u001b[0m\u001b[0;34m'n_lensed_params_detectable.json'\u001b[0m\u001b[0;34m,\u001b[0m\u001b[0;34m\u001b[0m\n",
      "\u001b[0;34m\u001b[0m    \u001b[0mmeta_data_file\u001b[0m\u001b[0;34m=\u001b[0m\u001b[0;34m'meta_lensed.json'\u001b[0m\u001b[0;34m,\u001b[0m\u001b[0;34m\u001b[0m\n",
      "\u001b[0;34m\u001b[0m    \u001b[0mtrim_to_size\u001b[0m\u001b[0;34m=\u001b[0m\u001b[0;32mTrue\u001b[0m\u001b[0;34m,\u001b[0m\u001b[0;34m\u001b[0m\n",
      "\u001b[0;34m\u001b[0m    \u001b[0mnan_to_num\u001b[0m\u001b[0;34m=\u001b[0m\u001b[0;32mFalse\u001b[0m\u001b[0;34m,\u001b[0m\u001b[0;34m\u001b[0m\n",
      "\u001b[0;34m\u001b[0m    \u001b[0msnr_recalculation\u001b[0m\u001b[0;34m=\u001b[0m\u001b[0;32mFalse\u001b[0m\u001b[0;34m,\u001b[0m\u001b[0;34m\u001b[0m\n",
      "\u001b[0;34m\u001b[0m    \u001b[0msnr_threshold_recalculation\u001b[0m\u001b[0;34m=\u001b[0m\u001b[0;34m[\u001b[0m\u001b[0;36m5.5\u001b[0m\u001b[0;34m,\u001b[0m \u001b[0;36m5.5\u001b[0m\u001b[0;34m]\u001b[0m\u001b[0;34m,\u001b[0m\u001b[0;34m\u001b[0m\n",
      "\u001b[0;34m\u001b[0m\u001b[0;34m)\u001b[0m\u001b[0;34m\u001b[0m\u001b[0;34m\u001b[0m\u001b[0m\n",
      "\u001b[0;31mDocstring:\u001b[0m\n",
      "Function to select n lensed detectable events.\n",
      "\n",
      "Parameters\n",
      "----------\n",
      "size : `int`\n",
      "    number of samples to be selected.\n",
      "    default size = 100.\n",
      "snr_threshold : `float`\n",
      "    threshold for detection signal to noise ratio.\n",
      "    e.g. snr_threshold = 8.\n",
      "num_img : `int`\n",
      "    number of images.\n",
      "    default num_img = 2.\n",
      "resume : `bool`\n",
      "    if True, it will resume the sampling from the last batch.\n",
      "    default resume = False.\n",
      "detectability_condition : `str`\n",
      "    detectability condition.\n",
      "    default detectability_condition = 'step_function'.\n",
      "    other options are 'pdet'.\n",
      "output_jsonfile : `str`\n",
      "    json file name for storing the parameters.\n",
      "\n",
      "Returns\n",
      "----------\n",
      "param_final : `dict`\n",
      "    dictionary of lensed GW source parameters of the detectable events.\n",
      "    param_final.keys() =\n",
      "\n",
      "Examples\n",
      "----------\n",
      ">>> from ler.rates import LeR\n",
      ">>> ler = LeR()\n",
      ">>> lensed_param_final = ler.selecting_n_lensed_detectable_events(size=500)\n",
      "\u001b[0;31mFile:\u001b[0m      ~/phd/mypackages/ler/ler/rates/ler.py\n",
      "\u001b[0;31mType:\u001b[0m      method"
     ]
    }
   ],
   "source": [
    "ler.selecting_n_lensed_detectable_events(\n",
    "    size=100,\n",
    "    batch_size=None,\n",
    "    snr_threshold=[8.0, 8.0],\n",
    "    num_img=[1, 1],\n",
    "    resume=False,\n",
    "    detectability_condition='step_function',\n",
    "    output_jsonfile='n_lensed_params_detectable.json',\n",
    "    meta_data_file='meta_lensed.json',\n",
    "    trim_to_size=True,\n",
    "    nan_to_num=False,\n",
    ")"
   ]
  },
  {
   "cell_type": "code",
   "execution_count": 1,
   "metadata": {},
   "outputs": [
    {
     "name": "stdout",
     "output_type": "stream",
     "text": [
      "INFO:numexpr.utils:NumExpr defaulting to 10 threads.\n"
     ]
    },
    {
     "data": {
      "text/plain": [
       "'0.4.0'"
      ]
     },
     "execution_count": 1,
     "metadata": {},
     "output_type": "execute_result"
    }
   ],
   "source": [
    "import ler\n",
    "ler.__version__"
   ]
  },
  {
   "cell_type": "code",
   "execution_count": null,
   "metadata": {},
   "outputs": [],
   "source": []
  },
  {
   "cell_type": "code",
   "execution_count": null,
   "metadata": {},
   "outputs": [],
   "source": []
  },
  {
   "cell_type": "code",
   "execution_count": null,
   "metadata": {},
   "outputs": [],
   "source": []
  }
 ],
 "metadata": {
  "kernelspec": {
   "display_name": "ler",
   "language": "python",
   "name": "python3"
  },
  "language_info": {
   "codemirror_mode": {
    "name": "ipython",
    "version": 3
   },
   "file_extension": ".py",
   "mimetype": "text/x-python",
   "name": "python",
   "nbconvert_exporter": "python",
   "pygments_lexer": "ipython3",
   "version": "3.10.14"
  }
 },
 "nbformat": 4,
 "nbformat_minor": 2
}
